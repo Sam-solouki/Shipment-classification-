{
 "cells": [
  {
   "cell_type": "markdown",
   "id": "54556737",
   "metadata": {},
   "source": [
    "# Project Definition"
   ]
  },
  {
   "cell_type": "markdown",
   "id": "ecf7c995",
   "metadata": {},
   "source": [
    "This is a classification supervised machine learning using KNN model to classify records into 2 groups of **On time delivery** and **Delayed delivery**. The dataset,_Supply Chain Shipment Pricing Data_, used to train the model has been downloaded form data.gov. The data set identifies Antiretroviral (ARV) and HIV lab shipments to supported countries.The data are particularly valuable for understanding ranges and trends in pricing, shipment schedule as well as volumes delivered by country."
   ]
  },
  {
   "cell_type": "markdown",
   "id": "d7d43b63",
   "metadata": {},
   "source": [
    "# Steps "
   ]
  },
  {
   "cell_type": "markdown",
   "id": "17a39478",
   "metadata": {},
   "source": [
    "According to CRISP-DM process the steps of performing the modeling is as follows:\n",
    "1. Business Undrestanding \n",
    "1. Data Undrestanding\n",
    "1. Data Preparation\n",
    "1. Modeling"
   ]
  },
  {
   "cell_type": "markdown",
   "id": "33e12d64",
   "metadata": {},
   "source": [
    "##### Step 1: _imporing required libraries:_"
   ]
  },
  {
   "cell_type": "code",
   "execution_count": null,
   "id": "9edcf304",
   "metadata": {},
   "outputs": [],
   "source": [
    "import numpy as np\n",
    "import pandas as pd\n",
    "import matplotlib.pyplot as plt\n",
    "# import pandasgui\n",
    "from datetime import timedelta\n",
    "\n",
    "from sklearn.impute import SimpleImputer \n",
    "from sklearn.impute import KNNImputer\n",
    "\n",
    "from sklearn.model_selection import train_test_split\n",
    "from sklearn.preprocessing import StandardScaler, OneHotEncoder,MinMaxScaler\n",
    "from sklearn.compose import ColumnTransformer\n",
    "from sklearn.pipeline import Pipeline\n",
    "from sklearn.model_selection import  GridSearchCV\n",
    "\n",
    "from sklearn.neighbors import KNeighborsClassifier\n",
    "from sklearn.svm import SVC\n",
    "from sklearn.tree import DecisionTreeClassifier\n",
    "import statsmodels.api as sm\n",
    "from sklearn.naive_bayes import GaussianNB\n",
    "from sklearn.ensemble import RandomForestClassifier\n",
    "\n",
    "from sklearn.metrics import accuracy_score, precision_score, recall_score, f1_score\n",
    "\n",
    "# from skfeature.function.similarity_based import fisher_score\n"
   ]
  },
  {
   "cell_type": "markdown",
   "id": "87f44dbe",
   "metadata": {},
   "source": [
    "##### Step 2: _importing data_"
   ]
  },
  {
   "cell_type": "code",
   "execution_count": 6,
   "id": "b603cfaa",
   "metadata": {},
   "outputs": [],
   "source": [
    "dta=pd.read_csv(\"C:/Users/Lenovo/Desktop/Edition 2 -Supply_Chain_Shipment_Pricing_Data.csv\")"
   ]
  },
  {
   "cell_type": "markdown",
   "id": "32918631",
   "metadata": {},
   "source": [
    "# Data Undrestanding"
   ]
  },
  {
   "cell_type": "markdown",
   "id": "91f74b75",
   "metadata": {},
   "source": [
    "##### Step 3: _Trying to Undrestand the data using methods like: head, info, columns, describe ,etc._"
   ]
  },
  {
   "cell_type": "code",
   "execution_count": 40,
   "id": "dcb56124",
   "metadata": {
    "scrolled": true
   },
   "outputs": [
    {
     "data": {
      "text/html": [
       "<div>\n",
       "<style scoped>\n",
       "    .dataframe tbody tr th:only-of-type {\n",
       "        vertical-align: middle;\n",
       "    }\n",
       "\n",
       "    .dataframe tbody tr th {\n",
       "        vertical-align: top;\n",
       "    }\n",
       "\n",
       "    .dataframe thead th {\n",
       "        text-align: right;\n",
       "    }\n",
       "</style>\n",
       "<table border=\"1\" class=\"dataframe\">\n",
       "  <thead>\n",
       "    <tr style=\"text-align: right;\">\n",
       "      <th></th>\n",
       "      <th>Unnamed: 0</th>\n",
       "      <th>1</th>\n",
       "      <th>2</th>\n",
       "      <th>3</th>\n",
       "      <th>4</th>\n",
       "      <th>5</th>\n",
       "      <th>6</th>\n",
       "      <th>7</th>\n",
       "      <th>8</th>\n",
       "      <th>9</th>\n",
       "      <th>...</th>\n",
       "      <th>18</th>\n",
       "      <th>19</th>\n",
       "      <th>20</th>\n",
       "      <th>21</th>\n",
       "      <th>22</th>\n",
       "      <th>23</th>\n",
       "      <th>24</th>\n",
       "      <th>25</th>\n",
       "      <th>26</th>\n",
       "      <th>27</th>\n",
       "    </tr>\n",
       "  </thead>\n",
       "  <tbody>\n",
       "    <tr>\n",
       "      <th>0</th>\n",
       "      <td>id</td>\n",
       "      <td>country</td>\n",
       "      <td>managed by</td>\n",
       "      <td>fulfill via</td>\n",
       "      <td>vendor inco term</td>\n",
       "      <td>shipment mode</td>\n",
       "      <td>pq first sent to client date</td>\n",
       "      <td>po sent to vendor date</td>\n",
       "      <td>scheduled delivery date</td>\n",
       "      <td>delivered to client date</td>\n",
       "      <td>...</td>\n",
       "      <td>unit of measure (per pack)</td>\n",
       "      <td>line item quantity</td>\n",
       "      <td>line item value</td>\n",
       "      <td>pack price</td>\n",
       "      <td>unit price</td>\n",
       "      <td>manufacturing site</td>\n",
       "      <td>first line designation</td>\n",
       "      <td>weight (kilograms)</td>\n",
       "      <td>freight cost (usd)</td>\n",
       "      <td>line item insurance (usd)</td>\n",
       "    </tr>\n",
       "    <tr>\n",
       "      <th>1</th>\n",
       "      <td>Explaination of the feature</td>\n",
       "      <td>Destination country</td>\n",
       "      <td>SCMS managing office: either the Program Manag...</td>\n",
       "      <td>Method through which the shipment was fulfille...</td>\n",
       "      <td>The vendor INCO term (also known as Internatio...</td>\n",
       "      <td>Method by which commodities are shipped</td>\n",
       "      <td>Date the PQ is first sent to the client</td>\n",
       "      <td>Date the PO is first sent to the vendor</td>\n",
       "      <td>Current anticipated delivery date</td>\n",
       "      <td>Date of delivery to client</td>\n",
       "      <td>...</td>\n",
       "      <td>Pack quantity (pills or test kits) used to com...</td>\n",
       "      <td>Total quantity (packs) of commodity per line item</td>\n",
       "      <td>Total value of commodity per line item</td>\n",
       "      <td>Cost per pack (i.e. month s supply of ARVs, pa...</td>\n",
       "      <td>Cost per pill (for drugs) or per test (for tes...</td>\n",
       "      <td>Identifies manufacturing site for the line ite...</td>\n",
       "      <td>Designates if the line in question shows the a...</td>\n",
       "      <td>Weight for all lines on an ASN DN</td>\n",
       "      <td>Freight charges associated with all lines on t...</td>\n",
       "      <td>Line item cost of insurance, created by applyi...</td>\n",
       "    </tr>\n",
       "    <tr>\n",
       "      <th>2</th>\n",
       "      <td>1</td>\n",
       "      <td>Côte d'Ivoire</td>\n",
       "      <td>PMO - US</td>\n",
       "      <td>Direct Drop</td>\n",
       "      <td>EXW</td>\n",
       "      <td>Air</td>\n",
       "      <td>Pre-PQ Process</td>\n",
       "      <td>Date Not Captured</td>\n",
       "      <td>2-Jun-06</td>\n",
       "      <td>2-Jun-06</td>\n",
       "      <td>...</td>\n",
       "      <td>30</td>\n",
       "      <td>19</td>\n",
       "      <td>551</td>\n",
       "      <td>29</td>\n",
       "      <td>0.97</td>\n",
       "      <td>Ranbaxy Fine Chemicals LTD</td>\n",
       "      <td>TRUE</td>\n",
       "      <td>13</td>\n",
       "      <td>780.34</td>\n",
       "      <td>NaN</td>\n",
       "    </tr>\n",
       "  </tbody>\n",
       "</table>\n",
       "<p>3 rows × 28 columns</p>\n",
       "</div>"
      ],
      "text/plain": [
       "                    Unnamed: 0                    1  \\\n",
       "0                           id              country   \n",
       "1  Explaination of the feature  Destination country   \n",
       "2                            1        Côte d'Ivoire   \n",
       "\n",
       "                                                   2  \\\n",
       "0                                         managed by   \n",
       "1  SCMS managing office: either the Program Manag...   \n",
       "2                                           PMO - US   \n",
       "\n",
       "                                                   3  \\\n",
       "0                                        fulfill via   \n",
       "1  Method through which the shipment was fulfille...   \n",
       "2                                        Direct Drop   \n",
       "\n",
       "                                                   4  \\\n",
       "0                                   vendor inco term   \n",
       "1  The vendor INCO term (also known as Internatio...   \n",
       "2                                                EXW   \n",
       "\n",
       "                                         5  \\\n",
       "0                            shipment mode   \n",
       "1  Method by which commodities are shipped   \n",
       "2                                      Air   \n",
       "\n",
       "                                         6  \\\n",
       "0             pq first sent to client date   \n",
       "1  Date the PQ is first sent to the client   \n",
       "2                           Pre-PQ Process   \n",
       "\n",
       "                                         7                                  8  \\\n",
       "0                   po sent to vendor date            scheduled delivery date   \n",
       "1  Date the PO is first sent to the vendor  Current anticipated delivery date   \n",
       "2                        Date Not Captured                           2-Jun-06   \n",
       "\n",
       "                            9  ...  \\\n",
       "0    delivered to client date  ...   \n",
       "1  Date of delivery to client  ...   \n",
       "2                    2-Jun-06  ...   \n",
       "\n",
       "                                                  18  \\\n",
       "0                         unit of measure (per pack)   \n",
       "1  Pack quantity (pills or test kits) used to com...   \n",
       "2                                                 30   \n",
       "\n",
       "                                                  19  \\\n",
       "0                                 line item quantity   \n",
       "1  Total quantity (packs) of commodity per line item   \n",
       "2                                                 19   \n",
       "\n",
       "                                       20  \\\n",
       "0                         line item value   \n",
       "1  Total value of commodity per line item   \n",
       "2                                     551   \n",
       "\n",
       "                                                  21  \\\n",
       "0                                         pack price   \n",
       "1  Cost per pack (i.e. month s supply of ARVs, pa...   \n",
       "2                                                 29   \n",
       "\n",
       "                                                  22  \\\n",
       "0                                         unit price   \n",
       "1  Cost per pill (for drugs) or per test (for tes...   \n",
       "2                                               0.97   \n",
       "\n",
       "                                                  23  \\\n",
       "0                                 manufacturing site   \n",
       "1  Identifies manufacturing site for the line ite...   \n",
       "2                         Ranbaxy Fine Chemicals LTD   \n",
       "\n",
       "                                                  24  \\\n",
       "0                             first line designation   \n",
       "1  Designates if the line in question shows the a...   \n",
       "2                                               TRUE   \n",
       "\n",
       "                                  25  \\\n",
       "0                 weight (kilograms)   \n",
       "1  Weight for all lines on an ASN DN   \n",
       "2                                 13   \n",
       "\n",
       "                                                  26  \\\n",
       "0                                 freight cost (usd)   \n",
       "1  Freight charges associated with all lines on t...   \n",
       "2                                             780.34   \n",
       "\n",
       "                                                  27  \n",
       "0                          line item insurance (usd)  \n",
       "1  Line item cost of insurance, created by applyi...  \n",
       "2                                                NaN  \n",
       "\n",
       "[3 rows x 28 columns]"
      ]
     },
     "execution_count": 40,
     "metadata": {},
     "output_type": "execute_result"
    }
   ],
   "source": [
    "dta.head(3)"
   ]
  },
  {
   "cell_type": "code",
   "execution_count": 41,
   "id": "8457a895",
   "metadata": {
    "scrolled": true
   },
   "outputs": [
    {
     "data": {
      "text/plain": [
       "RangeIndex(start=0, stop=10326, step=1)"
      ]
     },
     "execution_count": 41,
     "metadata": {},
     "output_type": "execute_result"
    }
   ],
   "source": [
    "dta.index"
   ]
  },
  {
   "cell_type": "code",
   "execution_count": 42,
   "id": "692bf19f",
   "metadata": {},
   "outputs": [
    {
     "data": {
      "text/plain": [
       "Index(['Unnamed: 0', '1', '2', '3', '4', '5', '6', '7', '8', '9', '10', '11',\n",
       "       '12', '13', '14', '15', '16', '17', '18', '19', '20', '21', '22', '23',\n",
       "       '24', '25', '26', '27'],\n",
       "      dtype='object')"
      ]
     },
     "execution_count": 42,
     "metadata": {},
     "output_type": "execute_result"
    }
   ],
   "source": [
    "dta.columns"
   ]
  },
  {
   "cell_type": "code",
   "execution_count": 43,
   "id": "539fb7fa",
   "metadata": {},
   "outputs": [
    {
     "data": {
      "text/plain": [
       "(10326, 28)"
      ]
     },
     "execution_count": 43,
     "metadata": {},
     "output_type": "execute_result"
    }
   ],
   "source": [
    "dta.shape"
   ]
  },
  {
   "cell_type": "code",
   "execution_count": 215,
   "id": "7f1d1c7e",
   "metadata": {
    "scrolled": true
   },
   "outputs": [
    {
     "data": {
      "text/plain": [
       "Index(['country', 'managed by', 'fulfill via', 'vendor inco term',\n",
       "       'shipment mode', 'po sent to vendor date', 'scheduled delivery date',\n",
       "       'delivered to client date', 'delivery recorded date', 'product group',\n",
       "       'sub classification', 'vendor', 'molecule/test type', 'brand', 'dosage',\n",
       "       'dosage form', 'unit of measure (per pack)', 'line item quantity',\n",
       "       'line item value', 'pack price', 'unit price', 'manufacturing site',\n",
       "       'first line designation', 'weight (kilograms)', 'freight cost (usd)',\n",
       "       'line item insurance (usd)'],\n",
       "      dtype='object', name=0)"
      ]
     },
     "execution_count": 215,
     "metadata": {},
     "output_type": "execute_result"
    }
   ],
   "source": [
    "dta.columns"
   ]
  },
  {
   "cell_type": "markdown",
   "id": "6608ed85",
   "metadata": {},
   "source": [
    "## EDA via PandasGUI"
   ]
  },
  {
   "cell_type": "code",
   "execution_count": 62,
   "id": "5209278a",
   "metadata": {},
   "outputs": [
    {
     "name": "stderr",
     "output_type": "stream",
     "text": [
      "PandasGUI INFO — pandasgui.gui — Opening PandasGUI\n",
      "C:\\Users\\Lenovo\\anaconda3\\lib\\site-packages\\pandasgui\\widgets\\column_viewer.py:107: FutureWarning: Series.__getitem__ treating keys as positions is deprecated. In a future version, integer keys will always be treated as labels (consistent with DataFrame behavior). To access a value by position, use `ser.iloc[pos]`\n",
      "  [str(sources[i]), str(source_nunique[i]), str(source_types[i])])\n",
      "C:\\Users\\Lenovo\\anaconda3\\lib\\site-packages\\pandasgui\\widgets\\column_viewer.py:107: FutureWarning: Series.__getitem__ treating keys as positions is deprecated. In a future version, integer keys will always be treated as labels (consistent with DataFrame behavior). To access a value by position, use `ser.iloc[pos]`\n",
      "  [str(sources[i]), str(source_nunique[i]), str(source_types[i])])\n",
      "C:\\Users\\Lenovo\\anaconda3\\lib\\site-packages\\pandasgui\\widgets\\column_viewer.py:107: FutureWarning:\n",
      "\n",
      "Series.__getitem__ treating keys as positions is deprecated. In a future version, integer keys will always be treated as labels (consistent with DataFrame behavior). To access a value by position, use `ser.iloc[pos]`\n",
      "\n",
      "C:\\Users\\Lenovo\\anaconda3\\lib\\site-packages\\pandasgui\\widgets\\column_viewer.py:107: FutureWarning:\n",
      "\n",
      "Series.__getitem__ treating keys as positions is deprecated. In a future version, integer keys will always be treated as labels (consistent with DataFrame behavior). To access a value by position, use `ser.iloc[pos]`\n",
      "\n",
      "C:\\Users\\Lenovo\\anaconda3\\lib\\site-packages\\pandasgui\\widgets\\column_viewer.py:107: FutureWarning:\n",
      "\n",
      "Series.__getitem__ treating keys as positions is deprecated. In a future version, integer keys will always be treated as labels (consistent with DataFrame behavior). To access a value by position, use `ser.iloc[pos]`\n",
      "\n",
      "C:\\Users\\Lenovo\\anaconda3\\lib\\site-packages\\pandasgui\\widgets\\column_viewer.py:107: FutureWarning:\n",
      "\n",
      "Series.__getitem__ treating keys as positions is deprecated. In a future version, integer keys will always be treated as labels (consistent with DataFrame behavior). To access a value by position, use `ser.iloc[pos]`\n",
      "\n"
     ]
    },
    {
     "data": {
      "text/plain": [
       "<pandasgui.gui.PandasGui at 0x1f11e905790>"
      ]
     },
     "execution_count": 62,
     "metadata": {},
     "output_type": "execute_result"
    }
   ],
   "source": [
    "import pandasgui\n",
    "da=pd.read_csv(\"C:/Users/Lenovo/Desktop/dta for EDA 1.csv\")\n",
    "da14=pd.read_csv(\"C:/Users/Lenovo/Desktop/dta for EDA 14.csv\")\n",
    "da=pd.concat([da,da14.iloc[:,-1]])\n",
    "notorg=['shipment mode', 'ARV', 'for Adult','line item value', 'unit price','weight (kilograms)','freight cost (usd)', 'line item insurance (usd)', 'On time']\n",
    "org=['country', 'fulfill via','vendor inco term','vendor', 'molecule/test type','dosage form', 'manufacturing site']\n",
    "da4=pd.DataFrame()\n",
    "for i in org:\n",
    "    da4=pd.concat([da4,da.loc[:,i]],axis=1)\n",
    "for i in notorg:\n",
    "    da4=pd.concat([da4,da14.loc[:,i]],axis=1)\n",
    "pandasgui.show(da4)"
   ]
  },
  {
   "cell_type": "markdown",
   "id": "bdfb76cf",
   "metadata": {},
   "source": [
    "##### Step 4: _omitting redundant rows and columns in the original csv file_"
   ]
  },
  {
   "cell_type": "code",
   "execution_count": 7,
   "id": "a79b48ee",
   "metadata": {},
   "outputs": [],
   "source": [
    "dta.columns=dta.iloc[0,:]\n",
    "dta=dta.iloc[2:,1:]\n",
    "dta=dta.drop('pq first sent to client date',axis=1)\n",
    "dta.index=np.arange(dta.shape[0])"
   ]
  },
  {
   "cell_type": "code",
   "execution_count": 4,
   "id": "772e1465",
   "metadata": {
    "scrolled": false
   },
   "outputs": [
    {
     "data": {
      "text/html": [
       "<div>\n",
       "<style scoped>\n",
       "    .dataframe tbody tr th:only-of-type {\n",
       "        vertical-align: middle;\n",
       "    }\n",
       "\n",
       "    .dataframe tbody tr th {\n",
       "        vertical-align: top;\n",
       "    }\n",
       "\n",
       "    .dataframe thead th {\n",
       "        text-align: right;\n",
       "    }\n",
       "</style>\n",
       "<table border=\"1\" class=\"dataframe\">\n",
       "  <thead>\n",
       "    <tr style=\"text-align: right;\">\n",
       "      <th></th>\n",
       "      <th>country</th>\n",
       "      <th>managed by</th>\n",
       "      <th>fulfill via</th>\n",
       "      <th>vendor inco term</th>\n",
       "      <th>shipment mode</th>\n",
       "      <th>po sent to vendor date</th>\n",
       "      <th>scheduled delivery date</th>\n",
       "      <th>delivered to client date</th>\n",
       "      <th>delivery recorded date</th>\n",
       "      <th>product group</th>\n",
       "      <th>...</th>\n",
       "      <th>unit of measure (per pack)</th>\n",
       "      <th>line item quantity</th>\n",
       "      <th>line item value</th>\n",
       "      <th>pack price</th>\n",
       "      <th>unit price</th>\n",
       "      <th>manufacturing site</th>\n",
       "      <th>first line designation</th>\n",
       "      <th>weight (kilograms)</th>\n",
       "      <th>freight cost (usd)</th>\n",
       "      <th>line item insurance (usd)</th>\n",
       "    </tr>\n",
       "  </thead>\n",
       "  <tbody>\n",
       "    <tr>\n",
       "      <th>0</th>\n",
       "      <td>Côte d'Ivoire</td>\n",
       "      <td>PMO - US</td>\n",
       "      <td>Direct Drop</td>\n",
       "      <td>EXW</td>\n",
       "      <td>Air</td>\n",
       "      <td>Date Not Captured</td>\n",
       "      <td>2-Jun-06</td>\n",
       "      <td>2-Jun-06</td>\n",
       "      <td>2-Jun-06</td>\n",
       "      <td>HRDT</td>\n",
       "      <td>...</td>\n",
       "      <td>30</td>\n",
       "      <td>19</td>\n",
       "      <td>551</td>\n",
       "      <td>29</td>\n",
       "      <td>0.97</td>\n",
       "      <td>Ranbaxy Fine Chemicals LTD</td>\n",
       "      <td>TRUE</td>\n",
       "      <td>13</td>\n",
       "      <td>780.34</td>\n",
       "      <td>NaN</td>\n",
       "    </tr>\n",
       "    <tr>\n",
       "      <th>1</th>\n",
       "      <td>Vietnam</td>\n",
       "      <td>PMO - US</td>\n",
       "      <td>Direct Drop</td>\n",
       "      <td>EXW</td>\n",
       "      <td>Air</td>\n",
       "      <td>Date Not Captured</td>\n",
       "      <td>14-Nov-06</td>\n",
       "      <td>14-Nov-06</td>\n",
       "      <td>14-Nov-06</td>\n",
       "      <td>ARV</td>\n",
       "      <td>...</td>\n",
       "      <td>240</td>\n",
       "      <td>1000</td>\n",
       "      <td>6200</td>\n",
       "      <td>6.2</td>\n",
       "      <td>0.03</td>\n",
       "      <td>Aurobindo Unit III, India</td>\n",
       "      <td>TRUE</td>\n",
       "      <td>358</td>\n",
       "      <td>4521.5</td>\n",
       "      <td>NaN</td>\n",
       "    </tr>\n",
       "    <tr>\n",
       "      <th>2</th>\n",
       "      <td>Côte d'Ivoire</td>\n",
       "      <td>PMO - US</td>\n",
       "      <td>Direct Drop</td>\n",
       "      <td>FCA</td>\n",
       "      <td>Air</td>\n",
       "      <td>Date Not Captured</td>\n",
       "      <td>27-Aug-06</td>\n",
       "      <td>27-Aug-06</td>\n",
       "      <td>27-Aug-06</td>\n",
       "      <td>HRDT</td>\n",
       "      <td>...</td>\n",
       "      <td>100</td>\n",
       "      <td>500</td>\n",
       "      <td>40000</td>\n",
       "      <td>80</td>\n",
       "      <td>0.8</td>\n",
       "      <td>ABBVIE GmbH &amp; Co.KG Wiesbaden</td>\n",
       "      <td>TRUE</td>\n",
       "      <td>171</td>\n",
       "      <td>1653.78</td>\n",
       "      <td>NaN</td>\n",
       "    </tr>\n",
       "    <tr>\n",
       "      <th>3</th>\n",
       "      <td>Vietnam</td>\n",
       "      <td>PMO - US</td>\n",
       "      <td>Direct Drop</td>\n",
       "      <td>EXW</td>\n",
       "      <td>Air</td>\n",
       "      <td>Date Not Captured</td>\n",
       "      <td>1-Sep-06</td>\n",
       "      <td>1-Sep-06</td>\n",
       "      <td>1-Sep-06</td>\n",
       "      <td>ARV</td>\n",
       "      <td>...</td>\n",
       "      <td>60</td>\n",
       "      <td>31920</td>\n",
       "      <td>127360.8</td>\n",
       "      <td>3.99</td>\n",
       "      <td>0.07</td>\n",
       "      <td>Ranbaxy, Paonta Shahib, India</td>\n",
       "      <td>TRUE</td>\n",
       "      <td>1855</td>\n",
       "      <td>16007.06</td>\n",
       "      <td>NaN</td>\n",
       "    </tr>\n",
       "  </tbody>\n",
       "</table>\n",
       "<p>4 rows × 26 columns</p>\n",
       "</div>"
      ],
      "text/plain": [
       "0        country managed by  fulfill via vendor inco term shipment mode  \\\n",
       "0  Côte d'Ivoire   PMO - US  Direct Drop              EXW           Air   \n",
       "1        Vietnam   PMO - US  Direct Drop              EXW           Air   \n",
       "2  Côte d'Ivoire   PMO - US  Direct Drop              FCA           Air   \n",
       "3        Vietnam   PMO - US  Direct Drop              EXW           Air   \n",
       "\n",
       "0 po sent to vendor date scheduled delivery date delivered to client date  \\\n",
       "0      Date Not Captured                2-Jun-06                 2-Jun-06   \n",
       "1      Date Not Captured               14-Nov-06                14-Nov-06   \n",
       "2      Date Not Captured               27-Aug-06                27-Aug-06   \n",
       "3      Date Not Captured                1-Sep-06                 1-Sep-06   \n",
       "\n",
       "0 delivery recorded date product group  ... unit of measure (per pack)  \\\n",
       "0               2-Jun-06          HRDT  ...                         30   \n",
       "1              14-Nov-06           ARV  ...                        240   \n",
       "2              27-Aug-06          HRDT  ...                        100   \n",
       "3               1-Sep-06           ARV  ...                         60   \n",
       "\n",
       "0 line item quantity line item value pack price unit price  \\\n",
       "0                 19             551         29       0.97   \n",
       "1               1000            6200        6.2       0.03   \n",
       "2                500           40000         80        0.8   \n",
       "3              31920        127360.8       3.99       0.07   \n",
       "\n",
       "0             manufacturing site first line designation weight (kilograms)  \\\n",
       "0     Ranbaxy Fine Chemicals LTD                   TRUE                 13   \n",
       "1      Aurobindo Unit III, India                   TRUE                358   \n",
       "2  ABBVIE GmbH & Co.KG Wiesbaden                   TRUE                171   \n",
       "3  Ranbaxy, Paonta Shahib, India                   TRUE               1855   \n",
       "\n",
       "0 freight cost (usd) line item insurance (usd)  \n",
       "0             780.34                       NaN  \n",
       "1             4521.5                       NaN  \n",
       "2            1653.78                       NaN  \n",
       "3           16007.06                       NaN  \n",
       "\n",
       "[4 rows x 26 columns]"
      ]
     },
     "execution_count": 4,
     "metadata": {},
     "output_type": "execute_result"
    }
   ],
   "source": [
    "dta.head(4)"
   ]
  },
  {
   "cell_type": "code",
   "execution_count": 47,
   "id": "48124732",
   "metadata": {
    "scrolled": false
   },
   "outputs": [
    {
     "data": {
      "text/plain": [
       "Index(['country', 'managed by', 'fulfill via', 'vendor inco term',\n",
       "       'shipment mode', 'po sent to vendor date', 'scheduled delivery date',\n",
       "       'delivered to client date', 'delivery recorded date', 'product group',\n",
       "       'sub classification', 'vendor', 'molecule/test type', 'brand', 'dosage',\n",
       "       'dosage form', 'unit of measure (per pack)', 'line item quantity',\n",
       "       'line item value', 'pack price', 'unit price', 'manufacturing site',\n",
       "       'first line designation', 'weight (kilograms)', 'freight cost (usd)',\n",
       "       'line item insurance (usd)'],\n",
       "      dtype='object', name=0)"
      ]
     },
     "execution_count": 47,
     "metadata": {},
     "output_type": "execute_result"
    }
   ],
   "source": [
    "dta.columns"
   ]
  },
  {
   "cell_type": "code",
   "execution_count": 4,
   "id": "4eaf652d",
   "metadata": {},
   "outputs": [
    {
     "name": "stdout",
     "output_type": "stream",
     "text": [
      "feature country: NaN: 0\n",
      "feature managed by: NaN: 0\n",
      "feature fulfill via: NaN: 0\n",
      "feature vendor inco term: NaN: 0\n",
      "feature shipment mode: NaN: 360\n",
      "feature po sent to vendor date: NaN: 0\n",
      "feature scheduled delivery date: NaN: 0\n",
      "feature delivered to client date: NaN: 0\n",
      "feature delivery recorded date: NaN: 0\n",
      "feature product group: NaN: 0\n",
      "feature sub classification: NaN: 0\n",
      "feature vendor: NaN: 0\n",
      "feature molecule/test type: NaN: 0\n",
      "feature brand: NaN: 0\n",
      "feature dosage: NaN: 1736\n",
      "feature dosage form: NaN: 0\n",
      "feature unit of measure (per pack): NaN: 0\n",
      "feature line item quantity: NaN: 0\n",
      "feature line item value: NaN: 0\n",
      "feature pack price: NaN: 0\n",
      "feature unit price: NaN: 0\n",
      "feature manufacturing site: NaN: 0\n",
      "feature first line designation: NaN: 0\n",
      "feature weight (kilograms): NaN: 0\n",
      "feature freight cost (usd): NaN: 0\n",
      "feature line item insurance (usd): NaN: 287\n"
     ]
    }
   ],
   "source": [
    "for i in range(0,dta.shape[1]):\n",
    "    print('feature {}: NaN: {}'.format(dta.columns[i],sum(dta.iloc[:,i].isna())))"
   ]
  },
  {
   "cell_type": "markdown",
   "id": "20f92d6e",
   "metadata": {},
   "source": [
    "##### Step 5: _evaluating categorical features_"
   ]
  },
  {
   "cell_type": "code",
   "execution_count": 8,
   "id": "1a713681",
   "metadata": {
    "scrolled": true
   },
   "outputs": [
    {
     "data": {
      "text/plain": [
       "array([\"Côte d'Ivoire\", 'Vietnam', 'Nigeria', 'Zambia', 'Tanzania',\n",
       "       'Rwanda', 'Haiti', 'Zimbabwe', 'Ethiopia', 'South Africa',\n",
       "       'Guyana', 'Namibia', 'Botswana', 'Mozambique', 'Kenya',\n",
       "       'Kazakhstan', 'Uganda', 'Kyrgyzstan', 'Senegal', 'Benin',\n",
       "       'Lesotho', 'Pakistan', 'Swaziland', 'Ghana', 'Angola', 'Lebanon',\n",
       "       'Sierra Leone', 'Cameroon', 'South Sudan', 'Burundi',\n",
       "       'Dominican Republic', 'Malawi', 'Congo, DRC', 'Sudan', 'Mali',\n",
       "       'Guatemala', 'Togo', 'Afghanistan', 'Liberia', 'Burkina Faso',\n",
       "       'Guinea', 'Libya', 'Belize'], dtype=object)"
      ]
     },
     "execution_count": 8,
     "metadata": {},
     "output_type": "execute_result"
    }
   ],
   "source": [
    "dta.loc[:,'country'] .unique()"
   ]
  },
  {
   "cell_type": "code",
   "execution_count": 9,
   "id": "8d385140",
   "metadata": {
    "scrolled": true
   },
   "outputs": [
    {
     "name": "stdout",
     "output_type": "stream",
     "text": [
      "******** country *******\n",
      "country\n",
      "South Africa          1406\n",
      "Nigeria               1194\n",
      "Côte d'Ivoire         1083\n",
      "Uganda                 779\n",
      "Vietnam                688\n",
      "Zambia                 683\n",
      "Haiti                  655\n",
      "Mozambique             631\n",
      "Zimbabwe               538\n",
      "Tanzania               519\n",
      "Rwanda                 430\n",
      "Congo, DRC             333\n",
      "Guyana                 237\n",
      "Ethiopia               216\n",
      "South Sudan            164\n",
      "Kenya                  111\n",
      "Burundi                 98\n",
      "Namibia                 95\n",
      "Cameroon                75\n",
      "Botswana                70\n",
      "Ghana                   58\n",
      "Dominican Republic      52\n",
      "Sudan                   46\n",
      "Swaziland               35\n",
      "Mali                    17\n",
      "Guatemala               15\n",
      "Pakistan                15\n",
      "Malawi                  14\n",
      "Benin                   13\n",
      "Lebanon                  8\n",
      "Libya                    8\n",
      "Angola                   7\n",
      "Liberia                  6\n",
      "Sierra Leone             4\n",
      "Lesotho                  4\n",
      "Senegal                  3\n",
      "Togo                     3\n",
      "Afghanistan              3\n",
      "Kyrgyzstan               2\n",
      "Kazakhstan               2\n",
      "Burkina Faso             2\n",
      "Guinea                   1\n",
      "Belize                   1\n",
      "Name: count, dtype: int64 \n",
      " \n",
      " \n",
      "\n",
      "******** managed by *******\n",
      "managed by\n",
      "PMO - US                     10265\n",
      "South Africa Field Office       57\n",
      "Haiti Field Office               1\n",
      "Ethiopia Field Office            1\n",
      "Name: count, dtype: int64 \n",
      " \n",
      " \n",
      "\n",
      "******** fulfill via *******\n",
      "fulfill via\n",
      "From RDC       5404\n",
      "Direct Drop    4920\n",
      "Name: count, dtype: int64 \n",
      " \n",
      " \n",
      "\n",
      "******** vendor inco term *******\n",
      "vendor inco term\n",
      "N/A - From RDC    5404\n",
      "EXW               2778\n",
      "DDP               1443\n",
      "FCA                397\n",
      "CIP                275\n",
      "DDU                 15\n",
      "DAP                  9\n",
      "CIF                  3\n",
      "Name: count, dtype: int64 \n",
      " \n",
      " \n",
      "\n",
      "******** shipment mode *******\n",
      "shipment mode\n",
      "Air            6113\n",
      "Truck          2830\n",
      "Air Charter     650\n",
      "Ocean           371\n",
      "Name: count, dtype: int64 \n",
      " \n",
      " \n",
      "\n"
     ]
    }
   ],
   "source": [
    "for i in range(0,5):\n",
    "    a=dta.iloc[:,i].value_counts()\n",
    "    print(\"********\",dta.columns[i],\"*******\")\n",
    "    print(a,'\\n','\\n','\\n')"
   ]
  },
  {
   "cell_type": "markdown",
   "id": "79326fea",
   "metadata": {},
   "source": [
    "# DATA PREPARATION\n"
   ]
  },
  {
   "cell_type": "markdown",
   "id": "9b2c9992",
   "metadata": {},
   "source": [
    "##### Step 6: _assign countries with less than 400 orders to class \"others\"_"
   ]
  },
  {
   "cell_type": "code",
   "execution_count": 10,
   "id": "1d789894",
   "metadata": {},
   "outputs": [],
   "source": [
    "dta2=dta\n",
    "for i in range(0,dta2.shape[0]):\n",
    "    if not( dta2.iloc[i,0] in [\"South Africa\",\"Nigeria\",\"Côte d'Ivoire\",\"Uganda,Vietnam\",\"Zambia\",\"Haiti\",\"Mozambique\",\"Zimbabwe\",\"Tanzania\",\"Rwanda\"]):      \n",
    "        dta2.iloc[i,0]= \"others\""
   ]
  },
  {
   "cell_type": "code",
   "execution_count": 51,
   "id": "82cbbd7a",
   "metadata": {
    "scrolled": true
   },
   "outputs": [
    {
     "data": {
      "text/plain": [
       "others           3185\n",
       "South Africa     1406\n",
       "Nigeria          1194\n",
       "Côte d'Ivoire    1083\n",
       "Zambia            683\n",
       "Haiti             655\n",
       "Mozambique        631\n",
       "Zimbabwe          538\n",
       "Tanzania          519\n",
       "Rwanda            430\n",
       "Name: country, dtype: int64"
      ]
     },
     "execution_count": 51,
     "metadata": {},
     "output_type": "execute_result"
    }
   ],
   "source": [
    "dta2.country.value_counts()"
   ]
  },
  {
   "cell_type": "markdown",
   "id": "e22fe617",
   "metadata": {},
   "source": [
    "##### Step 7: _considering variable \"managed by\" defines no variance, we decide to omit it_"
   ]
  },
  {
   "cell_type": "code",
   "execution_count": 11,
   "id": "7f4dcf9f",
   "metadata": {},
   "outputs": [],
   "source": [
    "dta2.iloc[:,1].value_counts()\n",
    "dta3=dta2.drop('managed by', axis=1)"
   ]
  },
  {
   "cell_type": "markdown",
   "id": "2af8a2df",
   "metadata": {},
   "source": [
    "##### Step 8: _shipment mode:assign orders with less than 2000 freq to class \"others\"_"
   ]
  },
  {
   "cell_type": "code",
   "execution_count": 53,
   "id": "920a1c04",
   "metadata": {
    "scrolled": false
   },
   "outputs": [],
   "source": [
    "#dta14.loc[:,'shipment mode'].value_counts()"
   ]
  },
  {
   "cell_type": "code",
   "execution_count": 54,
   "id": "bf55cac7",
   "metadata": {},
   "outputs": [],
   "source": [
    "#for i in range(0,dta3.shape[0]):\n",
    "#     if not( dta3.loc[i,'shipment mode'] in ['Air','Truck']):      \n",
    "#         dta3.loc[i,'shipment mode']= \"others\""
   ]
  },
  {
   "cell_type": "markdown",
   "id": "16206790",
   "metadata": {},
   "source": [
    "##### Step 9: _vendor inco term :assign orders with less than 300 frequency to class \"others\"_"
   ]
  },
  {
   "cell_type": "code",
   "execution_count": 12,
   "id": "c6f6a1f1",
   "metadata": {},
   "outputs": [
    {
     "data": {
      "text/plain": [
       "vendor inco term\n",
       "N/A - From RDC    5404\n",
       "EXW               2778\n",
       "DDP               1443\n",
       "FCA                397\n",
       "others             302\n",
       "Name: count, dtype: int64"
      ]
     },
     "execution_count": 12,
     "metadata": {},
     "output_type": "execute_result"
    }
   ],
   "source": [
    "for i in range(0,dta3.shape[0]):\n",
    "    if not( dta3.iloc[i,2] in [\"N/A - From RDC\",\"EXW\",\"DDP\",\"FCA\"]):      \n",
    "        dta3.iloc[i,2]= \"others\"\n",
    "\n",
    "dta3.iloc[:,2].value_counts()"
   ]
  },
  {
   "cell_type": "code",
   "execution_count": 12,
   "id": "4f3255c8",
   "metadata": {},
   "outputs": [],
   "source": [
    "#dta3.to_csv(\"C:/Users/Lenovo/Desktop/myDataaa.csv\")"
   ]
  },
  {
   "cell_type": "markdown",
   "id": "f06b26e6",
   "metadata": {},
   "source": [
    "##### Step 10: _changing type of variables definig dates from \"object\" to \"dates\"_"
   ]
  },
  {
   "cell_type": "code",
   "execution_count": 44,
   "id": "9e64e71e",
   "metadata": {
    "scrolled": true
   },
   "outputs": [
    {
     "data": {
      "text/html": [
       "<div>\n",
       "<style scoped>\n",
       "    .dataframe tbody tr th:only-of-type {\n",
       "        vertical-align: middle;\n",
       "    }\n",
       "\n",
       "    .dataframe tbody tr th {\n",
       "        vertical-align: top;\n",
       "    }\n",
       "\n",
       "    .dataframe thead th {\n",
       "        text-align: right;\n",
       "    }\n",
       "</style>\n",
       "<table border=\"1\" class=\"dataframe\">\n",
       "  <thead>\n",
       "    <tr style=\"text-align: right;\">\n",
       "      <th></th>\n",
       "      <th>country</th>\n",
       "      <th>fulfill via</th>\n",
       "      <th>vendor inco term</th>\n",
       "      <th>shipment mode</th>\n",
       "      <th>po sent to vendor date</th>\n",
       "      <th>scheduled delivery date</th>\n",
       "      <th>delivered to client date</th>\n",
       "      <th>delivery recorded date</th>\n",
       "      <th>product group</th>\n",
       "      <th>sub classification</th>\n",
       "      <th>...</th>\n",
       "      <th>unit of measure (per pack)</th>\n",
       "      <th>line item quantity</th>\n",
       "      <th>line item value</th>\n",
       "      <th>pack price</th>\n",
       "      <th>unit price</th>\n",
       "      <th>manufacturing site</th>\n",
       "      <th>first line designation</th>\n",
       "      <th>weight (kilograms)</th>\n",
       "      <th>freight cost (usd)</th>\n",
       "      <th>line item insurance (usd)</th>\n",
       "    </tr>\n",
       "  </thead>\n",
       "  <tbody>\n",
       "    <tr>\n",
       "      <th>0</th>\n",
       "      <td>Côte d'Ivoire</td>\n",
       "      <td>Direct Drop</td>\n",
       "      <td>EXW</td>\n",
       "      <td>Air</td>\n",
       "      <td>NaT</td>\n",
       "      <td>2006-06-02</td>\n",
       "      <td>2006-06-02</td>\n",
       "      <td>2006-06-02</td>\n",
       "      <td>HRDT</td>\n",
       "      <td>HIV test</td>\n",
       "      <td>...</td>\n",
       "      <td>30</td>\n",
       "      <td>19</td>\n",
       "      <td>551</td>\n",
       "      <td>29</td>\n",
       "      <td>0.97</td>\n",
       "      <td>Ranbaxy Fine Chemicals LTD</td>\n",
       "      <td>TRUE</td>\n",
       "      <td>13</td>\n",
       "      <td>780.34</td>\n",
       "      <td>NaN</td>\n",
       "    </tr>\n",
       "    <tr>\n",
       "      <th>1</th>\n",
       "      <td>others</td>\n",
       "      <td>Direct Drop</td>\n",
       "      <td>EXW</td>\n",
       "      <td>Air</td>\n",
       "      <td>NaT</td>\n",
       "      <td>2006-11-14</td>\n",
       "      <td>2006-11-14</td>\n",
       "      <td>2006-11-14</td>\n",
       "      <td>ARV</td>\n",
       "      <td>Pediatric</td>\n",
       "      <td>...</td>\n",
       "      <td>240</td>\n",
       "      <td>1000</td>\n",
       "      <td>6200</td>\n",
       "      <td>6.2</td>\n",
       "      <td>0.03</td>\n",
       "      <td>Aurobindo Unit III, India</td>\n",
       "      <td>TRUE</td>\n",
       "      <td>358</td>\n",
       "      <td>4521.5</td>\n",
       "      <td>NaN</td>\n",
       "    </tr>\n",
       "    <tr>\n",
       "      <th>2</th>\n",
       "      <td>Côte d'Ivoire</td>\n",
       "      <td>Direct Drop</td>\n",
       "      <td>FCA</td>\n",
       "      <td>Air</td>\n",
       "      <td>NaT</td>\n",
       "      <td>2006-08-27</td>\n",
       "      <td>2006-08-27</td>\n",
       "      <td>2006-08-27</td>\n",
       "      <td>HRDT</td>\n",
       "      <td>HIV test</td>\n",
       "      <td>...</td>\n",
       "      <td>100</td>\n",
       "      <td>500</td>\n",
       "      <td>40000</td>\n",
       "      <td>80</td>\n",
       "      <td>0.8</td>\n",
       "      <td>ABBVIE GmbH &amp; Co.KG Wiesbaden</td>\n",
       "      <td>TRUE</td>\n",
       "      <td>171</td>\n",
       "      <td>1653.78</td>\n",
       "      <td>NaN</td>\n",
       "    </tr>\n",
       "    <tr>\n",
       "      <th>3</th>\n",
       "      <td>others</td>\n",
       "      <td>Direct Drop</td>\n",
       "      <td>EXW</td>\n",
       "      <td>Air</td>\n",
       "      <td>NaT</td>\n",
       "      <td>2006-09-01</td>\n",
       "      <td>2006-09-01</td>\n",
       "      <td>2006-09-01</td>\n",
       "      <td>ARV</td>\n",
       "      <td>Adult</td>\n",
       "      <td>...</td>\n",
       "      <td>60</td>\n",
       "      <td>31920</td>\n",
       "      <td>127360.8</td>\n",
       "      <td>3.99</td>\n",
       "      <td>0.07</td>\n",
       "      <td>Ranbaxy, Paonta Shahib, India</td>\n",
       "      <td>TRUE</td>\n",
       "      <td>1855</td>\n",
       "      <td>16007.06</td>\n",
       "      <td>NaN</td>\n",
       "    </tr>\n",
       "    <tr>\n",
       "      <th>4</th>\n",
       "      <td>others</td>\n",
       "      <td>Direct Drop</td>\n",
       "      <td>EXW</td>\n",
       "      <td>Air</td>\n",
       "      <td>NaT</td>\n",
       "      <td>2006-08-11</td>\n",
       "      <td>2006-08-11</td>\n",
       "      <td>2006-08-11</td>\n",
       "      <td>ARV</td>\n",
       "      <td>Adult</td>\n",
       "      <td>...</td>\n",
       "      <td>60</td>\n",
       "      <td>38000</td>\n",
       "      <td>121600</td>\n",
       "      <td>3.2</td>\n",
       "      <td>0.05</td>\n",
       "      <td>Aurobindo Unit III, India</td>\n",
       "      <td>TRUE</td>\n",
       "      <td>7590</td>\n",
       "      <td>45450.08</td>\n",
       "      <td>NaN</td>\n",
       "    </tr>\n",
       "  </tbody>\n",
       "</table>\n",
       "<p>5 rows × 25 columns</p>\n",
       "</div>"
      ],
      "text/plain": [
       "0        country  fulfill via vendor inco term shipment mode  \\\n",
       "0  Côte d'Ivoire  Direct Drop              EXW           Air   \n",
       "1         others  Direct Drop              EXW           Air   \n",
       "2  Côte d'Ivoire  Direct Drop              FCA           Air   \n",
       "3         others  Direct Drop              EXW           Air   \n",
       "4         others  Direct Drop              EXW           Air   \n",
       "\n",
       "0 po sent to vendor date scheduled delivery date delivered to client date  \\\n",
       "0                    NaT              2006-06-02               2006-06-02   \n",
       "1                    NaT              2006-11-14               2006-11-14   \n",
       "2                    NaT              2006-08-27               2006-08-27   \n",
       "3                    NaT              2006-09-01               2006-09-01   \n",
       "4                    NaT              2006-08-11               2006-08-11   \n",
       "\n",
       "0 delivery recorded date product group sub classification  ...  \\\n",
       "0             2006-06-02          HRDT           HIV test  ...   \n",
       "1             2006-11-14           ARV          Pediatric  ...   \n",
       "2             2006-08-27          HRDT           HIV test  ...   \n",
       "3             2006-09-01           ARV              Adult  ...   \n",
       "4             2006-08-11           ARV              Adult  ...   \n",
       "\n",
       "0 unit of measure (per pack) line item quantity line item value pack price  \\\n",
       "0                         30                 19             551         29   \n",
       "1                        240               1000            6200        6.2   \n",
       "2                        100                500           40000         80   \n",
       "3                         60              31920        127360.8       3.99   \n",
       "4                         60              38000          121600        3.2   \n",
       "\n",
       "0 unit price             manufacturing site first line designation  \\\n",
       "0       0.97     Ranbaxy Fine Chemicals LTD                   TRUE   \n",
       "1       0.03      Aurobindo Unit III, India                   TRUE   \n",
       "2        0.8  ABBVIE GmbH & Co.KG Wiesbaden                   TRUE   \n",
       "3       0.07  Ranbaxy, Paonta Shahib, India                   TRUE   \n",
       "4       0.05      Aurobindo Unit III, India                   TRUE   \n",
       "\n",
       "0 weight (kilograms) freight cost (usd) line item insurance (usd)  \n",
       "0                 13             780.34                       NaN  \n",
       "1                358             4521.5                       NaN  \n",
       "2                171            1653.78                       NaN  \n",
       "3               1855           16007.06                       NaN  \n",
       "4               7590           45450.08                       NaN  \n",
       "\n",
       "[5 rows x 25 columns]"
      ]
     },
     "execution_count": 44,
     "metadata": {},
     "output_type": "execute_result"
    }
   ],
   "source": [
    "dta4.head()"
   ]
  },
  {
   "cell_type": "code",
   "execution_count": 13,
   "id": "7f5315a1",
   "metadata": {
    "scrolled": false
   },
   "outputs": [],
   "source": [
    "dta4=dta3.copy()\n",
    "dta4.iloc[:,4]=pd.to_datetime(dta4.iloc[:,4],errors='coerce',format='%m/%d/%Y')\n",
    "for i in [5,6,7]:\n",
    "    dta4.iloc[:,i]=pd.to_datetime(dta4.iloc[:,i],errors='coerce',format='%d-%b-%y')\n"
   ]
  },
  {
   "cell_type": "markdown",
   "id": "28a69f38",
   "metadata": {},
   "source": [
    "##### Step 11: _Defining a new binary feature:  ARV_\n"
   ]
  },
  {
   "cell_type": "code",
   "execution_count": 14,
   "id": "1c6b753c",
   "metadata": {},
   "outputs": [],
   "source": [
    "dta5=dta4.copy()\n",
    "dta5.loc[dta5['product group']=='ARV', 'product group'] = 1\n",
    "dta5.loc[dta5['product group']!=1, 'product group'] = 0\n",
    "dta5.rename(columns={dta5.columns[8]: 'ARV'}, inplace=True)"
   ]
  },
  {
   "cell_type": "markdown",
   "id": "10e9b068",
   "metadata": {},
   "source": [
    "##### Step 12: _Defining a new binary feature :for Adult_\n"
   ]
  },
  {
   "cell_type": "code",
   "execution_count": 15,
   "id": "50911dbc",
   "metadata": {
    "scrolled": true
   },
   "outputs": [],
   "source": [
    "dta7=dta5.copy()\n",
    "dta7.loc[ dta7[\"sub classification\"]=='Adult',\"sub classification\"] =1 \n",
    "dta7.loc[ dta7[\"sub classification\"]!=1,\"sub classification\"] =0\n",
    "dta7.rename(columns={dta7.columns[dta7.columns.to_list().index('sub classification')]: 'for Adult'}, inplace=True)"
   ]
  },
  {
   "cell_type": "markdown",
   "id": "045338db",
   "metadata": {},
   "source": [
    "##### Step 13: _assign vendors with less than 250 orders to class \"others\"_"
   ]
  },
  {
   "cell_type": "code",
   "execution_count": 16,
   "id": "121b101e",
   "metadata": {},
   "outputs": [],
   "source": [
    "dta8=dta7.copy()\n",
    "d=(dta7.iloc[:,10].value_counts())\n",
    "#d[d>100]\n",
    "for i in range(0,dta8.shape[0]):\n",
    "    if not( dta8.iloc[i,10] in ['SCMS from RDC','Orgenics', 'Ltd','S. BUYS WHOLESALER','Aurobindo Pharma Limited','Trinity Biotech, Plc','ABBVIE LOGISTICS (FORMERLY ABBOTT LOGISTICS BV)','PHARMACY DIRECT','MYLAN LABORATORIES LTD (FORMERLY MATRIX LABORATORIES)','HETERO LABS LIMITED']):      \n",
    "        dta8.iloc[i,10]= \"others\"\n",
    "dta8.iloc[:,10].value_counts()\n",
    "dta8=dta8.drop('brand',axis=1)"
   ]
  },
  {
   "cell_type": "markdown",
   "id": "7efe937c",
   "metadata": {},
   "source": [
    "##### Step 14: _assign  molecule/test type with less than 250 freq to class \"others\"_"
   ]
  },
  {
   "cell_type": "code",
   "execution_count": 17,
   "id": "d2fcef97",
   "metadata": {},
   "outputs": [],
   "source": [
    "dta10=dta8.copy()\n",
    "for i in range(0,dta10.shape[0]):\n",
    "    if not( dta10.iloc[i,11] in ['Efavirenz','Nevirapine','Lamivudine/Nevirapine/Zidovudine','Lamivudine/Zidovudine','Lopinavir/Ritonavir','Lamivudine','HIV 1/2, Determine Complete HIV Kit','Zidovudine','Abacavir','HIV 1/2, Uni-Gold HIV Kit','Tenofovir Disoproxil Fumarate','Lamivudine/Tenofovir Disoproxil Fumarate','Lamivudine/Nevirapine/Stavudine','Efavirenz/Lamivudine/Tenofovir Disoproxil Fumarate','Stavudine','Didanosine','Emtricitabine/Tenofovir Disoproxil Fumarate'] ):      \n",
    "        dta10.iloc[i,11]= \"others\"\n",
    "dta10=dta10.drop('dosage',axis=1)"
   ]
  },
  {
   "cell_type": "markdown",
   "id": "bdc92d66",
   "metadata": {},
   "source": [
    "##### Step 15: _assign  dosage form with less than 500 freq to class \"others\"_"
   ]
  },
  {
   "cell_type": "code",
   "execution_count": 18,
   "id": "df7cf3ad",
   "metadata": {},
   "outputs": [],
   "source": [
    "dta11=dta10.copy()\n",
    "for i in range(0,dta11.shape[0]):\n",
    "    if not( dta11.iloc[i,12] in['Tablet','Tablet - FDC','Test kit','Capsule','Oral solution']):\n",
    "           dta11.iloc[i,12]= \"others\""
   ]
  },
  {
   "cell_type": "markdown",
   "id": "88ee353e",
   "metadata": {},
   "source": [
    "##### Step 16: _omit redundant columns_"
   ]
  },
  {
   "cell_type": "code",
   "execution_count": 19,
   "id": "68f1779c",
   "metadata": {},
   "outputs": [],
   "source": [
    "dta11=dta11.drop('line item quantity',axis=1)\n",
    "dta11=dta11.drop('unit of measure (per pack)',axis=1)\n",
    "dta11=dta11.drop('pack price',axis=1)\n",
    "dta11=dta11.drop('first line designation',axis=1)"
   ]
  },
  {
   "cell_type": "markdown",
   "id": "a3c5ddff",
   "metadata": {},
   "source": [
    "##### Step 17: _assign  'manufacturing site' with less than 400 freq to class \"others\"_"
   ]
  },
  {
   "cell_type": "code",
   "execution_count": 79,
   "id": "ee57d91c",
   "metadata": {},
   "outputs": [
    {
     "data": {
      "text/plain": [
       "'manufacturing site'"
      ]
     },
     "execution_count": 79,
     "metadata": {},
     "output_type": "execute_result"
    }
   ],
   "source": [
    "dta12.columns[15]"
   ]
  },
  {
   "cell_type": "code",
   "execution_count": 20,
   "id": "8d995d8f",
   "metadata": {},
   "outputs": [],
   "source": [
    "dta12=dta11.copy()\n",
    "\n",
    "for i in range(0,dta12.shape[0]):\n",
    "    if not( dta12.iloc[i,15] in ['Aurobindo Unit III, India','Mylan (formerly Matrix) Nashik','Hetero Unit III Hyderabad IN','Cipla, Goa, India','Strides, Bangalore, India.','Alere Medical Co., Ltd.','Trinity Biotech, Plc']):\n",
    "           dta12.iloc[i,15]= \"others\""
   ]
  },
  {
   "cell_type": "code",
   "execution_count": 81,
   "id": "37f9e389",
   "metadata": {},
   "outputs": [
    {
     "data": {
      "text/plain": [
       "manufacturing site\n",
       "Aurobindo Unit III, India         3172\n",
       "others                            2777\n",
       "Mylan (formerly Matrix) Nashik    1415\n",
       "Hetero Unit III Hyderabad IN       869\n",
       "Cipla, Goa, India                  665\n",
       "Strides, Bangalore, India.         540\n",
       "Alere Medical Co., Ltd.            481\n",
       "Trinity Biotech, Plc               405\n",
       "Name: count, dtype: int64"
      ]
     },
     "execution_count": 81,
     "metadata": {},
     "output_type": "execute_result"
    }
   ],
   "source": [
    "dta12.iloc[:,15].value_counts()"
   ]
  },
  {
   "cell_type": "markdown",
   "id": "7c46f4cf",
   "metadata": {},
   "source": [
    "## Target Variable "
   ]
  },
  {
   "cell_type": "markdown",
   "id": "223d3729",
   "metadata": {},
   "source": [
    "##### Step 18: defining the response variable: whether the delivery has been on time or in time: as class 1, 0 otherwise\n"
   ]
  },
  {
   "cell_type": "code",
   "execution_count": 21,
   "id": "45c32edf",
   "metadata": {},
   "outputs": [
    {
     "name": "stdout",
     "output_type": "stream",
     "text": [
      " 2814 orders has been delivered early(intime) and 6324 orders have been delievered ontime.\n",
      " 1186 orders have been delivered with delay.\n",
      " Total number of orders:10324\n"
     ]
    }
   ],
   "source": [
    "dates_details=pd.DataFrame({\n",
    "    'Delivered to client date' : dta4.iloc[:,6],\n",
    "    'Scheduled delivery date': dta4.iloc[:,5],\n",
    "    'dif':(dta4.iloc[:,6]-  dta4.iloc[:,5])})\n",
    "# from datetime import timedelta\n",
    "dates_details_positive = dates_details[dates_details['dif'] > timedelta(days=0)]\n",
    "dta13=dta12.copy()\n",
    "dta13.loc[:,'On time']=np.nan\n",
    "dates_details_positive = dates_details[dates_details['dif'] > timedelta(days=0)]\n",
    "dta13.loc[ dates_details['dif'] <= timedelta(days=0)  ,'On time']=1\n",
    "dta13.loc[ dates_details['dif'] > timedelta(days=0) ,'On time']=0\n",
    "print (' {e} orders has been delivered early(intime) and {o} orders have been delievered ontime.\\n {l} orders have been delivered with delay.\\n Total number of orders:{t}'.format(e=sum(dates_details['dif'] < timedelta(days=0)) , l=sum(dates_details['dif'] > timedelta(days=0)), o=sum(dates_details['dif'] == timedelta(days=0)),t=dta13.shape[0]))"
   ]
  },
  {
   "cell_type": "code",
   "execution_count": 18,
   "id": "85543535",
   "metadata": {
    "scrolled": false
   },
   "outputs": [
    {
     "data": {
      "text/html": [
       "<div>\n",
       "<style scoped>\n",
       "    .dataframe tbody tr th:only-of-type {\n",
       "        vertical-align: middle;\n",
       "    }\n",
       "\n",
       "    .dataframe tbody tr th {\n",
       "        vertical-align: top;\n",
       "    }\n",
       "\n",
       "    .dataframe thead th {\n",
       "        text-align: right;\n",
       "    }\n",
       "</style>\n",
       "<table border=\"1\" class=\"dataframe\">\n",
       "  <thead>\n",
       "    <tr style=\"text-align: right;\">\n",
       "      <th></th>\n",
       "      <th>Delivered to client date</th>\n",
       "      <th>Scheduled delivery date</th>\n",
       "      <th>dif</th>\n",
       "    </tr>\n",
       "  </thead>\n",
       "  <tbody>\n",
       "    <tr>\n",
       "      <th>10319</th>\n",
       "      <td>2015-07-15 00:00:00</td>\n",
       "      <td>2015-07-31 00:00:00</td>\n",
       "      <td>-16 days +00:00:00</td>\n",
       "    </tr>\n",
       "    <tr>\n",
       "      <th>10320</th>\n",
       "      <td>2015-08-06 00:00:00</td>\n",
       "      <td>2015-07-31 00:00:00</td>\n",
       "      <td>6 days 00:00:00</td>\n",
       "    </tr>\n",
       "    <tr>\n",
       "      <th>10321</th>\n",
       "      <td>2015-08-25 00:00:00</td>\n",
       "      <td>2015-08-31 00:00:00</td>\n",
       "      <td>-6 days +00:00:00</td>\n",
       "    </tr>\n",
       "    <tr>\n",
       "      <th>10322</th>\n",
       "      <td>2015-08-04 00:00:00</td>\n",
       "      <td>2015-09-09 00:00:00</td>\n",
       "      <td>-36 days +00:00:00</td>\n",
       "    </tr>\n",
       "    <tr>\n",
       "      <th>10323</th>\n",
       "      <td>2015-08-04 00:00:00</td>\n",
       "      <td>2015-08-31 00:00:00</td>\n",
       "      <td>-27 days +00:00:00</td>\n",
       "    </tr>\n",
       "  </tbody>\n",
       "</table>\n",
       "</div>"
      ],
      "text/plain": [
       "      Delivered to client date Scheduled delivery date                 dif\n",
       "10319      2015-07-15 00:00:00     2015-07-31 00:00:00  -16 days +00:00:00\n",
       "10320      2015-08-06 00:00:00     2015-07-31 00:00:00     6 days 00:00:00\n",
       "10321      2015-08-25 00:00:00     2015-08-31 00:00:00   -6 days +00:00:00\n",
       "10322      2015-08-04 00:00:00     2015-09-09 00:00:00  -36 days +00:00:00\n",
       "10323      2015-08-04 00:00:00     2015-08-31 00:00:00  -27 days +00:00:00"
      ]
     },
     "execution_count": 18,
     "metadata": {},
     "output_type": "execute_result"
    }
   ],
   "source": [
    "dates_details.tail()"
   ]
  },
  {
   "cell_type": "code",
   "execution_count": 85,
   "id": "5e67c6f2",
   "metadata": {},
   "outputs": [
    {
     "data": {
      "text/plain": [
       "0         True\n",
       "1         True\n",
       "2         True\n",
       "3         True\n",
       "4         True\n",
       "         ...  \n",
       "10319    False\n",
       "10320     True\n",
       "10321    False\n",
       "10322    False\n",
       "10323    False\n",
       "Name: dif, Length: 10324, dtype: bool"
      ]
     },
     "execution_count": 85,
     "metadata": {},
     "output_type": "execute_result"
    }
   ],
   "source": [
    "dates_details['dif'] >= timedelta(days=0)"
   ]
  },
  {
   "cell_type": "code",
   "execution_count": 22,
   "id": "efcbd1d2",
   "metadata": {},
   "outputs": [],
   "source": [
    "dta14=dta13.copy()\n",
    "for i in ['po sent to vendor date','scheduled delivery date', 'delivered to client date','delivery recorded date']:\n",
    "    dta14=dta14.drop(i,axis=1)\n",
    "for i in [9,10,12,13,14]:dta14.iloc[:,i]= pd.to_numeric(dta14.iloc[:,i], errors='coerce')"
   ]
  },
  {
   "cell_type": "code",
   "execution_count": 24,
   "id": "2ea3944b",
   "metadata": {},
   "outputs": [],
   "source": [
    "# dta14.to_csv(\"C:/Users/Lenovo/Desktop/dta for EDA 14.csv\")"
   ]
  },
  {
   "cell_type": "markdown",
   "id": "82822d4f",
   "metadata": {},
   "source": [
    "## Outlier Detection"
   ]
  },
  {
   "cell_type": "code",
   "execution_count": 23,
   "id": "abce4cea",
   "metadata": {},
   "outputs": [
    {
     "data": {
      "image/png": "[encoded data removed]",
      "text/plain": [
       "<Figure size 720x432 with 1 Axes>"
      ]
     },
     "metadata": {
      "needs_background": "light"
     },
     "output_type": "display_data"
    }
   ],
   "source": [
    "line_item_value = pd.to_numeric(dta14.iloc[:, 9], errors='coerce').dropna()\n",
    "unit_price = pd.to_numeric(dta14.iloc[:, 10], errors='coerce').dropna()\n",
    "weight = pd.to_numeric(dta14.iloc[:, 12], errors='coerce').dropna()\n",
    "freight_cost = pd.to_numeric(dta14.iloc[:, 13], errors='coerce').dropna()\n",
    "line_item_insurance = pd.to_numeric(dta14.iloc[:, 14], errors='coerce').dropna()\n",
    "\n",
    "features = [line_item_value, unit_price, weight, freight_cost, line_item_insurance]\n",
    "\n",
    "plt.figure(figsize=(10, 6))\n",
    "plt.boxplot(features, labels=['Line Item Value', 'Unit Price', 'Weight', 'Freight Cost', 'Line Item Insurance'])\n",
    "plt.title('Boxplot of Continuous Features')\n",
    "plt.xlabel('Features')\n",
    "plt.ylabel('Values')\n",
    "plt.show()\n"
   ]
  },
  {
   "cell_type": "markdown",
   "id": "52a4ef58",
   "metadata": {},
   "source": [
    "### Outlier Detection and Nullify it "
   ]
  },
  {
   "cell_type": "code",
   "execution_count": 5,
   "id": "ea7a360f",
   "metadata": {},
   "outputs": [
    {
     "ename": "NameError",
     "evalue": "name 'dta14' is not defined",
     "output_type": "error",
     "traceback": [
      "\u001b[1;31m---------------------------------------------------------------------------\u001b[0m",
      "\u001b[1;31mNameError\u001b[0m                                 Traceback (most recent call last)",
      "\u001b[1;32m~\\AppData\\Local\\Temp/ipykernel_29892/1410480796.py\u001b[0m in \u001b[0;36m<module>\u001b[1;34m\u001b[0m\n\u001b[1;32m----> 1\u001b[1;33m \u001b[0mdta14\u001b[0m\u001b[1;33m.\u001b[0m\u001b[0mcolumns\u001b[0m\u001b[1;33m\u001b[0m\u001b[1;33m\u001b[0m\u001b[0m\n\u001b[0m",
      "\u001b[1;31mNameError\u001b[0m: name 'dta14' is not defined"
     ]
    }
   ],
   "source": [
    "dta14.columns"
   ]
  },
  {
   "cell_type": "code",
   "execution_count": 24,
   "id": "7bb5547b",
   "metadata": {},
   "outputs": [],
   "source": [
    "def nullify_outliers(data):\n",
    "    Q1 = np.percentile((data).dropna(), 25)\n",
    "    Q3 = np.percentile(data.dropna(), 75)\n",
    "    IQR = Q3 - Q1\n",
    "    lower_bound = Q1 - 1.5 * IQR\n",
    "    upper_bound = Q3 + 1.5 * IQR\n",
    "    nullified_data = np.where((data < lower_bound) | (data > upper_bound), np.nan, data)\n",
    "    return nullified_data\n",
    "dta15_cont=pd.DataFrame({\n",
    "    'line_item_value' : pd.to_numeric(dta14.loc[:,'line item value'], errors='coerce'),\n",
    "    'unit_price' : pd.to_numeric(dta14.loc[:, 'unit price'], errors='coerce'),\n",
    "    'weight' : pd.to_numeric(dta14.loc[:,   'weight (kilograms)'], errors='coerce'),\n",
    "    'freight_cost' : pd.to_numeric(dta14.loc[:, 'freight cost (usd)'], errors='coerce'),\n",
    "    'line_item_insurance' : pd.to_numeric(dta14.loc[:, 'line item insurance (usd)'], errors='coerce')})\n",
    "dta15_cont_cleaned=dta15_cont.copy()\n",
    "\n",
    "for i in range(4):\n",
    "    dta15_cont_cleaned.iloc[:,i]=nullify_outliers(dta15_cont.iloc[:,i])\n",
    "dta15=pd.concat([dta14.iloc[:,[ 0,  1,  2,  3,  4,  5,  6,  7,  8,  11, 15]],dta15_cont_cleaned],axis=1)"
   ]
  },
  {
   "cell_type": "code",
   "execution_count": 25,
   "id": "ed28fec6",
   "metadata": {
    "scrolled": false
   },
   "outputs": [
    {
     "data": {
      "text/html": [
       "<div>\n",
       "<style scoped>\n",
       "    .dataframe tbody tr th:only-of-type {\n",
       "        vertical-align: middle;\n",
       "    }\n",
       "\n",
       "    .dataframe tbody tr th {\n",
       "        vertical-align: top;\n",
       "    }\n",
       "\n",
       "    .dataframe thead th {\n",
       "        text-align: right;\n",
       "    }\n",
       "</style>\n",
       "<table border=\"1\" class=\"dataframe\">\n",
       "  <thead>\n",
       "    <tr style=\"text-align: right;\">\n",
       "      <th></th>\n",
       "      <th>line_item_value</th>\n",
       "      <th>unit_price</th>\n",
       "      <th>weight</th>\n",
       "      <th>freight_cost</th>\n",
       "      <th>line_item_insurance</th>\n",
       "    </tr>\n",
       "  </thead>\n",
       "  <tbody>\n",
       "    <tr>\n",
       "      <th>count</th>\n",
       "      <td>1.032400e+04</td>\n",
       "      <td>10324.000000</td>\n",
       "      <td>6372.000000</td>\n",
       "      <td>6198.000000</td>\n",
       "      <td>10037.000000</td>\n",
       "    </tr>\n",
       "    <tr>\n",
       "      <th>mean</th>\n",
       "      <td>1.576506e+05</td>\n",
       "      <td>0.611701</td>\n",
       "      <td>3424.441306</td>\n",
       "      <td>11103.234819</td>\n",
       "      <td>240.117626</td>\n",
       "    </tr>\n",
       "    <tr>\n",
       "      <th>std</th>\n",
       "      <td>3.452921e+05</td>\n",
       "      <td>3.275808</td>\n",
       "      <td>13526.968270</td>\n",
       "      <td>15813.026692</td>\n",
       "      <td>500.190568</td>\n",
       "    </tr>\n",
       "    <tr>\n",
       "      <th>min</th>\n",
       "      <td>0.000000e+00</td>\n",
       "      <td>0.000000</td>\n",
       "      <td>0.000000</td>\n",
       "      <td>0.750000</td>\n",
       "      <td>0.000000</td>\n",
       "    </tr>\n",
       "    <tr>\n",
       "      <th>25%</th>\n",
       "      <td>4.314593e+03</td>\n",
       "      <td>0.080000</td>\n",
       "      <td>206.750000</td>\n",
       "      <td>2131.120000</td>\n",
       "      <td>6.510000</td>\n",
       "    </tr>\n",
       "    <tr>\n",
       "      <th>50%</th>\n",
       "      <td>3.047147e+04</td>\n",
       "      <td>0.160000</td>\n",
       "      <td>1047.000000</td>\n",
       "      <td>5869.655000</td>\n",
       "      <td>47.040000</td>\n",
       "    </tr>\n",
       "    <tr>\n",
       "      <th>75%</th>\n",
       "      <td>1.664471e+05</td>\n",
       "      <td>0.470000</td>\n",
       "      <td>3334.000000</td>\n",
       "      <td>14406.570000</td>\n",
       "      <td>252.400000</td>\n",
       "    </tr>\n",
       "    <tr>\n",
       "      <th>max</th>\n",
       "      <td>5.951990e+06</td>\n",
       "      <td>238.650000</td>\n",
       "      <td>857354.000000</td>\n",
       "      <td>289653.200000</td>\n",
       "      <td>7708.440000</td>\n",
       "    </tr>\n",
       "  </tbody>\n",
       "</table>\n",
       "</div>"
      ],
      "text/plain": [
       "       line_item_value    unit_price         weight   freight_cost  \\\n",
       "count     1.032400e+04  10324.000000    6372.000000    6198.000000   \n",
       "mean      1.576506e+05      0.611701    3424.441306   11103.234819   \n",
       "std       3.452921e+05      3.275808   13526.968270   15813.026692   \n",
       "min       0.000000e+00      0.000000       0.000000       0.750000   \n",
       "25%       4.314593e+03      0.080000     206.750000    2131.120000   \n",
       "50%       3.047147e+04      0.160000    1047.000000    5869.655000   \n",
       "75%       1.664471e+05      0.470000    3334.000000   14406.570000   \n",
       "max       5.951990e+06    238.650000  857354.000000  289653.200000   \n",
       "\n",
       "       line_item_insurance  \n",
       "count         10037.000000  \n",
       "mean            240.117626  \n",
       "std             500.190568  \n",
       "min               0.000000  \n",
       "25%               6.510000  \n",
       "50%              47.040000  \n",
       "75%             252.400000  \n",
       "max            7708.440000  "
      ]
     },
     "execution_count": 25,
     "metadata": {},
     "output_type": "execute_result"
    }
   ],
   "source": [
    "dta15_cont.describe() #Before"
   ]
  },
  {
   "cell_type": "code",
   "execution_count": 208,
   "id": "41151ff3",
   "metadata": {},
   "outputs": [
    {
     "data": {
      "text/html": [
       "<div>\n",
       "<style scoped>\n",
       "    .dataframe tbody tr th:only-of-type {\n",
       "        vertical-align: middle;\n",
       "    }\n",
       "\n",
       "    .dataframe tbody tr th {\n",
       "        vertical-align: top;\n",
       "    }\n",
       "\n",
       "    .dataframe thead th {\n",
       "        text-align: right;\n",
       "    }\n",
       "</style>\n",
       "<table border=\"1\" class=\"dataframe\">\n",
       "  <thead>\n",
       "    <tr style=\"text-align: right;\">\n",
       "      <th></th>\n",
       "      <th>line_item_value</th>\n",
       "      <th>unit_price</th>\n",
       "      <th>weight</th>\n",
       "      <th>freight_cost</th>\n",
       "      <th>line_item_insurance</th>\n",
       "    </tr>\n",
       "  </thead>\n",
       "  <tbody>\n",
       "    <tr>\n",
       "      <th>count</th>\n",
       "      <td>9197.000000</td>\n",
       "      <td>9444.000000</td>\n",
       "      <td>5749.000000</td>\n",
       "      <td>5810.000000</td>\n",
       "      <td>10037.000000</td>\n",
       "    </tr>\n",
       "    <tr>\n",
       "      <th>mean</th>\n",
       "      <td>68444.601024</td>\n",
       "      <td>0.252289</td>\n",
       "      <td>1586.083319</td>\n",
       "      <td>8061.305084</td>\n",
       "      <td>240.117626</td>\n",
       "    </tr>\n",
       "    <tr>\n",
       "      <th>std</th>\n",
       "      <td>95163.119035</td>\n",
       "      <td>0.258073</td>\n",
       "      <td>1881.272511</td>\n",
       "      <td>7732.095373</td>\n",
       "      <td>500.190568</td>\n",
       "    </tr>\n",
       "    <tr>\n",
       "      <th>min</th>\n",
       "      <td>0.000000</td>\n",
       "      <td>0.000000</td>\n",
       "      <td>0.000000</td>\n",
       "      <td>0.750000</td>\n",
       "      <td>0.000000</td>\n",
       "    </tr>\n",
       "    <tr>\n",
       "      <th>25%</th>\n",
       "      <td>3290.000000</td>\n",
       "      <td>0.070000</td>\n",
       "      <td>169.000000</td>\n",
       "      <td>1945.105000</td>\n",
       "      <td>6.510000</td>\n",
       "    </tr>\n",
       "    <tr>\n",
       "      <th>50%</th>\n",
       "      <td>21000.000000</td>\n",
       "      <td>0.140000</td>\n",
       "      <td>807.000000</td>\n",
       "      <td>5221.335000</td>\n",
       "      <td>47.040000</td>\n",
       "    </tr>\n",
       "    <tr>\n",
       "      <th>75%</th>\n",
       "      <td>98784.000000</td>\n",
       "      <td>0.350000</td>\n",
       "      <td>2393.000000</td>\n",
       "      <td>12078.315000</td>\n",
       "      <td>252.400000</td>\n",
       "    </tr>\n",
       "    <tr>\n",
       "      <th>max</th>\n",
       "      <td>408815.920000</td>\n",
       "      <td>1.050000</td>\n",
       "      <td>8016.000000</td>\n",
       "      <td>32728.960000</td>\n",
       "      <td>7708.440000</td>\n",
       "    </tr>\n",
       "  </tbody>\n",
       "</table>\n",
       "</div>"
      ],
      "text/plain": [
       "       line_item_value   unit_price       weight  freight_cost  \\\n",
       "count      9197.000000  9444.000000  5749.000000   5810.000000   \n",
       "mean      68444.601024     0.252289  1586.083319   8061.305084   \n",
       "std       95163.119035     0.258073  1881.272511   7732.095373   \n",
       "min           0.000000     0.000000     0.000000      0.750000   \n",
       "25%        3290.000000     0.070000   169.000000   1945.105000   \n",
       "50%       21000.000000     0.140000   807.000000   5221.335000   \n",
       "75%       98784.000000     0.350000  2393.000000  12078.315000   \n",
       "max      408815.920000     1.050000  8016.000000  32728.960000   \n",
       "\n",
       "       line_item_insurance  \n",
       "count         10037.000000  \n",
       "mean            240.117626  \n",
       "std             500.190568  \n",
       "min               0.000000  \n",
       "25%               6.510000  \n",
       "50%              47.040000  \n",
       "75%             252.400000  \n",
       "max            7708.440000  "
      ]
     },
     "execution_count": 208,
     "metadata": {},
     "output_type": "execute_result"
    }
   ],
   "source": [
    "dta15_cont_cleaned.describe()  #After"
   ]
  },
  {
   "cell_type": "code",
   "execution_count": 26,
   "id": "0a031a73",
   "metadata": {},
   "outputs": [],
   "source": [
    "dta15_for_boxplot = dta15_cont_cleaned.dropna()"
   ]
  },
  {
   "cell_type": "code",
   "execution_count": 41,
   "id": "dfda7cfc",
   "metadata": {},
   "outputs": [
    {
     "data": {
      "image/png": "[encoded data removed]",
      "text/plain": [
       "<Figure size 576x432 with 1 Axes>"
      ]
     },
     "metadata": {
      "needs_background": "light"
     },
     "output_type": "display_data"
    }
   ],
   "source": [
    "plt.figure(figsize=(8, 6))\n",
    "plt.boxplot(dta15_for_boxplot.iloc[:, 4]);\n",
    "plt.title('Boxplot of Continuous Features')\n",
    "plt.xlabel('line_item_insurance')\n",
    "plt.ylabel('Values')\n",
    "plt.show()"
   ]
  },
  {
   "cell_type": "code",
   "execution_count": 211,
   "id": "fbeb1658",
   "metadata": {},
   "outputs": [
    {
     "data": {
      "image/png": "[encoded data removed]",
      "text/plain": [
       "<Figure size 576x432 with 1 Axes>"
      ]
     },
     "metadata": {
      "needs_background": "light"
     },
     "output_type": "display_data"
    }
   ],
   "source": [
    "plt.figure(figsize=(8, 6))\n",
    "plt.boxplot(dta15_for_boxplot.iloc[:, 3]);\n",
    "plt.title('Boxplot of Continuous Features')\n",
    "plt.xlabel('freight_cost')\n",
    "plt.ylabel('Values')\n",
    "plt.show()"
   ]
  },
  {
   "cell_type": "code",
   "execution_count": 212,
   "id": "597bfd1f",
   "metadata": {},
   "outputs": [
    {
     "data": {
      "image/png": "[encoded data removed]",
      "text/plain": [
       "<Figure size 576x432 with 1 Axes>"
      ]
     },
     "metadata": {
      "needs_background": "light"
     },
     "output_type": "display_data"
    }
   ],
   "source": [
    "plt.figure(figsize=(8, 6))\n",
    "plt.boxplot(dta15_for_boxplot.iloc[:, 2]);\n",
    "plt.title('Boxplot of Continuous Features')\n",
    "plt.xlabel('weight')\n",
    "plt.ylabel('Values')\n",
    "plt.show()"
   ]
  },
  {
   "cell_type": "code",
   "execution_count": 213,
   "id": "f7b675bc",
   "metadata": {},
   "outputs": [
    {
     "name": "stderr",
     "output_type": "stream",
     "text": [
      "C:\\Users\\Lenovo\\anaconda3\\lib\\site-packages\\matplotlib\\backends\\backend_agg.py:240: RuntimeWarning:\n",
      "\n",
      "Glyph 9 missing from current font.\n",
      "\n",
      "C:\\Users\\Lenovo\\anaconda3\\lib\\site-packages\\matplotlib\\backends\\backend_agg.py:203: RuntimeWarning:\n",
      "\n",
      "Glyph 9 missing from current font.\n",
      "\n"
     ]
    },
    {
     "data": {
      "image/png": "[encoded data removed]",
      "text/plain": [
       "<Figure size 576x432 with 1 Axes>"
      ]
     },
     "metadata": {
      "needs_background": "light"
     },
     "output_type": "display_data"
    }
   ],
   "source": [
    "plt.figure(figsize=(8, 6))\n",
    "plt.boxplot(dta15_for_boxplot.iloc[:, 1]);\n",
    "plt.title('Boxplot of Continuous Features')\n",
    "plt.xlabel('unit_price\t')\n",
    "plt.ylabel('Values')\n",
    "plt.show()"
   ]
  },
  {
   "cell_type": "code",
   "execution_count": 214,
   "id": "ee6042ee",
   "metadata": {},
   "outputs": [
    {
     "name": "stderr",
     "output_type": "stream",
     "text": [
      "C:\\Users\\Lenovo\\anaconda3\\lib\\site-packages\\matplotlib\\backends\\backend_agg.py:240: RuntimeWarning:\n",
      "\n",
      "Glyph 9 missing from current font.\n",
      "\n",
      "C:\\Users\\Lenovo\\anaconda3\\lib\\site-packages\\matplotlib\\backends\\backend_agg.py:203: RuntimeWarning:\n",
      "\n",
      "Glyph 9 missing from current font.\n",
      "\n"
     ]
    },
    {
     "data": {
      "image/png": "[encoded data removed]",
      "text/plain": [
       "<Figure size 576x432 with 1 Axes>"
      ]
     },
     "metadata": {
      "needs_background": "light"
     },
     "output_type": "display_data"
    }
   ],
   "source": [
    "plt.figure(figsize=(8, 6))\n",
    "plt.boxplot(dta15_for_boxplot.iloc[:, 0]);\n",
    "plt.title('Boxplot of Continuous Features')\n",
    "plt.xlabel('line_item_value\t')\n",
    "plt.ylabel('Values')\n",
    "plt.show()"
   ]
  },
  {
   "cell_type": "markdown",
   "id": "603ec658",
   "metadata": {},
   "source": [
    "## Missing Values"
   ]
  },
  {
   "cell_type": "markdown",
   "id": "b52929ab",
   "metadata": {},
   "source": [
    "##### Step 19: _Dealing with missing values_"
   ]
  },
  {
   "cell_type": "code",
   "execution_count": 27,
   "id": "f1376fec",
   "metadata": {
    "scrolled": true
   },
   "outputs": [
    {
     "name": "stdout",
     "output_type": "stream",
     "text": [
      "feature country: NaN: 0\n",
      "feature fulfill via: NaN: 0\n",
      "feature vendor inco term: NaN: 0\n",
      "feature shipment mode: NaN: 360\n",
      "feature ARV: NaN: 0\n",
      "feature for Adult: NaN: 0\n",
      "feature vendor: NaN: 0\n",
      "feature molecule/test type: NaN: 0\n",
      "feature dosage form: NaN: 0\n",
      "feature manufacturing site: NaN: 0\n",
      "feature On time: NaN: 0\n",
      "feature line_item_value: NaN: 1127\n",
      "feature unit_price: NaN: 880\n",
      "feature weight: NaN: 4575\n",
      "feature freight_cost: NaN: 4514\n",
      "feature line_item_insurance: NaN: 287\n"
     ]
    }
   ],
   "source": [
    "for i in range(0,dta15.shape[1]):\n",
    "    print('feature {}: NaN: {}'.format(dta15.columns[i],sum(dta15.iloc[:,i].isna())))"
   ]
  },
  {
   "cell_type": "markdown",
   "id": "d96a7b65",
   "metadata": {},
   "source": [
    "##### Missing Values are:\n",
    "feature shipment mode: NaN: 360\n",
    "\n",
    "feature line_item_value: NaN: 1127\n",
    "\n",
    "feature weight: NaN: 4575\n",
    "\n",
    "feature unit_price: NaN: 880\n",
    "\n",
    "feature line item insurance (usd): NaN: 287\n",
    "\n",
    "feature freight_cost: NaN: 4514\n"
   ]
  },
  {
   "cell_type": "markdown",
   "id": "ed562514",
   "metadata": {},
   "source": [
    "##### weight (kilograms)"
   ]
  },
  {
   "cell_type": "code",
   "execution_count": 93,
   "id": "c33d9258",
   "metadata": {},
   "outputs": [],
   "source": [
    "mean_=dta15[~pd.isna(dta15.loc[:, 'weight'])].loc[:,'weight'].mean()\n",
    "nan_rows = pd.isna(dta15.loc[:, 'weight'])\n",
    "dta15.loc[nan_rows,'weight'] = mean_"
   ]
  },
  {
   "cell_type": "markdown",
   "id": "a000f8a2",
   "metadata": {},
   "source": [
    "or: "
   ]
  },
  {
   "cell_type": "code",
   "execution_count": 28,
   "id": "5e636444",
   "metadata": {
    "scrolled": true
   },
   "outputs": [],
   "source": [
    "from sklearn.impute import SimpleImputer \n",
    "imputer = SimpleImputer(strategy='mean')\n",
    "feature_12 = dta15.loc[:, 'weight'].values.reshape(-1, 1)\n",
    "dta15.loc[:,'weight'] = imputer.fit_transform(feature_12)"
   ]
  },
  {
   "cell_type": "markdown",
   "id": "71eb67ad",
   "metadata": {},
   "source": [
    "##### line item insurance (usd)"
   ]
  },
  {
   "cell_type": "code",
   "execution_count": 29,
   "id": "c48fe5fa",
   "metadata": {},
   "outputs": [],
   "source": [
    "imputer = SimpleImputer(strategy='mean')\n",
    "feature_15 = dta15.loc[:, 'line_item_insurance'].values.reshape(-1, 1)\n",
    "dta15.loc[:, 'line_item_insurance'] = imputer.fit_transform(feature_15)"
   ]
  },
  {
   "cell_type": "markdown",
   "id": "a22f3d3d",
   "metadata": {},
   "source": [
    "##### shipment mode"
   ]
  },
  {
   "cell_type": "code",
   "execution_count": 30,
   "id": "a89fc42a",
   "metadata": {},
   "outputs": [],
   "source": [
    "imputer = SimpleImputer(strategy= 'most_frequent')\n",
    "dta15.loc[:, 'shipment mode'] = imputer.fit_transform(dta15.loc[:, 'shipment mode'].values.reshape(-1,1))"
   ]
  },
  {
   "cell_type": "markdown",
   "id": "d2eea1dd",
   "metadata": {},
   "source": [
    "##### freight cost (usd)"
   ]
  },
  {
   "cell_type": "code",
   "execution_count": 31,
   "id": "0b148206",
   "metadata": {},
   "outputs": [],
   "source": [
    "# from sklearn.impute import KNNImputer\n",
    "imputer = KNNImputer(n_neighbors=4, weights=\"uniform\")\n",
    "dta15['freight_cost'] = imputer.fit_transform(dta15['freight_cost'].values.reshape(-1, 1))"
   ]
  },
  {
   "cell_type": "markdown",
   "id": "5b3a61fe",
   "metadata": {},
   "source": [
    "##### line_item_value"
   ]
  },
  {
   "cell_type": "code",
   "execution_count": 32,
   "id": "8fa2d0f2",
   "metadata": {},
   "outputs": [],
   "source": [
    "# from sklearn.impute import SimpleImputer \n",
    "imputer = SimpleImputer(strategy='median') \n",
    "feature_ = dta15.loc[:, 'line_item_value'].values.reshape(-1, 1)\n",
    "dta15.loc[:,'line_item_value'] = imputer.fit_transform(feature_)"
   ]
  },
  {
   "cell_type": "markdown",
   "id": "b5a2a803",
   "metadata": {},
   "source": [
    "##### Unit price"
   ]
  },
  {
   "cell_type": "code",
   "execution_count": 33,
   "id": "9305b74c",
   "metadata": {},
   "outputs": [],
   "source": [
    "# from sklearn.impute import SimpleImputer \n",
    "imputer = SimpleImputer(strategy='median')\n",
    "feature_ = dta15.loc[:, 'unit_price'].values.reshape(-1, 1)\n",
    "dta15.loc[:,'unit_price'] = imputer.fit_transform(feature_)"
   ]
  },
  {
   "cell_type": "code",
   "execution_count": 34,
   "id": "47837d8a",
   "metadata": {},
   "outputs": [
    {
     "name": "stdout",
     "output_type": "stream",
     "text": [
      "feature country: NaN: 0\n",
      "feature fulfill via: NaN: 0\n",
      "feature vendor inco term: NaN: 0\n",
      "feature shipment mode: NaN: 0\n",
      "feature ARV: NaN: 0\n",
      "feature for Adult: NaN: 0\n",
      "feature vendor: NaN: 0\n",
      "feature molecule/test type: NaN: 0\n",
      "feature dosage form: NaN: 0\n",
      "feature manufacturing site: NaN: 0\n",
      "feature On time: NaN: 0\n",
      "feature line_item_value: NaN: 0\n",
      "feature unit_price: NaN: 0\n",
      "feature weight: NaN: 0\n",
      "feature freight_cost: NaN: 0\n",
      "feature line_item_insurance: NaN: 0\n"
     ]
    }
   ],
   "source": [
    "for i in range(0,dta15.shape[1]):\n",
    "    print('feature {}: NaN: {}'.format(dta15.columns[i],sum(dta15.iloc[:,i].isna())))"
   ]
  },
  {
   "cell_type": "code",
   "execution_count": 76,
   "id": "35d62b01",
   "metadata": {},
   "outputs": [
    {
     "data": {
      "text/html": [
       "<div>\n",
       "<style scoped>\n",
       "    .dataframe tbody tr th:only-of-type {\n",
       "        vertical-align: middle;\n",
       "    }\n",
       "\n",
       "    .dataframe tbody tr th {\n",
       "        vertical-align: top;\n",
       "    }\n",
       "\n",
       "    .dataframe thead th {\n",
       "        text-align: right;\n",
       "    }\n",
       "</style>\n",
       "<table border=\"1\" class=\"dataframe\">\n",
       "  <thead>\n",
       "    <tr style=\"text-align: right;\">\n",
       "      <th></th>\n",
       "      <th>country</th>\n",
       "      <th>fulfill via</th>\n",
       "      <th>vendor inco term</th>\n",
       "      <th>shipment mode</th>\n",
       "      <th>ARV</th>\n",
       "      <th>for Adult</th>\n",
       "      <th>vendor</th>\n",
       "      <th>molecule/test type</th>\n",
       "      <th>dosage form</th>\n",
       "      <th>line item value</th>\n",
       "      <th>unit price</th>\n",
       "      <th>manufacturing site</th>\n",
       "      <th>weight (kilograms)</th>\n",
       "      <th>freight cost (usd)</th>\n",
       "      <th>line item insurance (usd)</th>\n",
       "      <th>On time</th>\n",
       "    </tr>\n",
       "  </thead>\n",
       "  <tbody>\n",
       "    <tr>\n",
       "      <th>0</th>\n",
       "      <td>Côte d'Ivoire</td>\n",
       "      <td>Direct Drop</td>\n",
       "      <td>EXW</td>\n",
       "      <td>Air</td>\n",
       "      <td>0</td>\n",
       "      <td>others</td>\n",
       "      <td>others</td>\n",
       "      <td>others</td>\n",
       "      <td>Test kit</td>\n",
       "      <td>551.0</td>\n",
       "      <td>others</td>\n",
       "      <td>Ranbaxy Fine Chemicals LTD</td>\n",
       "      <td>13.0</td>\n",
       "      <td>780.34</td>\n",
       "      <td>240.117626</td>\n",
       "      <td>1.0</td>\n",
       "    </tr>\n",
       "    <tr>\n",
       "      <th>1</th>\n",
       "      <td>others</td>\n",
       "      <td>Direct Drop</td>\n",
       "      <td>EXW</td>\n",
       "      <td>Air</td>\n",
       "      <td>1</td>\n",
       "      <td>others</td>\n",
       "      <td>others</td>\n",
       "      <td>others</td>\n",
       "      <td>Oral suspension</td>\n",
       "      <td>6200.0</td>\n",
       "      <td>others</td>\n",
       "      <td>Aurobindo Unit III, India</td>\n",
       "      <td>358.0</td>\n",
       "      <td>4521.50</td>\n",
       "      <td>240.117626</td>\n",
       "      <td>1.0</td>\n",
       "    </tr>\n",
       "    <tr>\n",
       "      <th>2</th>\n",
       "      <td>Côte d'Ivoire</td>\n",
       "      <td>Direct Drop</td>\n",
       "      <td>FCA</td>\n",
       "      <td>Air</td>\n",
       "      <td>0</td>\n",
       "      <td>others</td>\n",
       "      <td>others</td>\n",
       "      <td>others</td>\n",
       "      <td>Test kit</td>\n",
       "      <td>40000.0</td>\n",
       "      <td>others</td>\n",
       "      <td>ABBVIE GmbH &amp; Co.KG Wiesbaden</td>\n",
       "      <td>171.0</td>\n",
       "      <td>1653.78</td>\n",
       "      <td>240.117626</td>\n",
       "      <td>1.0</td>\n",
       "    </tr>\n",
       "    <tr>\n",
       "      <th>3</th>\n",
       "      <td>others</td>\n",
       "      <td>Direct Drop</td>\n",
       "      <td>EXW</td>\n",
       "      <td>Air</td>\n",
       "      <td>1</td>\n",
       "      <td>others</td>\n",
       "      <td>others</td>\n",
       "      <td>others</td>\n",
       "      <td>Tablet</td>\n",
       "      <td>127360.8</td>\n",
       "      <td>others</td>\n",
       "      <td>Ranbaxy, Paonta Shahib, India</td>\n",
       "      <td>1855.0</td>\n",
       "      <td>16007.06</td>\n",
       "      <td>240.117626</td>\n",
       "      <td>1.0</td>\n",
       "    </tr>\n",
       "    <tr>\n",
       "      <th>4</th>\n",
       "      <td>others</td>\n",
       "      <td>Direct Drop</td>\n",
       "      <td>EXW</td>\n",
       "      <td>Air</td>\n",
       "      <td>1</td>\n",
       "      <td>others</td>\n",
       "      <td>others</td>\n",
       "      <td>others</td>\n",
       "      <td>Capsule</td>\n",
       "      <td>121600.0</td>\n",
       "      <td>others</td>\n",
       "      <td>Aurobindo Unit III, India</td>\n",
       "      <td>7590.0</td>\n",
       "      <td>45450.08</td>\n",
       "      <td>240.117626</td>\n",
       "      <td>1.0</td>\n",
       "    </tr>\n",
       "  </tbody>\n",
       "</table>\n",
       "</div>"
      ],
      "text/plain": [
       "0        country  fulfill via vendor inco term shipment mode ARV for Adult  \\\n",
       "0  Côte d'Ivoire  Direct Drop              EXW           Air   0    others   \n",
       "1         others  Direct Drop              EXW           Air   1    others   \n",
       "2  Côte d'Ivoire  Direct Drop              FCA           Air   0    others   \n",
       "3         others  Direct Drop              EXW           Air   1    others   \n",
       "4         others  Direct Drop              EXW           Air   1    others   \n",
       "\n",
       "0  vendor molecule/test type      dosage form  line item value unit price  \\\n",
       "0  others             others         Test kit            551.0     others   \n",
       "1  others             others  Oral suspension           6200.0     others   \n",
       "2  others             others         Test kit          40000.0     others   \n",
       "3  others             others           Tablet         127360.8     others   \n",
       "4  others             others          Capsule         121600.0     others   \n",
       "\n",
       "0             manufacturing site  weight (kilograms)  freight cost (usd)  \\\n",
       "0     Ranbaxy Fine Chemicals LTD                13.0              780.34   \n",
       "1      Aurobindo Unit III, India               358.0             4521.50   \n",
       "2  ABBVIE GmbH & Co.KG Wiesbaden               171.0             1653.78   \n",
       "3  Ranbaxy, Paonta Shahib, India              1855.0            16007.06   \n",
       "4      Aurobindo Unit III, India              7590.0            45450.08   \n",
       "\n",
       "0  line item insurance (usd)  On time  \n",
       "0                 240.117626      1.0  \n",
       "1                 240.117626      1.0  \n",
       "2                 240.117626      1.0  \n",
       "3                 240.117626      1.0  \n",
       "4                 240.117626      1.0  "
      ]
     },
     "execution_count": 76,
     "metadata": {},
     "output_type": "execute_result"
    }
   ],
   "source": [
    "dta15.head()"
   ]
  },
  {
   "cell_type": "code",
   "execution_count": 231,
   "id": "74f07de6",
   "metadata": {},
   "outputs": [
    {
     "name": "stdout",
     "output_type": "stream",
     "text": [
      "<class 'pandas.core.frame.DataFrame'>\n",
      "Index: 10324 entries, 0 to 10323\n",
      "Data columns (total 16 columns):\n",
      " #   Column               Non-Null Count  Dtype  \n",
      "---  ------               --------------  -----  \n",
      " 0   country              10324 non-null  object \n",
      " 1   fulfill via          10324 non-null  object \n",
      " 2   vendor inco term     10324 non-null  object \n",
      " 3   shipment mode        10324 non-null  object \n",
      " 4   ARV                  10324 non-null  object \n",
      " 5   for Adult            10324 non-null  object \n",
      " 6   vendor               10324 non-null  object \n",
      " 7   molecule/test type   10324 non-null  object \n",
      " 8   dosage form          10324 non-null  object \n",
      " 9   manufacturing site   10324 non-null  object \n",
      " 10  On time              10324 non-null  float64\n",
      " 11  line_item_value      10324 non-null  float64\n",
      " 12  unit_price           10324 non-null  float64\n",
      " 13  weight               10324 non-null  float64\n",
      " 14  freight_cost         10324 non-null  float64\n",
      " 15  line_item_insurance  10324 non-null  float64\n",
      "dtypes: float64(6), object(10)\n",
      "memory usage: 1.3+ MB\n"
     ]
    }
   ],
   "source": [
    "dta15.info()"
   ]
  },
  {
   "cell_type": "code",
   "execution_count": 35,
   "id": "3627b392",
   "metadata": {},
   "outputs": [],
   "source": [
    "target_var=dta15.iloc[:, 10 ]\n",
    "categorical_data=dta15.iloc[:,np.arange(10)]\n",
    "numerical_data=dta15.iloc[:,np.arange(11,16)]"
   ]
  },
  {
   "cell_type": "code",
   "execution_count": 38,
   "id": "7f0e51d5",
   "metadata": {},
   "outputs": [
    {
     "data": {
      "text/html": [
       "<div>\n",
       "<style scoped>\n",
       "    .dataframe tbody tr th:only-of-type {\n",
       "        vertical-align: middle;\n",
       "    }\n",
       "\n",
       "    .dataframe tbody tr th {\n",
       "        vertical-align: top;\n",
       "    }\n",
       "\n",
       "    .dataframe thead th {\n",
       "        text-align: right;\n",
       "    }\n",
       "</style>\n",
       "<table border=\"1\" class=\"dataframe\">\n",
       "  <thead>\n",
       "    <tr style=\"text-align: right;\">\n",
       "      <th></th>\n",
       "      <th>On time</th>\n",
       "      <th>line_item_value</th>\n",
       "      <th>unit_price</th>\n",
       "      <th>weight</th>\n",
       "      <th>freight_cost</th>\n",
       "      <th>line_item_insurance</th>\n",
       "    </tr>\n",
       "  </thead>\n",
       "  <tbody>\n",
       "    <tr>\n",
       "      <th>0</th>\n",
       "      <td>1.0</td>\n",
       "      <td>551.00</td>\n",
       "      <td>0.97</td>\n",
       "      <td>13.000000</td>\n",
       "      <td>780.340000</td>\n",
       "      <td>240.117626</td>\n",
       "    </tr>\n",
       "    <tr>\n",
       "      <th>1</th>\n",
       "      <td>1.0</td>\n",
       "      <td>6200.00</td>\n",
       "      <td>0.03</td>\n",
       "      <td>358.000000</td>\n",
       "      <td>4521.500000</td>\n",
       "      <td>240.117626</td>\n",
       "    </tr>\n",
       "    <tr>\n",
       "      <th>2</th>\n",
       "      <td>1.0</td>\n",
       "      <td>40000.00</td>\n",
       "      <td>0.80</td>\n",
       "      <td>171.000000</td>\n",
       "      <td>1653.780000</td>\n",
       "      <td>240.117626</td>\n",
       "    </tr>\n",
       "    <tr>\n",
       "      <th>3</th>\n",
       "      <td>1.0</td>\n",
       "      <td>127360.80</td>\n",
       "      <td>0.07</td>\n",
       "      <td>1855.000000</td>\n",
       "      <td>16007.060000</td>\n",
       "      <td>240.117626</td>\n",
       "    </tr>\n",
       "    <tr>\n",
       "      <th>4</th>\n",
       "      <td>1.0</td>\n",
       "      <td>121600.00</td>\n",
       "      <td>0.05</td>\n",
       "      <td>7590.000000</td>\n",
       "      <td>8061.305084</td>\n",
       "      <td>240.117626</td>\n",
       "    </tr>\n",
       "    <tr>\n",
       "      <th>...</th>\n",
       "      <td>...</td>\n",
       "      <td>...</td>\n",
       "      <td>...</td>\n",
       "      <td>...</td>\n",
       "      <td>...</td>\n",
       "      <td>...</td>\n",
       "    </tr>\n",
       "    <tr>\n",
       "      <th>10319</th>\n",
       "      <td>1.0</td>\n",
       "      <td>21000.00</td>\n",
       "      <td>0.06</td>\n",
       "      <td>1586.083319</td>\n",
       "      <td>8061.305084</td>\n",
       "      <td>705.790000</td>\n",
       "    </tr>\n",
       "    <tr>\n",
       "      <th>10320</th>\n",
       "      <td>0.0</td>\n",
       "      <td>137389.44</td>\n",
       "      <td>0.11</td>\n",
       "      <td>1586.083319</td>\n",
       "      <td>8061.305084</td>\n",
       "      <td>161.710000</td>\n",
       "    </tr>\n",
       "    <tr>\n",
       "      <th>10321</th>\n",
       "      <td>1.0</td>\n",
       "      <td>21000.00</td>\n",
       "      <td>0.33</td>\n",
       "      <td>1586.083319</td>\n",
       "      <td>8061.305084</td>\n",
       "      <td>5284.040000</td>\n",
       "    </tr>\n",
       "    <tr>\n",
       "      <th>10322</th>\n",
       "      <td>1.0</td>\n",
       "      <td>113871.80</td>\n",
       "      <td>0.11</td>\n",
       "      <td>1392.000000</td>\n",
       "      <td>8061.305084</td>\n",
       "      <td>134.030000</td>\n",
       "    </tr>\n",
       "    <tr>\n",
       "      <th>10323</th>\n",
       "      <td>1.0</td>\n",
       "      <td>72911.61</td>\n",
       "      <td>0.03</td>\n",
       "      <td>1586.083319</td>\n",
       "      <td>8061.305084</td>\n",
       "      <td>85.820000</td>\n",
       "    </tr>\n",
       "  </tbody>\n",
       "</table>\n",
       "<p>10324 rows × 6 columns</p>\n",
       "</div>"
      ],
      "text/plain": [
       "       On time  line_item_value  unit_price       weight  freight_cost  \\\n",
       "0          1.0           551.00        0.97    13.000000    780.340000   \n",
       "1          1.0          6200.00        0.03   358.000000   4521.500000   \n",
       "2          1.0         40000.00        0.80   171.000000   1653.780000   \n",
       "3          1.0        127360.80        0.07  1855.000000  16007.060000   \n",
       "4          1.0        121600.00        0.05  7590.000000   8061.305084   \n",
       "...        ...              ...         ...          ...           ...   \n",
       "10319      1.0         21000.00        0.06  1586.083319   8061.305084   \n",
       "10320      0.0        137389.44        0.11  1586.083319   8061.305084   \n",
       "10321      1.0         21000.00        0.33  1586.083319   8061.305084   \n",
       "10322      1.0        113871.80        0.11  1392.000000   8061.305084   \n",
       "10323      1.0         72911.61        0.03  1586.083319   8061.305084   \n",
       "\n",
       "       line_item_insurance  \n",
       "0               240.117626  \n",
       "1               240.117626  \n",
       "2               240.117626  \n",
       "3               240.117626  \n",
       "4               240.117626  \n",
       "...                    ...  \n",
       "10319           705.790000  \n",
       "10320           161.710000  \n",
       "10321          5284.040000  \n",
       "10322           134.030000  \n",
       "10323            85.820000  \n",
       "\n",
       "[10324 rows x 6 columns]"
      ]
     },
     "execution_count": 38,
     "metadata": {},
     "output_type": "execute_result"
    }
   ],
   "source": [
    " dta15.iloc[:,[10, 11, 12, 13, 14, 15]]"
   ]
  },
  {
   "cell_type": "code",
   "execution_count": 102,
   "id": "40aae12b",
   "metadata": {},
   "outputs": [],
   "source": [
    "preprocessor = ColumnTransformer(\n",
    "    transformers=[\n",
    "        ('numerical_features', MinMaxScaler(), dta15.columns[10:16] ),\n",
    "        ('categorical_features', OneHotEncoder(sparse_output=False),dta15.columns[ 0:10])])\n",
    "preprocessor.fit(dta15)\n",
    "dta15_transformed= pd.DataFrame(preprocessor.transform(dta15))"
   ]
  },
  {
   "cell_type": "code",
   "execution_count": 113,
   "id": "6c0504b6",
   "metadata": {},
   "outputs": [],
   "source": [
    "preprocessor = ColumnTransformer(\n",
    "    transformers=[\n",
    "        ('numerical_features', MinMaxScaler(), dta15.columns[11:16] ),\n",
    "        ('categorical_features', OneHotEncoder(sparse_output=False),dta15.columns[ 0:10])])\n",
    "\n",
    "preprocessor.fit(X_train)\n",
    "transformedddd= pd.DataFrame(preprocessor.transform(X_train))"
   ]
  },
  {
   "cell_type": "code",
   "execution_count": 114,
   "id": "fa03291d",
   "metadata": {
    "scrolled": false
   },
   "outputs": [
    {
     "data": {
      "text/html": [
       "<div>\n",
       "<style scoped>\n",
       "    .dataframe tbody tr th:only-of-type {\n",
       "        vertical-align: middle;\n",
       "    }\n",
       "\n",
       "    .dataframe tbody tr th {\n",
       "        vertical-align: top;\n",
       "    }\n",
       "\n",
       "    .dataframe thead th {\n",
       "        text-align: right;\n",
       "    }\n",
       "</style>\n",
       "<table border=\"1\" class=\"dataframe\">\n",
       "  <thead>\n",
       "    <tr style=\"text-align: right;\">\n",
       "      <th></th>\n",
       "      <th>0</th>\n",
       "      <th>1</th>\n",
       "      <th>2</th>\n",
       "      <th>3</th>\n",
       "      <th>4</th>\n",
       "      <th>5</th>\n",
       "      <th>6</th>\n",
       "      <th>7</th>\n",
       "      <th>8</th>\n",
       "      <th>9</th>\n",
       "      <th>...</th>\n",
       "      <th>61</th>\n",
       "      <th>62</th>\n",
       "      <th>63</th>\n",
       "      <th>64</th>\n",
       "      <th>65</th>\n",
       "      <th>66</th>\n",
       "      <th>67</th>\n",
       "      <th>68</th>\n",
       "      <th>69</th>\n",
       "      <th>70</th>\n",
       "    </tr>\n",
       "  </thead>\n",
       "  <tbody>\n",
       "    <tr>\n",
       "      <th>0</th>\n",
       "      <td>0.051368</td>\n",
       "      <td>0.200000</td>\n",
       "      <td>0.601927</td>\n",
       "      <td>0.852294</td>\n",
       "      <td>0.105701</td>\n",
       "      <td>0.0</td>\n",
       "      <td>0.0</td>\n",
       "      <td>0.0</td>\n",
       "      <td>0.0</td>\n",
       "      <td>1.0</td>\n",
       "      <td>...</td>\n",
       "      <td>0.0</td>\n",
       "      <td>0.0</td>\n",
       "      <td>0.0</td>\n",
       "      <td>0.0</td>\n",
       "      <td>0.0</td>\n",
       "      <td>0.0</td>\n",
       "      <td>1.0</td>\n",
       "      <td>0.0</td>\n",
       "      <td>0.0</td>\n",
       "      <td>0.0</td>\n",
       "    </tr>\n",
       "    <tr>\n",
       "      <th>1</th>\n",
       "      <td>0.019569</td>\n",
       "      <td>0.133333</td>\n",
       "      <td>0.011012</td>\n",
       "      <td>0.122114</td>\n",
       "      <td>0.002034</td>\n",
       "      <td>0.0</td>\n",
       "      <td>0.0</td>\n",
       "      <td>0.0</td>\n",
       "      <td>0.0</td>\n",
       "      <td>1.0</td>\n",
       "      <td>...</td>\n",
       "      <td>1.0</td>\n",
       "      <td>0.0</td>\n",
       "      <td>0.0</td>\n",
       "      <td>0.0</td>\n",
       "      <td>0.0</td>\n",
       "      <td>0.0</td>\n",
       "      <td>0.0</td>\n",
       "      <td>0.0</td>\n",
       "      <td>1.0</td>\n",
       "      <td>0.0</td>\n",
       "    </tr>\n",
       "    <tr>\n",
       "      <th>2</th>\n",
       "      <td>0.499614</td>\n",
       "      <td>0.085714</td>\n",
       "      <td>0.414591</td>\n",
       "      <td>0.158640</td>\n",
       "      <td>0.043720</td>\n",
       "      <td>0.0</td>\n",
       "      <td>0.0</td>\n",
       "      <td>0.0</td>\n",
       "      <td>0.0</td>\n",
       "      <td>0.0</td>\n",
       "      <td>...</td>\n",
       "      <td>0.0</td>\n",
       "      <td>0.0</td>\n",
       "      <td>0.0</td>\n",
       "      <td>1.0</td>\n",
       "      <td>0.0</td>\n",
       "      <td>0.0</td>\n",
       "      <td>0.0</td>\n",
       "      <td>0.0</td>\n",
       "      <td>0.0</td>\n",
       "      <td>0.0</td>\n",
       "    </tr>\n",
       "    <tr>\n",
       "      <th>3</th>\n",
       "      <td>0.005995</td>\n",
       "      <td>0.085714</td>\n",
       "      <td>0.005006</td>\n",
       "      <td>0.012897</td>\n",
       "      <td>0.000524</td>\n",
       "      <td>0.0</td>\n",
       "      <td>0.0</td>\n",
       "      <td>0.0</td>\n",
       "      <td>0.0</td>\n",
       "      <td>0.0</td>\n",
       "      <td>...</td>\n",
       "      <td>0.0</td>\n",
       "      <td>0.0</td>\n",
       "      <td>0.0</td>\n",
       "      <td>1.0</td>\n",
       "      <td>0.0</td>\n",
       "      <td>0.0</td>\n",
       "      <td>0.0</td>\n",
       "      <td>0.0</td>\n",
       "      <td>0.0</td>\n",
       "      <td>0.0</td>\n",
       "    </tr>\n",
       "    <tr>\n",
       "      <th>4</th>\n",
       "      <td>0.003366</td>\n",
       "      <td>0.133333</td>\n",
       "      <td>0.001877</td>\n",
       "      <td>0.012403</td>\n",
       "      <td>0.000250</td>\n",
       "      <td>0.0</td>\n",
       "      <td>0.0</td>\n",
       "      <td>0.0</td>\n",
       "      <td>0.0</td>\n",
       "      <td>0.0</td>\n",
       "      <td>...</td>\n",
       "      <td>1.0</td>\n",
       "      <td>0.0</td>\n",
       "      <td>0.0</td>\n",
       "      <td>0.0</td>\n",
       "      <td>0.0</td>\n",
       "      <td>0.0</td>\n",
       "      <td>0.0</td>\n",
       "      <td>0.0</td>\n",
       "      <td>1.0</td>\n",
       "      <td>0.0</td>\n",
       "    </tr>\n",
       "    <tr>\n",
       "      <th>...</th>\n",
       "      <td>...</td>\n",
       "      <td>...</td>\n",
       "      <td>...</td>\n",
       "      <td>...</td>\n",
       "      <td>...</td>\n",
       "      <td>...</td>\n",
       "      <td>...</td>\n",
       "      <td>...</td>\n",
       "      <td>...</td>\n",
       "      <td>...</td>\n",
       "      <td>...</td>\n",
       "      <td>...</td>\n",
       "      <td>...</td>\n",
       "      <td>...</td>\n",
       "      <td>...</td>\n",
       "      <td>...</td>\n",
       "      <td>...</td>\n",
       "      <td>...</td>\n",
       "      <td>...</td>\n",
       "      <td>...</td>\n",
       "      <td>...</td>\n",
       "    </tr>\n",
       "    <tr>\n",
       "      <th>7221</th>\n",
       "      <td>0.037327</td>\n",
       "      <td>0.161905</td>\n",
       "      <td>0.198484</td>\n",
       "      <td>0.246288</td>\n",
       "      <td>0.003880</td>\n",
       "      <td>0.0</td>\n",
       "      <td>1.0</td>\n",
       "      <td>0.0</td>\n",
       "      <td>0.0</td>\n",
       "      <td>0.0</td>\n",
       "      <td>...</td>\n",
       "      <td>0.0</td>\n",
       "      <td>0.0</td>\n",
       "      <td>0.0</td>\n",
       "      <td>1.0</td>\n",
       "      <td>0.0</td>\n",
       "      <td>0.0</td>\n",
       "      <td>0.0</td>\n",
       "      <td>0.0</td>\n",
       "      <td>0.0</td>\n",
       "      <td>0.0</td>\n",
       "    </tr>\n",
       "    <tr>\n",
       "      <th>7222</th>\n",
       "      <td>0.569126</td>\n",
       "      <td>0.133333</td>\n",
       "      <td>0.039795</td>\n",
       "      <td>0.184091</td>\n",
       "      <td>0.049803</td>\n",
       "      <td>0.0</td>\n",
       "      <td>0.0</td>\n",
       "      <td>1.0</td>\n",
       "      <td>0.0</td>\n",
       "      <td>0.0</td>\n",
       "      <td>...</td>\n",
       "      <td>0.0</td>\n",
       "      <td>0.0</td>\n",
       "      <td>0.0</td>\n",
       "      <td>0.0</td>\n",
       "      <td>0.0</td>\n",
       "      <td>0.0</td>\n",
       "      <td>0.0</td>\n",
       "      <td>0.0</td>\n",
       "      <td>0.0</td>\n",
       "      <td>1.0</td>\n",
       "    </tr>\n",
       "    <tr>\n",
       "      <th>7223</th>\n",
       "      <td>0.051368</td>\n",
       "      <td>0.304762</td>\n",
       "      <td>0.198484</td>\n",
       "      <td>0.246288</td>\n",
       "      <td>0.373744</td>\n",
       "      <td>0.0</td>\n",
       "      <td>0.0</td>\n",
       "      <td>0.0</td>\n",
       "      <td>1.0</td>\n",
       "      <td>0.0</td>\n",
       "      <td>...</td>\n",
       "      <td>0.0</td>\n",
       "      <td>0.0</td>\n",
       "      <td>0.0</td>\n",
       "      <td>0.0</td>\n",
       "      <td>0.0</td>\n",
       "      <td>1.0</td>\n",
       "      <td>0.0</td>\n",
       "      <td>0.0</td>\n",
       "      <td>0.0</td>\n",
       "      <td>0.0</td>\n",
       "    </tr>\n",
       "    <tr>\n",
       "      <th>7224</th>\n",
       "      <td>0.129107</td>\n",
       "      <td>0.085714</td>\n",
       "      <td>0.127769</td>\n",
       "      <td>0.159370</td>\n",
       "      <td>0.011298</td>\n",
       "      <td>0.0</td>\n",
       "      <td>0.0</td>\n",
       "      <td>0.0</td>\n",
       "      <td>0.0</td>\n",
       "      <td>0.0</td>\n",
       "      <td>...</td>\n",
       "      <td>0.0</td>\n",
       "      <td>0.0</td>\n",
       "      <td>0.0</td>\n",
       "      <td>0.0</td>\n",
       "      <td>1.0</td>\n",
       "      <td>0.0</td>\n",
       "      <td>0.0</td>\n",
       "      <td>0.0</td>\n",
       "      <td>0.0</td>\n",
       "      <td>0.0</td>\n",
       "    </tr>\n",
       "    <tr>\n",
       "      <th>7225</th>\n",
       "      <td>0.040799</td>\n",
       "      <td>0.161905</td>\n",
       "      <td>0.016644</td>\n",
       "      <td>0.053729</td>\n",
       "      <td>0.004241</td>\n",
       "      <td>0.0</td>\n",
       "      <td>0.0</td>\n",
       "      <td>0.0</td>\n",
       "      <td>0.0</td>\n",
       "      <td>0.0</td>\n",
       "      <td>...</td>\n",
       "      <td>0.0</td>\n",
       "      <td>0.0</td>\n",
       "      <td>0.0</td>\n",
       "      <td>1.0</td>\n",
       "      <td>0.0</td>\n",
       "      <td>0.0</td>\n",
       "      <td>0.0</td>\n",
       "      <td>0.0</td>\n",
       "      <td>0.0</td>\n",
       "      <td>0.0</td>\n",
       "    </tr>\n",
       "  </tbody>\n",
       "</table>\n",
       "<p>7226 rows × 71 columns</p>\n",
       "</div>"
      ],
      "text/plain": [
       "            0         1         2         3         4    5    6    7    8   \\\n",
       "0     0.051368  0.200000  0.601927  0.852294  0.105701  0.0  0.0  0.0  0.0   \n",
       "1     0.019569  0.133333  0.011012  0.122114  0.002034  0.0  0.0  0.0  0.0   \n",
       "2     0.499614  0.085714  0.414591  0.158640  0.043720  0.0  0.0  0.0  0.0   \n",
       "3     0.005995  0.085714  0.005006  0.012897  0.000524  0.0  0.0  0.0  0.0   \n",
       "4     0.003366  0.133333  0.001877  0.012403  0.000250  0.0  0.0  0.0  0.0   \n",
       "...        ...       ...       ...       ...       ...  ...  ...  ...  ...   \n",
       "7221  0.037327  0.161905  0.198484  0.246288  0.003880  0.0  1.0  0.0  0.0   \n",
       "7222  0.569126  0.133333  0.039795  0.184091  0.049803  0.0  0.0  1.0  0.0   \n",
       "7223  0.051368  0.304762  0.198484  0.246288  0.373744  0.0  0.0  0.0  1.0   \n",
       "7224  0.129107  0.085714  0.127769  0.159370  0.011298  0.0  0.0  0.0  0.0   \n",
       "7225  0.040799  0.161905  0.016644  0.053729  0.004241  0.0  0.0  0.0  0.0   \n",
       "\n",
       "       9   ...   61   62   63   64   65   66   67   68   69   70  \n",
       "0     1.0  ...  0.0  0.0  0.0  0.0  0.0  0.0  1.0  0.0  0.0  0.0  \n",
       "1     1.0  ...  1.0  0.0  0.0  0.0  0.0  0.0  0.0  0.0  1.0  0.0  \n",
       "2     0.0  ...  0.0  0.0  0.0  1.0  0.0  0.0  0.0  0.0  0.0  0.0  \n",
       "3     0.0  ...  0.0  0.0  0.0  1.0  0.0  0.0  0.0  0.0  0.0  0.0  \n",
       "4     0.0  ...  1.0  0.0  0.0  0.0  0.0  0.0  0.0  0.0  1.0  0.0  \n",
       "...   ...  ...  ...  ...  ...  ...  ...  ...  ...  ...  ...  ...  \n",
       "7221  0.0  ...  0.0  0.0  0.0  1.0  0.0  0.0  0.0  0.0  0.0  0.0  \n",
       "7222  0.0  ...  0.0  0.0  0.0  0.0  0.0  0.0  0.0  0.0  0.0  1.0  \n",
       "7223  0.0  ...  0.0  0.0  0.0  0.0  0.0  1.0  0.0  0.0  0.0  0.0  \n",
       "7224  0.0  ...  0.0  0.0  0.0  0.0  1.0  0.0  0.0  0.0  0.0  0.0  \n",
       "7225  0.0  ...  0.0  0.0  0.0  1.0  0.0  0.0  0.0  0.0  0.0  0.0  \n",
       "\n",
       "[7226 rows x 71 columns]"
      ]
     },
     "execution_count": 114,
     "metadata": {},
     "output_type": "execute_result"
    }
   ],
   "source": [
    "transformedddd"
   ]
  },
  {
   "cell_type": "code",
   "execution_count": 116,
   "id": "e95afb3c",
   "metadata": {},
   "outputs": [
    {
     "data": {
      "text/html": [
       "<div>\n",
       "<style scoped>\n",
       "    .dataframe tbody tr th:only-of-type {\n",
       "        vertical-align: middle;\n",
       "    }\n",
       "\n",
       "    .dataframe tbody tr th {\n",
       "        vertical-align: top;\n",
       "    }\n",
       "\n",
       "    .dataframe thead th {\n",
       "        text-align: right;\n",
       "    }\n",
       "</style>\n",
       "<table border=\"1\" class=\"dataframe\">\n",
       "  <thead>\n",
       "    <tr style=\"text-align: right;\">\n",
       "      <th></th>\n",
       "      <th>country</th>\n",
       "      <th>fulfill via</th>\n",
       "      <th>vendor inco term</th>\n",
       "      <th>shipment mode</th>\n",
       "      <th>ARV</th>\n",
       "      <th>for Adult</th>\n",
       "      <th>vendor</th>\n",
       "      <th>molecule/test type</th>\n",
       "      <th>dosage form</th>\n",
       "      <th>manufacturing site</th>\n",
       "      <th>line_item_value</th>\n",
       "      <th>unit_price</th>\n",
       "      <th>weight</th>\n",
       "      <th>freight_cost</th>\n",
       "      <th>line_item_insurance</th>\n",
       "    </tr>\n",
       "  </thead>\n",
       "  <tbody>\n",
       "    <tr>\n",
       "      <th>2843</th>\n",
       "      <td>Rwanda</td>\n",
       "      <td>Direct Drop</td>\n",
       "      <td>EXW</td>\n",
       "      <td>Air</td>\n",
       "      <td>1</td>\n",
       "      <td>1</td>\n",
       "      <td>MYLAN LABORATORIES LTD (FORMERLY MATRIX LABORA...</td>\n",
       "      <td>Abacavir</td>\n",
       "      <td>Tablet</td>\n",
       "      <td>Mylan (formerly Matrix) Nashik</td>\n",
       "      <td>21000.00</td>\n",
       "      <td>0.21</td>\n",
       "      <td>4810.000000</td>\n",
       "      <td>27894.810000</td>\n",
       "      <td>814.79</td>\n",
       "    </tr>\n",
       "    <tr>\n",
       "      <th>5476</th>\n",
       "      <td>Rwanda</td>\n",
       "      <td>Direct Drop</td>\n",
       "      <td>EXW</td>\n",
       "      <td>Air</td>\n",
       "      <td>0</td>\n",
       "      <td>0</td>\n",
       "      <td>Trinity Biotech, Plc</td>\n",
       "      <td>HIV 1/2, Uni-Gold HIV Kit</td>\n",
       "      <td>Test kit</td>\n",
       "      <td>Trinity Biotech, Plc</td>\n",
       "      <td>8000.00</td>\n",
       "      <td>0.14</td>\n",
       "      <td>88.000000</td>\n",
       "      <td>3997.310000</td>\n",
       "      <td>15.68</td>\n",
       "    </tr>\n",
       "    <tr>\n",
       "      <th>4490</th>\n",
       "      <td>South Africa</td>\n",
       "      <td>Direct Drop</td>\n",
       "      <td>DDP</td>\n",
       "      <td>Ocean</td>\n",
       "      <td>1</td>\n",
       "      <td>0</td>\n",
       "      <td>Aurobindo Pharma Limited</td>\n",
       "      <td>Efavirenz</td>\n",
       "      <td>Capsule</td>\n",
       "      <td>Aurobindo Unit III, India</td>\n",
       "      <td>204250.00</td>\n",
       "      <td>0.09</td>\n",
       "      <td>3313.000000</td>\n",
       "      <td>5192.740000</td>\n",
       "      <td>337.01</td>\n",
       "    </tr>\n",
       "    <tr>\n",
       "      <th>3479</th>\n",
       "      <td>South Africa</td>\n",
       "      <td>Direct Drop</td>\n",
       "      <td>DDP</td>\n",
       "      <td>Ocean</td>\n",
       "      <td>1</td>\n",
       "      <td>0</td>\n",
       "      <td>Aurobindo Pharma Limited</td>\n",
       "      <td>Efavirenz</td>\n",
       "      <td>Capsule</td>\n",
       "      <td>Aurobindo Unit III, India</td>\n",
       "      <td>2451.00</td>\n",
       "      <td>0.09</td>\n",
       "      <td>40.000000</td>\n",
       "      <td>422.840000</td>\n",
       "      <td>4.04</td>\n",
       "    </tr>\n",
       "    <tr>\n",
       "      <th>4526</th>\n",
       "      <td>others</td>\n",
       "      <td>Direct Drop</td>\n",
       "      <td>EXW</td>\n",
       "      <td>Air</td>\n",
       "      <td>0</td>\n",
       "      <td>0</td>\n",
       "      <td>Trinity Biotech, Plc</td>\n",
       "      <td>HIV 1/2, Uni-Gold HIV Kit</td>\n",
       "      <td>Test kit</td>\n",
       "      <td>Trinity Biotech, Plc</td>\n",
       "      <td>1376.00</td>\n",
       "      <td>0.14</td>\n",
       "      <td>15.000000</td>\n",
       "      <td>406.680000</td>\n",
       "      <td>1.93</td>\n",
       "    </tr>\n",
       "    <tr>\n",
       "      <th>...</th>\n",
       "      <td>...</td>\n",
       "      <td>...</td>\n",
       "      <td>...</td>\n",
       "      <td>...</td>\n",
       "      <td>...</td>\n",
       "      <td>...</td>\n",
       "      <td>...</td>\n",
       "      <td>...</td>\n",
       "      <td>...</td>\n",
       "      <td>...</td>\n",
       "      <td>...</td>\n",
       "      <td>...</td>\n",
       "      <td>...</td>\n",
       "      <td>...</td>\n",
       "      <td>...</td>\n",
       "    </tr>\n",
       "    <tr>\n",
       "      <th>1371</th>\n",
       "      <td>Haiti</td>\n",
       "      <td>From RDC</td>\n",
       "      <td>N/A - From RDC</td>\n",
       "      <td>Air</td>\n",
       "      <td>1</td>\n",
       "      <td>0</td>\n",
       "      <td>SCMS from RDC</td>\n",
       "      <td>Efavirenz</td>\n",
       "      <td>Capsule</td>\n",
       "      <td>Aurobindo Unit III, India</td>\n",
       "      <td>15260.00</td>\n",
       "      <td>0.17</td>\n",
       "      <td>1586.083319</td>\n",
       "      <td>8061.305084</td>\n",
       "      <td>29.91</td>\n",
       "    </tr>\n",
       "    <tr>\n",
       "      <th>7650</th>\n",
       "      <td>Mozambique</td>\n",
       "      <td>From RDC</td>\n",
       "      <td>N/A - From RDC</td>\n",
       "      <td>Truck</td>\n",
       "      <td>1</td>\n",
       "      <td>1</td>\n",
       "      <td>SCMS from RDC</td>\n",
       "      <td>Lamivudine/Zidovudine</td>\n",
       "      <td>Tablet - FDC</td>\n",
       "      <td>others</td>\n",
       "      <td>232667.68</td>\n",
       "      <td>0.14</td>\n",
       "      <td>318.000000</td>\n",
       "      <td>6025.730000</td>\n",
       "      <td>383.90</td>\n",
       "    </tr>\n",
       "    <tr>\n",
       "      <th>9824</th>\n",
       "      <td>Nigeria</td>\n",
       "      <td>From RDC</td>\n",
       "      <td>N/A - From RDC</td>\n",
       "      <td>Air Charter</td>\n",
       "      <td>1</td>\n",
       "      <td>1</td>\n",
       "      <td>SCMS from RDC</td>\n",
       "      <td>Efavirenz/Lamivudine/Tenofovir Disoproxil Fuma...</td>\n",
       "      <td>Tablet - FDC</td>\n",
       "      <td>Hetero Unit III Hyderabad IN</td>\n",
       "      <td>21000.00</td>\n",
       "      <td>0.32</td>\n",
       "      <td>1586.083319</td>\n",
       "      <td>8061.305084</td>\n",
       "      <td>2880.98</td>\n",
       "    </tr>\n",
       "    <tr>\n",
       "      <th>7186</th>\n",
       "      <td>Zimbabwe</td>\n",
       "      <td>From RDC</td>\n",
       "      <td>N/A - From RDC</td>\n",
       "      <td>Truck</td>\n",
       "      <td>1</td>\n",
       "      <td>1</td>\n",
       "      <td>SCMS from RDC</td>\n",
       "      <td>Lamivudine/Nevirapine/Stavudine</td>\n",
       "      <td>Tablet - FDC</td>\n",
       "      <td>Cipla, Goa, India</td>\n",
       "      <td>52781.08</td>\n",
       "      <td>0.09</td>\n",
       "      <td>1021.000000</td>\n",
       "      <td>5216.630000</td>\n",
       "      <td>87.09</td>\n",
       "    </tr>\n",
       "    <tr>\n",
       "      <th>1197</th>\n",
       "      <td>Zambia</td>\n",
       "      <td>From RDC</td>\n",
       "      <td>N/A - From RDC</td>\n",
       "      <td>Air</td>\n",
       "      <td>1</td>\n",
       "      <td>0</td>\n",
       "      <td>SCMS from RDC</td>\n",
       "      <td>Efavirenz</td>\n",
       "      <td>Capsule</td>\n",
       "      <td>Aurobindo Unit III, India</td>\n",
       "      <td>16679.18</td>\n",
       "      <td>0.17</td>\n",
       "      <td>133.000000</td>\n",
       "      <td>1759.210000</td>\n",
       "      <td>32.69</td>\n",
       "    </tr>\n",
       "  </tbody>\n",
       "</table>\n",
       "<p>7226 rows × 15 columns</p>\n",
       "</div>"
      ],
      "text/plain": [
       "           country  fulfill via vendor inco term shipment mode ARV for Adult  \\\n",
       "2843        Rwanda  Direct Drop              EXW           Air   1         1   \n",
       "5476        Rwanda  Direct Drop              EXW           Air   0         0   \n",
       "4490  South Africa  Direct Drop              DDP         Ocean   1         0   \n",
       "3479  South Africa  Direct Drop              DDP         Ocean   1         0   \n",
       "4526        others  Direct Drop              EXW           Air   0         0   \n",
       "...            ...          ...              ...           ...  ..       ...   \n",
       "1371         Haiti     From RDC   N/A - From RDC           Air   1         0   \n",
       "7650    Mozambique     From RDC   N/A - From RDC         Truck   1         1   \n",
       "9824       Nigeria     From RDC   N/A - From RDC   Air Charter   1         1   \n",
       "7186      Zimbabwe     From RDC   N/A - From RDC         Truck   1         1   \n",
       "1197        Zambia     From RDC   N/A - From RDC           Air   1         0   \n",
       "\n",
       "                                                 vendor  \\\n",
       "2843  MYLAN LABORATORIES LTD (FORMERLY MATRIX LABORA...   \n",
       "5476                               Trinity Biotech, Plc   \n",
       "4490                           Aurobindo Pharma Limited   \n",
       "3479                           Aurobindo Pharma Limited   \n",
       "4526                               Trinity Biotech, Plc   \n",
       "...                                                 ...   \n",
       "1371                                      SCMS from RDC   \n",
       "7650                                      SCMS from RDC   \n",
       "9824                                      SCMS from RDC   \n",
       "7186                                      SCMS from RDC   \n",
       "1197                                      SCMS from RDC   \n",
       "\n",
       "                                     molecule/test type   dosage form  \\\n",
       "2843                                           Abacavir        Tablet   \n",
       "5476                          HIV 1/2, Uni-Gold HIV Kit      Test kit   \n",
       "4490                                          Efavirenz       Capsule   \n",
       "3479                                          Efavirenz       Capsule   \n",
       "4526                          HIV 1/2, Uni-Gold HIV Kit      Test kit   \n",
       "...                                                 ...           ...   \n",
       "1371                                          Efavirenz       Capsule   \n",
       "7650                              Lamivudine/Zidovudine  Tablet - FDC   \n",
       "9824  Efavirenz/Lamivudine/Tenofovir Disoproxil Fuma...  Tablet - FDC   \n",
       "7186                    Lamivudine/Nevirapine/Stavudine  Tablet - FDC   \n",
       "1197                                          Efavirenz       Capsule   \n",
       "\n",
       "                  manufacturing site  line_item_value  unit_price  \\\n",
       "2843  Mylan (formerly Matrix) Nashik         21000.00        0.21   \n",
       "5476            Trinity Biotech, Plc          8000.00        0.14   \n",
       "4490       Aurobindo Unit III, India        204250.00        0.09   \n",
       "3479       Aurobindo Unit III, India          2451.00        0.09   \n",
       "4526            Trinity Biotech, Plc          1376.00        0.14   \n",
       "...                              ...              ...         ...   \n",
       "1371       Aurobindo Unit III, India         15260.00        0.17   \n",
       "7650                          others        232667.68        0.14   \n",
       "9824    Hetero Unit III Hyderabad IN         21000.00        0.32   \n",
       "7186               Cipla, Goa, India         52781.08        0.09   \n",
       "1197       Aurobindo Unit III, India         16679.18        0.17   \n",
       "\n",
       "           weight  freight_cost  line_item_insurance  \n",
       "2843  4810.000000  27894.810000               814.79  \n",
       "5476    88.000000   3997.310000                15.68  \n",
       "4490  3313.000000   5192.740000               337.01  \n",
       "3479    40.000000    422.840000                 4.04  \n",
       "4526    15.000000    406.680000                 1.93  \n",
       "...           ...           ...                  ...  \n",
       "1371  1586.083319   8061.305084                29.91  \n",
       "7650   318.000000   6025.730000               383.90  \n",
       "9824  1586.083319   8061.305084              2880.98  \n",
       "7186  1021.000000   5216.630000                87.09  \n",
       "1197   133.000000   1759.210000                32.69  \n",
       "\n",
       "[7226 rows x 15 columns]"
      ]
     },
     "execution_count": 116,
     "metadata": {},
     "output_type": "execute_result"
    }
   ],
   "source": [
    "X_train"
   ]
  },
  {
   "cell_type": "code",
   "execution_count": 117,
   "id": "6b489122",
   "metadata": {},
   "outputs": [
    {
     "data": {
      "text/plain": [
       "2843    1.0\n",
       "5476    1.0\n",
       "4490    1.0\n",
       "3479    1.0\n",
       "4526    1.0\n",
       "       ... \n",
       "1371    1.0\n",
       "7650    0.0\n",
       "9824    1.0\n",
       "7186    1.0\n",
       "1197    1.0\n",
       "Name: On time, Length: 7226, dtype: float64"
      ]
     },
     "execution_count": 117,
     "metadata": {},
     "output_type": "execute_result"
    }
   ],
   "source": [
    "y_train"
   ]
  },
  {
   "cell_type": "markdown",
   "id": "962124ad",
   "metadata": {},
   "source": [
    "##### Step 20: _correlation Analysis for numeric variables_"
   ]
  },
  {
   "cell_type": "code",
   "execution_count": 54,
   "id": "362e0fcf",
   "metadata": {
    "scrolled": true
   },
   "outputs": [
    {
     "data": {
      "text/html": [
       "<div>\n",
       "<style scoped>\n",
       "    .dataframe tbody tr th:only-of-type {\n",
       "        vertical-align: middle;\n",
       "    }\n",
       "\n",
       "    .dataframe tbody tr th {\n",
       "        vertical-align: top;\n",
       "    }\n",
       "\n",
       "    .dataframe thead th {\n",
       "        text-align: right;\n",
       "    }\n",
       "</style>\n",
       "<table border=\"1\" class=\"dataframe\">\n",
       "  <thead>\n",
       "    <tr style=\"text-align: right;\">\n",
       "      <th></th>\n",
       "      <th>line_item_value</th>\n",
       "      <th>unit_price</th>\n",
       "      <th>weight</th>\n",
       "      <th>freight_cost</th>\n",
       "      <th>line_item_insurance</th>\n",
       "    </tr>\n",
       "  </thead>\n",
       "  <tbody>\n",
       "    <tr>\n",
       "      <th>line_item_value</th>\n",
       "      <td>1.00</td>\n",
       "      <td>0.14</td>\n",
       "      <td>0.32</td>\n",
       "      <td>0.30</td>\n",
       "      <td>0.15</td>\n",
       "    </tr>\n",
       "    <tr>\n",
       "      <th>unit_price</th>\n",
       "      <td>0.14</td>\n",
       "      <td>1.00</td>\n",
       "      <td>-0.08</td>\n",
       "      <td>0.09</td>\n",
       "      <td>0.13</td>\n",
       "    </tr>\n",
       "    <tr>\n",
       "      <th>weight</th>\n",
       "      <td>0.32</td>\n",
       "      <td>-0.08</td>\n",
       "      <td>1.00</td>\n",
       "      <td>0.43</td>\n",
       "      <td>0.27</td>\n",
       "    </tr>\n",
       "    <tr>\n",
       "      <th>freight_cost</th>\n",
       "      <td>0.30</td>\n",
       "      <td>0.09</td>\n",
       "      <td>0.43</td>\n",
       "      <td>1.00</td>\n",
       "      <td>0.26</td>\n",
       "    </tr>\n",
       "    <tr>\n",
       "      <th>line_item_insurance</th>\n",
       "      <td>0.15</td>\n",
       "      <td>0.13</td>\n",
       "      <td>0.27</td>\n",
       "      <td>0.26</td>\n",
       "      <td>1.00</td>\n",
       "    </tr>\n",
       "  </tbody>\n",
       "</table>\n",
       "</div>"
      ],
      "text/plain": [
       "                     line_item_value  unit_price  weight  freight_cost  \\\n",
       "line_item_value                 1.00        0.14    0.32          0.30   \n",
       "unit_price                      0.14        1.00   -0.08          0.09   \n",
       "weight                          0.32       -0.08    1.00          0.43   \n",
       "freight_cost                    0.30        0.09    0.43          1.00   \n",
       "line_item_insurance             0.15        0.13    0.27          0.26   \n",
       "\n",
       "                     line_item_insurance  \n",
       "line_item_value                     0.15  \n",
       "unit_price                          0.13  \n",
       "weight                              0.27  \n",
       "freight_cost                        0.26  \n",
       "line_item_insurance                 1.00  "
      ]
     },
     "execution_count": 54,
     "metadata": {},
     "output_type": "execute_result"
    }
   ],
   "source": [
    "corr_table1 = round( numerical_data.corr(method = 'pearson'), 2)\n",
    "corr_table1"
   ]
  },
  {
   "cell_type": "code",
   "execution_count": 58,
   "id": "c1e9c3cd",
   "metadata": {},
   "outputs": [],
   "source": [
    "# dta15.to_csv(\"C:/Users/Lenovo/Desktop/Dta for LOGREG.csv\")"
   ]
  },
  {
   "cell_type": "markdown",
   "id": "48595f57",
   "metadata": {},
   "source": [
    "# MODELING\n"
   ]
  },
  {
   "cell_type": "markdown",
   "id": "ce2b70c0",
   "metadata": {},
   "source": [
    "##### Step 21: _Defining features and response variable_"
   ]
  },
  {
   "cell_type": "code",
   "execution_count": 36,
   "id": "0cf3313d",
   "metadata": {},
   "outputs": [],
   "source": [
    "X = pd.concat([categorical_data,numerical_data],axis=1)  # Features\n",
    "y =target_var       # response variable"
   ]
  },
  {
   "cell_type": "markdown",
   "id": "99157c90",
   "metadata": {},
   "source": [
    "##### Step 22: _importing required libraries_"
   ]
  },
  {
   "cell_type": "code",
   "execution_count": 105,
   "id": "ce14f968",
   "metadata": {},
   "outputs": [],
   "source": [
    "from sklearn.neighbors import KNeighborsClassifier\n",
    "from sklearn.model_selection import  GridSearchCV\n",
    "from sklearn.model_selection import train_test_split\n",
    "from sklearn.preprocessing import StandardScaler, OneHotEncoder,MinMaxScaler\n",
    "from sklearn.compose import ColumnTransformer\n",
    "from sklearn.pipeline import Pipeline"
   ]
  },
  {
   "cell_type": "markdown",
   "id": "ad25e7ca",
   "metadata": {},
   "source": [
    "##### Step 23: _deviding train/test_"
   ]
  },
  {
   "cell_type": "code",
   "execution_count": 37,
   "id": "06e80cfb",
   "metadata": {},
   "outputs": [],
   "source": [
    "# Split the data into training and testing sets\n",
    "X_train, X_test, y_train, y_test = train_test_split(X, y, test_size=0.30, random_state=42,stratify=y)"
   ]
  },
  {
   "cell_type": "markdown",
   "id": "dc47ccba",
   "metadata": {},
   "source": [
    "##### Step 24: _Modeling:_"
   ]
  },
  {
   "cell_type": "code",
   "execution_count": 38,
   "id": "3a8886ed",
   "metadata": {},
   "outputs": [
    {
     "data": {
      "text/plain": [
       "Index(['line_item_value', 'unit_price', 'weight', 'freight_cost',\n",
       "       'line_item_insurance'],\n",
       "      dtype='object')"
      ]
     },
     "execution_count": 38,
     "metadata": {},
     "output_type": "execute_result"
    }
   ],
   "source": [
    "X_train.columns\n",
    "numerical_data.columns"
   ]
  },
  {
   "cell_type": "code",
   "execution_count": 39,
   "id": "67367acc",
   "metadata": {},
   "outputs": [],
   "source": [
    "numerical_features =  [\n",
    "    'line_item_value', 'unit_price', 'weight', 'freight_cost',\n",
    "       'line_item_insurance'\n",
    "]\n",
    "categorical_features =  [\n",
    "    'country', 'fulfill via', 'vendor inco term', 'shipment mode', 'ARV',\n",
    "       'for Adult', 'vendor', 'molecule/test type', 'dosage form',\n",
    "       'manufacturing site'\n",
    "                        ]\n",
    "\n",
    "preprocessor = ColumnTransformer(\n",
    "    transformers=[\n",
    "        ('numerical_features', MinMaxScaler(), numerical_features),\n",
    "        ('categorical_features', OneHotEncoder(sparse_output=False), categorical_features),\n",
    "        ])\n",
    "# ('other', 'passthrough', X.columns.difference(numerical_features).difference(categorical_features))\n",
    "model = Pipeline([\n",
    "    ('preprocessor', preprocessor),\n",
    "    ('classifier', KNeighborsClassifier())])\n",
    "parameters = {\n",
    "    'classifier__n_neighbors':[3, 4, 5, 6, 7, 8, 9, 10],\n",
    "    'classifier__p': [1, 2, 3],\n",
    "    'classifier__weights': ['uniform','distance']} \n",
    "\n",
    "grid_search_KNN = GridSearchCV(model, parameters, cv=3,scoring='accuracy').fit(X_train, y_train)"
   ]
  },
  {
   "cell_type": "code",
   "execution_count": 271,
   "id": "66462dd7",
   "metadata": {
    "scrolled": true
   },
   "outputs": [
    {
     "name": "stdout",
     "output_type": "stream",
     "text": [
      "Best Parameters:  {'classifier__n_neighbors': 9, 'classifier__p': 3, 'classifier__weights': 'uniform'}\n",
      "Best Accuracy:  0.8811237919632312\n"
     ]
    }
   ],
   "source": [
    "print(\"Best Parameters: \", grid_search_KNN.best_params_) \n",
    "print(\"Best Accuracy: \", grid_search_KNN.best_score_)#mean cross-validated score of the best_estimator"
   ]
  },
  {
   "cell_type": "code",
   "execution_count": 43,
   "id": "aa8a872b",
   "metadata": {},
   "outputs": [
    {
     "name": "stdout",
     "output_type": "stream",
     "text": [
      "Accuracy: 0.8724983860555197\n",
      "Precision: 0.8263163055470871\n",
      "Recall: 0.8724983860555197\n",
      "F1 Score: 0.8409822681864503\n"
     ]
    }
   ],
   "source": [
    "categorical_features =  ['country', 'fulfill via', 'vendor inco term', 'shipment mode', 'ARV',\n",
    "                         'for Adult', 'vendor', 'molecule/test type', 'dosage form', 'manufacturing site']\n",
    "numerical_features = X.columns.difference(categorical_features)\n",
    "preprocessor = ColumnTransformer(\n",
    "    transformers=[\n",
    "        ('numerical_features', MinMaxScaler(), numerical_features),\n",
    "        ('categorical_features', OneHotEncoder(sparse_output=False), categorical_features),\n",
    "    ])\n",
    "model_KNN = Pipeline([\n",
    "    ('preprocessor', preprocessor),\n",
    "    ('classifier', KNeighborsClassifier(n_neighbors=9, p=3, weights='uniform'))  # Specify parameters here\n",
    "])\n",
    "model_KNN.fit(X_train, y_train)\n",
    "y_pred_KNN = model_KNN.predict(X_test)\n",
    "\n",
    "accuracy = accuracy_score(y_test, y_pred_KNN)\n",
    "precision = precision_score(y_test, y_pred_KNN, average='weighted')\n",
    "recall = recall_score(y_test, y_pred_KNN, average='weighted')\n",
    "f1 = f1_score(y_test, y_pred_KNN, average='weighted')\n",
    "\n",
    "print(\"Accuracy:\", accuracy)\n",
    "print(\"Precision:\", precision)\n",
    "print(\"Recall:\", recall)\n",
    "print(\"F1 Score:\", f1)\n"
   ]
  },
  {
   "cell_type": "markdown",
   "id": "1ae7dde5",
   "metadata": {},
   "source": [
    "### KNN- Predict On Test Dataset, Accurcay:"
   ]
  },
  {
   "cell_type": "code",
   "execution_count": 42,
   "id": "f27f0aa4",
   "metadata": {
    "scrolled": true
   },
   "outputs": [
    {
     "name": "stdout",
     "output_type": "stream",
     "text": [
      "Accuracy: 0.8724983860555197\n"
     ]
    }
   ],
   "source": [
    "y_pred_KNN=grid_search_KNN.predict(X_test) \n",
    "from sklearn.metrics import accuracy_score\n",
    "accuracy = accuracy_score(y_test, y_pred_KNN)\n",
    "print(\"Accuracy:\", accuracy)"
   ]
  },
  {
   "cell_type": "markdown",
   "id": "7750d6d5",
   "metadata": {},
   "source": [
    "Prediction by the best KNN"
   ]
  },
  {
   "cell_type": "code",
   "execution_count": null,
   "id": "7958eefa",
   "metadata": {},
   "outputs": [],
   "source": [
    "categorical_features =  ['country', 'fulfill via', 'vendor inco term', 'shipment mode', 'ARV',\n",
    "                         'for Adult', 'vendor', 'molecule/test type', 'dosage form', 'manufacturing site']\n",
    "numerical_features = X.columns.difference(categorical_features)\n",
    "preprocessor = ColumnTransformer(\n",
    "    transformers=[\n",
    "        ('numerical_features', MinMaxScaler(), numerical_features),\n",
    "        ('categorical_features', OneHotEncoder(sparse_output=False), categorical_features),\n",
    "    ])\n",
    "model_KNN = Pipeline([\n",
    "    ('preprocessor', preprocessor),\n",
    "    ('classifier', KNeighborsClassifier(n_neighbors=9, p=3, weights='uniform'))  # Specify parameters here\n",
    "])\n",
    "model.fit(X_train, y_train)\n",
    "y_pred_KNN = model.predict(X_test)\n",
    "\n",
    "accuracy = accuracy_score(y_test, y_pred_KNN)\n",
    "precision = precision_score(y_test, y_pred_KNN, average='weighted')\n",
    "recall = recall_score(y_test, y_pred_KNN, average='weighted')\n",
    "f1 = f1_score(y_test, y_pred_KNN, average='weighted')\n",
    "\n",
    "print(\"Accuracy:\", accuracy)\n",
    "print(\"Precision:\", precision)\n",
    "print(\"Recall:\", recall)\n",
    "print(\"F1 Score:\", f1)\n"
   ]
  },
  {
   "cell_type": "markdown",
   "id": "47c409d8",
   "metadata": {},
   "source": [
    "# SVM"
   ]
  },
  {
   "cell_type": "code",
   "execution_count": 48,
   "id": "6d299973",
   "metadata": {},
   "outputs": [],
   "source": [
    "from sklearn.svm import SVC\n",
    "from sklearn.pipeline import Pipeline\n",
    "from sklearn.preprocessing import StandardScaler"
   ]
  },
  {
   "cell_type": "code",
   "execution_count": 256,
   "id": "81c42d80",
   "metadata": {},
   "outputs": [],
   "source": [
    "numerical_features =  [\n",
    "    'line_item_value', 'unit_price', 'weight', 'freight_cost',\n",
    "       'line_item_insurance'\n",
    "]\n",
    "categorical_features =  [\n",
    "    'country', 'fulfill via', 'vendor inco term', 'shipment mode', 'ARV',\n",
    "       'for Adult', 'vendor', 'molecule/test type', 'dosage form',\n",
    "       'manufacturing site'\n",
    "                        ]\n",
    "preprocessor = ColumnTransformer(\n",
    "    transformers=[\n",
    "        ('numerical_features', StandardScaler(), numerical_features),\n",
    "        ('categorical_features', OneHotEncoder(sparse_output=False), categorical_features),\n",
    "        ])\n",
    "svm_estimator_model = Pipeline([\n",
    "    ('preprocessor', preprocessor),\n",
    "    ('svc',SVC())  ])\n",
    "parameters = {'svc__C': [0.001, 0.01, 0.1, 1, 10],'svc__gamma': [0.001, 0.01, 0.1, 1, 10]}"
   ]
  },
  {
   "cell_type": "code",
   "execution_count": 257,
   "id": "0486acff",
   "metadata": {},
   "outputs": [
    {
     "data": {
      "text/html": [
       "<style>#sk-container-id-1 {color: black;}#sk-container-id-1 pre{padding: 0;}#sk-container-id-1 div.sk-toggleable {background-color: white;}#sk-container-id-1 label.sk-toggleable__label {cursor: pointer;display: block;width: 100%;margin-bottom: 0;padding: 0.3em;box-sizing: border-box;text-align: center;}#sk-container-id-1 label.sk-toggleable__label-arrow:before {content: \"▸\";float: left;margin-right: 0.25em;color: #696969;}#sk-container-id-1 label.sk-toggleable__label-arrow:hover:before {color: black;}#sk-container-id-1 div.sk-estimator:hover label.sk-toggleable__label-arrow:before {color: black;}#sk-container-id-1 div.sk-toggleable__content {max-height: 0;max-width: 0;overflow: hidden;text-align: left;background-color: #f0f8ff;}#sk-container-id-1 div.sk-toggleable__content pre {margin: 0.2em;color: black;border-radius: 0.25em;background-color: #f0f8ff;}#sk-container-id-1 input.sk-toggleable__control:checked~div.sk-toggleable__content {max-height: 200px;max-width: 100%;overflow: auto;}#sk-container-id-1 input.sk-toggleable__control:checked~label.sk-toggleable__label-arrow:before {content: \"▾\";}#sk-container-id-1 div.sk-estimator input.sk-toggleable__control:checked~label.sk-toggleable__label {background-color: #d4ebff;}#sk-container-id-1 div.sk-label input.sk-toggleable__control:checked~label.sk-toggleable__label {background-color: #d4ebff;}#sk-container-id-1 input.sk-hidden--visually {border: 0;clip: rect(1px 1px 1px 1px);clip: rect(1px, 1px, 1px, 1px);height: 1px;margin: -1px;overflow: hidden;padding: 0;position: absolute;width: 1px;}#sk-container-id-1 div.sk-estimator {font-family: monospace;background-color: #f0f8ff;border: 1px dotted black;border-radius: 0.25em;box-sizing: border-box;margin-bottom: 0.5em;}#sk-container-id-1 div.sk-estimator:hover {background-color: #d4ebff;}#sk-container-id-1 div.sk-parallel-item::after {content: \"\";width: 100%;border-bottom: 1px solid gray;flex-grow: 1;}#sk-container-id-1 div.sk-label:hover label.sk-toggleable__label {background-color: #d4ebff;}#sk-container-id-1 div.sk-serial::before {content: \"\";position: absolute;border-left: 1px solid gray;box-sizing: border-box;top: 0;bottom: 0;left: 50%;z-index: 0;}#sk-container-id-1 div.sk-serial {display: flex;flex-direction: column;align-items: center;background-color: white;padding-right: 0.2em;padding-left: 0.2em;position: relative;}#sk-container-id-1 div.sk-item {position: relative;z-index: 1;}#sk-container-id-1 div.sk-parallel {display: flex;align-items: stretch;justify-content: center;background-color: white;position: relative;}#sk-container-id-1 div.sk-item::before, #sk-container-id-1 div.sk-parallel-item::before {content: \"\";position: absolute;border-left: 1px solid gray;box-sizing: border-box;top: 0;bottom: 0;left: 50%;z-index: -1;}#sk-container-id-1 div.sk-parallel-item {display: flex;flex-direction: column;z-index: 1;position: relative;background-color: white;}#sk-container-id-1 div.sk-parallel-item:first-child::after {align-self: flex-end;width: 50%;}#sk-container-id-1 div.sk-parallel-item:last-child::after {align-self: flex-start;width: 50%;}#sk-container-id-1 div.sk-parallel-item:only-child::after {width: 0;}#sk-container-id-1 div.sk-dashed-wrapped {border: 1px dashed gray;margin: 0 0.4em 0.5em 0.4em;box-sizing: border-box;padding-bottom: 0.4em;background-color: white;}#sk-container-id-1 div.sk-label label {font-family: monospace;font-weight: bold;display: inline-block;line-height: 1.2em;}#sk-container-id-1 div.sk-label-container {text-align: center;}#sk-container-id-1 div.sk-container {/* jupyter's `normalize.less` sets `[hidden] { display: none; }` but bootstrap.min.css set `[hidden] { display: none !important; }` so we also need the `!important` here to be able to override the default hidden behavior on the sphinx rendered scikit-learn.org. See: https://github.com/scikit-learn/scikit-learn/issues/21755 */display: inline-block !important;position: relative;}#sk-container-id-1 div.sk-text-repr-fallback {display: none;}</style><div id=\"sk-container-id-1\" class=\"sk-top-container\"><div class=\"sk-text-repr-fallback\"><pre>GridSearchCV(cv=5,\n",
       "             estimator=Pipeline(steps=[(&#x27;preprocessor&#x27;,\n",
       "                                        ColumnTransformer(transformers=[(&#x27;numerical_features&#x27;,\n",
       "                                                                         StandardScaler(),\n",
       "                                                                         [&#x27;line_item_value&#x27;,\n",
       "                                                                          &#x27;unit_price&#x27;,\n",
       "                                                                          &#x27;weight&#x27;,\n",
       "                                                                          &#x27;freight_cost&#x27;,\n",
       "                                                                          &#x27;line_item_insurance&#x27;]),\n",
       "                                                                        (&#x27;categorical_features&#x27;,\n",
       "                                                                         OneHotEncoder(sparse_output=False),\n",
       "                                                                         [&#x27;country&#x27;,\n",
       "                                                                          &#x27;fulfill &#x27;\n",
       "                                                                          &#x27;via&#x27;,\n",
       "                                                                          &#x27;vendor &#x27;\n",
       "                                                                          &#x27;inco &#x27;\n",
       "                                                                          &#x27;term&#x27;,\n",
       "                                                                          &#x27;shipment &#x27;\n",
       "                                                                          &#x27;mode&#x27;,\n",
       "                                                                          &#x27;ARV&#x27;,\n",
       "                                                                          &#x27;for &#x27;\n",
       "                                                                          &#x27;Adult&#x27;,\n",
       "                                                                          &#x27;vendor&#x27;,\n",
       "                                                                          &#x27;molecule/test &#x27;\n",
       "                                                                          &#x27;type&#x27;,\n",
       "                                                                          &#x27;dosage &#x27;\n",
       "                                                                          &#x27;form&#x27;,\n",
       "                                                                          &#x27;manufacturing &#x27;\n",
       "                                                                          &#x27;site&#x27;])])),\n",
       "                                       (&#x27;svc&#x27;, SVC())]),\n",
       "             param_grid={&#x27;svc__C&#x27;: [0.001, 0.01, 0.1, 1, 10],\n",
       "                         &#x27;svc__gamma&#x27;: [0.001, 0.01, 0.1, 1, 10]})</pre><b>In a Jupyter environment, please rerun this cell to show the HTML representation or trust the notebook. <br />On GitHub, the HTML representation is unable to render, please try loading this page with nbviewer.org.</b></div><div class=\"sk-container\" hidden><div class=\"sk-item sk-dashed-wrapped\"><div class=\"sk-label-container\"><div class=\"sk-label sk-toggleable\"><input class=\"sk-toggleable__control sk-hidden--visually\" id=\"sk-estimator-id-1\" type=\"checkbox\" ><label for=\"sk-estimator-id-1\" class=\"sk-toggleable__label sk-toggleable__label-arrow\">GridSearchCV</label><div class=\"sk-toggleable__content\"><pre>GridSearchCV(cv=5,\n",
       "             estimator=Pipeline(steps=[(&#x27;preprocessor&#x27;,\n",
       "                                        ColumnTransformer(transformers=[(&#x27;numerical_features&#x27;,\n",
       "                                                                         StandardScaler(),\n",
       "                                                                         [&#x27;line_item_value&#x27;,\n",
       "                                                                          &#x27;unit_price&#x27;,\n",
       "                                                                          &#x27;weight&#x27;,\n",
       "                                                                          &#x27;freight_cost&#x27;,\n",
       "                                                                          &#x27;line_item_insurance&#x27;]),\n",
       "                                                                        (&#x27;categorical_features&#x27;,\n",
       "                                                                         OneHotEncoder(sparse_output=False),\n",
       "                                                                         [&#x27;country&#x27;,\n",
       "                                                                          &#x27;fulfill &#x27;\n",
       "                                                                          &#x27;via&#x27;,\n",
       "                                                                          &#x27;vendor &#x27;\n",
       "                                                                          &#x27;inco &#x27;\n",
       "                                                                          &#x27;term&#x27;,\n",
       "                                                                          &#x27;shipment &#x27;\n",
       "                                                                          &#x27;mode&#x27;,\n",
       "                                                                          &#x27;ARV&#x27;,\n",
       "                                                                          &#x27;for &#x27;\n",
       "                                                                          &#x27;Adult&#x27;,\n",
       "                                                                          &#x27;vendor&#x27;,\n",
       "                                                                          &#x27;molecule/test &#x27;\n",
       "                                                                          &#x27;type&#x27;,\n",
       "                                                                          &#x27;dosage &#x27;\n",
       "                                                                          &#x27;form&#x27;,\n",
       "                                                                          &#x27;manufacturing &#x27;\n",
       "                                                                          &#x27;site&#x27;])])),\n",
       "                                       (&#x27;svc&#x27;, SVC())]),\n",
       "             param_grid={&#x27;svc__C&#x27;: [0.001, 0.01, 0.1, 1, 10],\n",
       "                         &#x27;svc__gamma&#x27;: [0.001, 0.01, 0.1, 1, 10]})</pre></div></div></div><div class=\"sk-parallel\"><div class=\"sk-parallel-item\"><div class=\"sk-item\"><div class=\"sk-label-container\"><div class=\"sk-label sk-toggleable\"><input class=\"sk-toggleable__control sk-hidden--visually\" id=\"sk-estimator-id-2\" type=\"checkbox\" ><label for=\"sk-estimator-id-2\" class=\"sk-toggleable__label sk-toggleable__label-arrow\">estimator: Pipeline</label><div class=\"sk-toggleable__content\"><pre>Pipeline(steps=[(&#x27;preprocessor&#x27;,\n",
       "                 ColumnTransformer(transformers=[(&#x27;numerical_features&#x27;,\n",
       "                                                  StandardScaler(),\n",
       "                                                  [&#x27;line_item_value&#x27;,\n",
       "                                                   &#x27;unit_price&#x27;, &#x27;weight&#x27;,\n",
       "                                                   &#x27;freight_cost&#x27;,\n",
       "                                                   &#x27;line_item_insurance&#x27;]),\n",
       "                                                 (&#x27;categorical_features&#x27;,\n",
       "                                                  OneHotEncoder(sparse_output=False),\n",
       "                                                  [&#x27;country&#x27;, &#x27;fulfill via&#x27;,\n",
       "                                                   &#x27;vendor inco term&#x27;,\n",
       "                                                   &#x27;shipment mode&#x27;, &#x27;ARV&#x27;,\n",
       "                                                   &#x27;for Adult&#x27;, &#x27;vendor&#x27;,\n",
       "                                                   &#x27;molecule/test type&#x27;,\n",
       "                                                   &#x27;dosage form&#x27;,\n",
       "                                                   &#x27;manufacturing site&#x27;])])),\n",
       "                (&#x27;svc&#x27;, SVC())])</pre></div></div></div><div class=\"sk-serial\"><div class=\"sk-item\"><div class=\"sk-serial\"><div class=\"sk-item sk-dashed-wrapped\"><div class=\"sk-label-container\"><div class=\"sk-label sk-toggleable\"><input class=\"sk-toggleable__control sk-hidden--visually\" id=\"sk-estimator-id-3\" type=\"checkbox\" ><label for=\"sk-estimator-id-3\" class=\"sk-toggleable__label sk-toggleable__label-arrow\">preprocessor: ColumnTransformer</label><div class=\"sk-toggleable__content\"><pre>ColumnTransformer(transformers=[(&#x27;numerical_features&#x27;, StandardScaler(),\n",
       "                                 [&#x27;line_item_value&#x27;, &#x27;unit_price&#x27;, &#x27;weight&#x27;,\n",
       "                                  &#x27;freight_cost&#x27;, &#x27;line_item_insurance&#x27;]),\n",
       "                                (&#x27;categorical_features&#x27;,\n",
       "                                 OneHotEncoder(sparse_output=False),\n",
       "                                 [&#x27;country&#x27;, &#x27;fulfill via&#x27;, &#x27;vendor inco term&#x27;,\n",
       "                                  &#x27;shipment mode&#x27;, &#x27;ARV&#x27;, &#x27;for Adult&#x27;, &#x27;vendor&#x27;,\n",
       "                                  &#x27;molecule/test type&#x27;, &#x27;dosage form&#x27;,\n",
       "                                  &#x27;manufacturing site&#x27;])])</pre></div></div></div><div class=\"sk-parallel\"><div class=\"sk-parallel-item\"><div class=\"sk-item\"><div class=\"sk-label-container\"><div class=\"sk-label sk-toggleable\"><input class=\"sk-toggleable__control sk-hidden--visually\" id=\"sk-estimator-id-4\" type=\"checkbox\" ><label for=\"sk-estimator-id-4\" class=\"sk-toggleable__label sk-toggleable__label-arrow\">numerical_features</label><div class=\"sk-toggleable__content\"><pre>[&#x27;line_item_value&#x27;, &#x27;unit_price&#x27;, &#x27;weight&#x27;, &#x27;freight_cost&#x27;, &#x27;line_item_insurance&#x27;]</pre></div></div></div><div class=\"sk-serial\"><div class=\"sk-item\"><div class=\"sk-estimator sk-toggleable\"><input class=\"sk-toggleable__control sk-hidden--visually\" id=\"sk-estimator-id-5\" type=\"checkbox\" ><label for=\"sk-estimator-id-5\" class=\"sk-toggleable__label sk-toggleable__label-arrow\">StandardScaler</label><div class=\"sk-toggleable__content\"><pre>StandardScaler()</pre></div></div></div></div></div></div><div class=\"sk-parallel-item\"><div class=\"sk-item\"><div class=\"sk-label-container\"><div class=\"sk-label sk-toggleable\"><input class=\"sk-toggleable__control sk-hidden--visually\" id=\"sk-estimator-id-6\" type=\"checkbox\" ><label for=\"sk-estimator-id-6\" class=\"sk-toggleable__label sk-toggleable__label-arrow\">categorical_features</label><div class=\"sk-toggleable__content\"><pre>[&#x27;country&#x27;, &#x27;fulfill via&#x27;, &#x27;vendor inco term&#x27;, &#x27;shipment mode&#x27;, &#x27;ARV&#x27;, &#x27;for Adult&#x27;, &#x27;vendor&#x27;, &#x27;molecule/test type&#x27;, &#x27;dosage form&#x27;, &#x27;manufacturing site&#x27;]</pre></div></div></div><div class=\"sk-serial\"><div class=\"sk-item\"><div class=\"sk-estimator sk-toggleable\"><input class=\"sk-toggleable__control sk-hidden--visually\" id=\"sk-estimator-id-7\" type=\"checkbox\" ><label for=\"sk-estimator-id-7\" class=\"sk-toggleable__label sk-toggleable__label-arrow\">OneHotEncoder</label><div class=\"sk-toggleable__content\"><pre>OneHotEncoder(sparse_output=False)</pre></div></div></div></div></div></div></div></div><div class=\"sk-item\"><div class=\"sk-estimator sk-toggleable\"><input class=\"sk-toggleable__control sk-hidden--visually\" id=\"sk-estimator-id-8\" type=\"checkbox\" ><label for=\"sk-estimator-id-8\" class=\"sk-toggleable__label sk-toggleable__label-arrow\">SVC</label><div class=\"sk-toggleable__content\"><pre>SVC()</pre></div></div></div></div></div></div></div></div></div></div></div></div>"
      ],
      "text/plain": [
       "GridSearchCV(cv=5,\n",
       "             estimator=Pipeline(steps=[('preprocessor',\n",
       "                                        ColumnTransformer(transformers=[('numerical_features',\n",
       "                                                                         StandardScaler(),\n",
       "                                                                         ['line_item_value',\n",
       "                                                                          'unit_price',\n",
       "                                                                          'weight',\n",
       "                                                                          'freight_cost',\n",
       "                                                                          'line_item_insurance']),\n",
       "                                                                        ('categorical_features',\n",
       "                                                                         OneHotEncoder(sparse_output=False),\n",
       "                                                                         ['country',\n",
       "                                                                          'fulfill '\n",
       "                                                                          'via',\n",
       "                                                                          'vendor '\n",
       "                                                                          'inco '\n",
       "                                                                          'term',\n",
       "                                                                          'shipment '\n",
       "                                                                          'mode',\n",
       "                                                                          'ARV',\n",
       "                                                                          'for '\n",
       "                                                                          'Adult',\n",
       "                                                                          'vendor',\n",
       "                                                                          'molecule/test '\n",
       "                                                                          'type',\n",
       "                                                                          'dosage '\n",
       "                                                                          'form',\n",
       "                                                                          'manufacturing '\n",
       "                                                                          'site'])])),\n",
       "                                       ('svc', SVC())]),\n",
       "             param_grid={'svc__C': [0.001, 0.01, 0.1, 1, 10],\n",
       "                         'svc__gamma': [0.001, 0.01, 0.1, 1, 10]})"
      ]
     },
     "execution_count": 257,
     "metadata": {},
     "output_type": "execute_result"
    }
   ],
   "source": [
    "from sklearn.model_selection import GridSearchCV\n",
    "grid_cv_SVM = GridSearchCV(svm_estimator_model, param_grid=parameters, cv=5)\n",
    "grid_cv_SVM.fit(X_train, y_train)"
   ]
  },
  {
   "cell_type": "code",
   "execution_count": 259,
   "id": "99603ccf",
   "metadata": {},
   "outputs": [
    {
     "data": {
      "text/plain": [
       "{'svc__C': 1, 'svc__gamma': 0.1}"
      ]
     },
     "execution_count": 259,
     "metadata": {},
     "output_type": "execute_result"
    }
   ],
   "source": [
    "grid_cv_SVM.best_params_"
   ]
  },
  {
   "cell_type": "code",
   "execution_count": 261,
   "id": "0f0db237",
   "metadata": {},
   "outputs": [
    {
     "data": {
      "text/plain": [
       "0.8862440714630984"
      ]
     },
     "execution_count": 261,
     "metadata": {},
     "output_type": "execute_result"
    }
   ],
   "source": [
    "grid_cv_SVM.best_score_"
   ]
  },
  {
   "cell_type": "code",
   "execution_count": null,
   "id": "4fef5ab9",
   "metadata": {},
   "outputs": [],
   "source": [
    "Prediction by the best SVM\n",
    "\n",
    "categorical_features =  [\n",
    "    'country', 'fulfill via', 'vendor inco term', 'shipment mode', 'ARV',\n",
    "       'for Adult', 'vendor', 'molecule/test type', 'dosage form',\n",
    "       'manufacturing site'\n",
    "                        ]\n",
    "numerical_features = X.columns.difference(categorical_features)\n",
    "preprocessor = ColumnTransformer(\n",
    "    transformers=[\n",
    "        ('numerical_features', StandardScaler(), numerical_features),\n",
    "        ('categorical_features', OneHotEncoder(sparse_output=False), categorical_features),\n",
    "        ])\n",
    "model_svm = Pipeline([\n",
    "    ('preprocessor', preprocessor),\n",
    "    ('svc',SVC(C=1,gamma=0.1))  ])\n",
    "\n",
    "model_svm.fit(X_train, y_train)\n",
    "y_pred_SVM = model_svm.predict(X_test)\n",
    "\n",
    "accuracy = accuracy_score(y_test, y_pred_SVM)\n",
    "precision = precision_score(y_test, y_pred_SVM, average='weighted')\n",
    "recall = recall_score(y_test, y_pred_SVM, average='weighted')\n",
    "f1 = f1_score(y_test, y_pred_SVM, average='weighted')\n",
    "\n",
    "print(\"Accuracy:\", accuracy)\n",
    "print(\"Precision:\", precision)\n",
    "print(\"Recall:\", recall)\n",
    "print(\"F1 Score:\", f1)"
   ]
  },
  {
   "cell_type": "markdown",
   "id": "f4d9e511",
   "metadata": {},
   "source": [
    "### SVM- Predict On Test Dataset, Accurcay:"
   ]
  },
  {
   "cell_type": "code",
   "execution_count": null,
   "id": "fe1ffdb4",
   "metadata": {},
   "outputs": [],
   "source": [
    "y_pred_SVM=grid_cv_SVM.predict(X_test) \n",
    "from sklearn.metrics import accuracy_score\n",
    "accuracy = accuracy_score(y_test, y_pred_SVM)\n",
    "print(\"Accuracy:\", accuracy)"
   ]
  },
  {
   "cell_type": "markdown",
   "id": "f9fc0baa",
   "metadata": {},
   "source": [
    "Prediction by the best SVM"
   ]
  },
  {
   "cell_type": "code",
   "execution_count": null,
   "id": "9b433c0f",
   "metadata": {},
   "outputs": [],
   "source": [
    "categorical_features =  [\n",
    "    'country', 'fulfill via', 'vendor inco term', 'shipment mode', 'ARV',\n",
    "       'for Adult', 'vendor', 'molecule/test type', 'dosage form',\n",
    "       'manufacturing site'\n",
    "                        ]\n",
    "numerical_features = X.columns.difference(categorical_features)\n",
    "preprocessor = ColumnTransformer(\n",
    "    transformers=[\n",
    "        ('numerical_features', StandardScaler(), numerical_features),\n",
    "        ('categorical_features', OneHotEncoder(sparse_output=False), categorical_features),\n",
    "        ])\n",
    "model_svm = Pipeline([\n",
    "    ('preprocessor', preprocessor),\n",
    "    ('svc',SVC(C=1,gamma=0.1))  ])\n",
    "\n",
    "model_svm.fit(X_train, y_train)\n",
    "y_pred_SVM = model_svm.predict(X_test)\n",
    "\n",
    "accuracy = accuracy_score(y_test, y_pred_SVM)\n",
    "precision = precision_score(y_test, y_pred_SVM, average='weighted')\n",
    "recall = recall_score(y_test, y_pred_SVM, average='weighted')\n",
    "f1 = f1_score(y_test, y_pred_SVM, average='weighted')\n",
    "\n",
    "print(\"Accuracy:\", accuracy)\n",
    "print(\"Precision:\", precision)\n",
    "print(\"Recall:\", recall)\n",
    "print(\"F1 Score:\", f1)"
   ]
  },
  {
   "cell_type": "markdown",
   "id": "78cff2b0",
   "metadata": {},
   "source": [
    "## DT"
   ]
  },
  {
   "cell_type": "code",
   "execution_count": 293,
   "id": "03cbb54c",
   "metadata": {},
   "outputs": [],
   "source": [
    "from sklearn.tree import DecisionTreeClassifier\n",
    "from sklearn.metrics import accuracy_score"
   ]
  },
  {
   "cell_type": "code",
   "execution_count": 294,
   "id": "fe7345fd",
   "metadata": {},
   "outputs": [
    {
     "data": {
      "text/html": [
       "<style>#sk-container-id-2 {color: black;}#sk-container-id-2 pre{padding: 0;}#sk-container-id-2 div.sk-toggleable {background-color: white;}#sk-container-id-2 label.sk-toggleable__label {cursor: pointer;display: block;width: 100%;margin-bottom: 0;padding: 0.3em;box-sizing: border-box;text-align: center;}#sk-container-id-2 label.sk-toggleable__label-arrow:before {content: \"▸\";float: left;margin-right: 0.25em;color: #696969;}#sk-container-id-2 label.sk-toggleable__label-arrow:hover:before {color: black;}#sk-container-id-2 div.sk-estimator:hover label.sk-toggleable__label-arrow:before {color: black;}#sk-container-id-2 div.sk-toggleable__content {max-height: 0;max-width: 0;overflow: hidden;text-align: left;background-color: #f0f8ff;}#sk-container-id-2 div.sk-toggleable__content pre {margin: 0.2em;color: black;border-radius: 0.25em;background-color: #f0f8ff;}#sk-container-id-2 input.sk-toggleable__control:checked~div.sk-toggleable__content {max-height: 200px;max-width: 100%;overflow: auto;}#sk-container-id-2 input.sk-toggleable__control:checked~label.sk-toggleable__label-arrow:before {content: \"▾\";}#sk-container-id-2 div.sk-estimator input.sk-toggleable__control:checked~label.sk-toggleable__label {background-color: #d4ebff;}#sk-container-id-2 div.sk-label input.sk-toggleable__control:checked~label.sk-toggleable__label {background-color: #d4ebff;}#sk-container-id-2 input.sk-hidden--visually {border: 0;clip: rect(1px 1px 1px 1px);clip: rect(1px, 1px, 1px, 1px);height: 1px;margin: -1px;overflow: hidden;padding: 0;position: absolute;width: 1px;}#sk-container-id-2 div.sk-estimator {font-family: monospace;background-color: #f0f8ff;border: 1px dotted black;border-radius: 0.25em;box-sizing: border-box;margin-bottom: 0.5em;}#sk-container-id-2 div.sk-estimator:hover {background-color: #d4ebff;}#sk-container-id-2 div.sk-parallel-item::after {content: \"\";width: 100%;border-bottom: 1px solid gray;flex-grow: 1;}#sk-container-id-2 div.sk-label:hover label.sk-toggleable__label {background-color: #d4ebff;}#sk-container-id-2 div.sk-serial::before {content: \"\";position: absolute;border-left: 1px solid gray;box-sizing: border-box;top: 0;bottom: 0;left: 50%;z-index: 0;}#sk-container-id-2 div.sk-serial {display: flex;flex-direction: column;align-items: center;background-color: white;padding-right: 0.2em;padding-left: 0.2em;position: relative;}#sk-container-id-2 div.sk-item {position: relative;z-index: 1;}#sk-container-id-2 div.sk-parallel {display: flex;align-items: stretch;justify-content: center;background-color: white;position: relative;}#sk-container-id-2 div.sk-item::before, #sk-container-id-2 div.sk-parallel-item::before {content: \"\";position: absolute;border-left: 1px solid gray;box-sizing: border-box;top: 0;bottom: 0;left: 50%;z-index: -1;}#sk-container-id-2 div.sk-parallel-item {display: flex;flex-direction: column;z-index: 1;position: relative;background-color: white;}#sk-container-id-2 div.sk-parallel-item:first-child::after {align-self: flex-end;width: 50%;}#sk-container-id-2 div.sk-parallel-item:last-child::after {align-self: flex-start;width: 50%;}#sk-container-id-2 div.sk-parallel-item:only-child::after {width: 0;}#sk-container-id-2 div.sk-dashed-wrapped {border: 1px dashed gray;margin: 0 0.4em 0.5em 0.4em;box-sizing: border-box;padding-bottom: 0.4em;background-color: white;}#sk-container-id-2 div.sk-label label {font-family: monospace;font-weight: bold;display: inline-block;line-height: 1.2em;}#sk-container-id-2 div.sk-label-container {text-align: center;}#sk-container-id-2 div.sk-container {/* jupyter's `normalize.less` sets `[hidden] { display: none; }` but bootstrap.min.css set `[hidden] { display: none !important; }` so we also need the `!important` here to be able to override the default hidden behavior on the sphinx rendered scikit-learn.org. See: https://github.com/scikit-learn/scikit-learn/issues/21755 */display: inline-block !important;position: relative;}#sk-container-id-2 div.sk-text-repr-fallback {display: none;}</style><div id=\"sk-container-id-2\" class=\"sk-top-container\"><div class=\"sk-text-repr-fallback\"><pre>GridSearchCV(cv=5,\n",
       "             estimator=Pipeline(steps=[(&#x27;preprocessor&#x27;,\n",
       "                                        ColumnTransformer(transformers=[(&#x27;for &#x27;\n",
       "                                                                         &#x27;numerical_f&#x27;,\n",
       "                                                                         MinMaxScaler(),\n",
       "                                                                         [&#x27;line_item_value&#x27;,\n",
       "                                                                          &#x27;unit_price&#x27;,\n",
       "                                                                          &#x27;weight&#x27;,\n",
       "                                                                          &#x27;freight_cost&#x27;,\n",
       "                                                                          &#x27;line_item_insurance&#x27;]),\n",
       "                                                                        (&#x27;for &#x27;\n",
       "                                                                         &#x27;categorical_f&#x27;,\n",
       "                                                                         OneHotEncoder(),\n",
       "                                                                         [&#x27;country&#x27;,\n",
       "                                                                          &#x27;fulfill &#x27;\n",
       "                                                                          &#x27;via&#x27;,\n",
       "                                                                          &#x27;vendor &#x27;\n",
       "                                                                          &#x27;inco &#x27;\n",
       "                                                                          &#x27;term&#x27;,\n",
       "                                                                          &#x27;shipment &#x27;\n",
       "                                                                          &#x27;mode&#x27;,\n",
       "                                                                          &#x27;ARV&#x27;,\n",
       "                                                                          &#x27;for &#x27;\n",
       "                                                                          &#x27;Adult&#x27;,\n",
       "                                                                          &#x27;vendor&#x27;,\n",
       "                                                                          &#x27;molecule/test &#x27;\n",
       "                                                                          &#x27;type&#x27;,\n",
       "                                                                          &#x27;dosage &#x27;\n",
       "                                                                          &#x27;form&#x27;,\n",
       "                                                                          &#x27;manufacturing &#x27;\n",
       "                                                                          &#x27;site&#x27;])])),\n",
       "                                       (&#x27;dt&#x27;, DecisionTreeClassifier())]),\n",
       "             param_grid={&#x27;dt__criterion&#x27;: [&#x27;gini&#x27;, &#x27;entropy&#x27;],\n",
       "                         &#x27;dt__max_depth&#x27;: [5, 10, 15, 20],\n",
       "                         &#x27;dt__min_samples_leaf&#x27;: [5, 10, 20]})</pre><b>In a Jupyter environment, please rerun this cell to show the HTML representation or trust the notebook. <br />On GitHub, the HTML representation is unable to render, please try loading this page with nbviewer.org.</b></div><div class=\"sk-container\" hidden><div class=\"sk-item sk-dashed-wrapped\"><div class=\"sk-label-container\"><div class=\"sk-label sk-toggleable\"><input class=\"sk-toggleable__control sk-hidden--visually\" id=\"sk-estimator-id-9\" type=\"checkbox\" ><label for=\"sk-estimator-id-9\" class=\"sk-toggleable__label sk-toggleable__label-arrow\">GridSearchCV</label><div class=\"sk-toggleable__content\"><pre>GridSearchCV(cv=5,\n",
       "             estimator=Pipeline(steps=[(&#x27;preprocessor&#x27;,\n",
       "                                        ColumnTransformer(transformers=[(&#x27;for &#x27;\n",
       "                                                                         &#x27;numerical_f&#x27;,\n",
       "                                                                         MinMaxScaler(),\n",
       "                                                                         [&#x27;line_item_value&#x27;,\n",
       "                                                                          &#x27;unit_price&#x27;,\n",
       "                                                                          &#x27;weight&#x27;,\n",
       "                                                                          &#x27;freight_cost&#x27;,\n",
       "                                                                          &#x27;line_item_insurance&#x27;]),\n",
       "                                                                        (&#x27;for &#x27;\n",
       "                                                                         &#x27;categorical_f&#x27;,\n",
       "                                                                         OneHotEncoder(),\n",
       "                                                                         [&#x27;country&#x27;,\n",
       "                                                                          &#x27;fulfill &#x27;\n",
       "                                                                          &#x27;via&#x27;,\n",
       "                                                                          &#x27;vendor &#x27;\n",
       "                                                                          &#x27;inco &#x27;\n",
       "                                                                          &#x27;term&#x27;,\n",
       "                                                                          &#x27;shipment &#x27;\n",
       "                                                                          &#x27;mode&#x27;,\n",
       "                                                                          &#x27;ARV&#x27;,\n",
       "                                                                          &#x27;for &#x27;\n",
       "                                                                          &#x27;Adult&#x27;,\n",
       "                                                                          &#x27;vendor&#x27;,\n",
       "                                                                          &#x27;molecule/test &#x27;\n",
       "                                                                          &#x27;type&#x27;,\n",
       "                                                                          &#x27;dosage &#x27;\n",
       "                                                                          &#x27;form&#x27;,\n",
       "                                                                          &#x27;manufacturing &#x27;\n",
       "                                                                          &#x27;site&#x27;])])),\n",
       "                                       (&#x27;dt&#x27;, DecisionTreeClassifier())]),\n",
       "             param_grid={&#x27;dt__criterion&#x27;: [&#x27;gini&#x27;, &#x27;entropy&#x27;],\n",
       "                         &#x27;dt__max_depth&#x27;: [5, 10, 15, 20],\n",
       "                         &#x27;dt__min_samples_leaf&#x27;: [5, 10, 20]})</pre></div></div></div><div class=\"sk-parallel\"><div class=\"sk-parallel-item\"><div class=\"sk-item\"><div class=\"sk-label-container\"><div class=\"sk-label sk-toggleable\"><input class=\"sk-toggleable__control sk-hidden--visually\" id=\"sk-estimator-id-10\" type=\"checkbox\" ><label for=\"sk-estimator-id-10\" class=\"sk-toggleable__label sk-toggleable__label-arrow\">estimator: Pipeline</label><div class=\"sk-toggleable__content\"><pre>Pipeline(steps=[(&#x27;preprocessor&#x27;,\n",
       "                 ColumnTransformer(transformers=[(&#x27;for numerical_f&#x27;,\n",
       "                                                  MinMaxScaler(),\n",
       "                                                  [&#x27;line_item_value&#x27;,\n",
       "                                                   &#x27;unit_price&#x27;, &#x27;weight&#x27;,\n",
       "                                                   &#x27;freight_cost&#x27;,\n",
       "                                                   &#x27;line_item_insurance&#x27;]),\n",
       "                                                 (&#x27;for categorical_f&#x27;,\n",
       "                                                  OneHotEncoder(),\n",
       "                                                  [&#x27;country&#x27;, &#x27;fulfill via&#x27;,\n",
       "                                                   &#x27;vendor inco term&#x27;,\n",
       "                                                   &#x27;shipment mode&#x27;, &#x27;ARV&#x27;,\n",
       "                                                   &#x27;for Adult&#x27;, &#x27;vendor&#x27;,\n",
       "                                                   &#x27;molecule/test type&#x27;,\n",
       "                                                   &#x27;dosage form&#x27;,\n",
       "                                                   &#x27;manufacturing site&#x27;])])),\n",
       "                (&#x27;dt&#x27;, DecisionTreeClassifier())])</pre></div></div></div><div class=\"sk-serial\"><div class=\"sk-item\"><div class=\"sk-serial\"><div class=\"sk-item sk-dashed-wrapped\"><div class=\"sk-label-container\"><div class=\"sk-label sk-toggleable\"><input class=\"sk-toggleable__control sk-hidden--visually\" id=\"sk-estimator-id-11\" type=\"checkbox\" ><label for=\"sk-estimator-id-11\" class=\"sk-toggleable__label sk-toggleable__label-arrow\">preprocessor: ColumnTransformer</label><div class=\"sk-toggleable__content\"><pre>ColumnTransformer(transformers=[(&#x27;for numerical_f&#x27;, MinMaxScaler(),\n",
       "                                 [&#x27;line_item_value&#x27;, &#x27;unit_price&#x27;, &#x27;weight&#x27;,\n",
       "                                  &#x27;freight_cost&#x27;, &#x27;line_item_insurance&#x27;]),\n",
       "                                (&#x27;for categorical_f&#x27;, OneHotEncoder(),\n",
       "                                 [&#x27;country&#x27;, &#x27;fulfill via&#x27;, &#x27;vendor inco term&#x27;,\n",
       "                                  &#x27;shipment mode&#x27;, &#x27;ARV&#x27;, &#x27;for Adult&#x27;, &#x27;vendor&#x27;,\n",
       "                                  &#x27;molecule/test type&#x27;, &#x27;dosage form&#x27;,\n",
       "                                  &#x27;manufacturing site&#x27;])])</pre></div></div></div><div class=\"sk-parallel\"><div class=\"sk-parallel-item\"><div class=\"sk-item\"><div class=\"sk-label-container\"><div class=\"sk-label sk-toggleable\"><input class=\"sk-toggleable__control sk-hidden--visually\" id=\"sk-estimator-id-12\" type=\"checkbox\" ><label for=\"sk-estimator-id-12\" class=\"sk-toggleable__label sk-toggleable__label-arrow\">for numerical_f</label><div class=\"sk-toggleable__content\"><pre>[&#x27;line_item_value&#x27;, &#x27;unit_price&#x27;, &#x27;weight&#x27;, &#x27;freight_cost&#x27;, &#x27;line_item_insurance&#x27;]</pre></div></div></div><div class=\"sk-serial\"><div class=\"sk-item\"><div class=\"sk-estimator sk-toggleable\"><input class=\"sk-toggleable__control sk-hidden--visually\" id=\"sk-estimator-id-13\" type=\"checkbox\" ><label for=\"sk-estimator-id-13\" class=\"sk-toggleable__label sk-toggleable__label-arrow\">MinMaxScaler</label><div class=\"sk-toggleable__content\"><pre>MinMaxScaler()</pre></div></div></div></div></div></div><div class=\"sk-parallel-item\"><div class=\"sk-item\"><div class=\"sk-label-container\"><div class=\"sk-label sk-toggleable\"><input class=\"sk-toggleable__control sk-hidden--visually\" id=\"sk-estimator-id-14\" type=\"checkbox\" ><label for=\"sk-estimator-id-14\" class=\"sk-toggleable__label sk-toggleable__label-arrow\">for categorical_f</label><div class=\"sk-toggleable__content\"><pre>[&#x27;country&#x27;, &#x27;fulfill via&#x27;, &#x27;vendor inco term&#x27;, &#x27;shipment mode&#x27;, &#x27;ARV&#x27;, &#x27;for Adult&#x27;, &#x27;vendor&#x27;, &#x27;molecule/test type&#x27;, &#x27;dosage form&#x27;, &#x27;manufacturing site&#x27;]</pre></div></div></div><div class=\"sk-serial\"><div class=\"sk-item\"><div class=\"sk-estimator sk-toggleable\"><input class=\"sk-toggleable__control sk-hidden--visually\" id=\"sk-estimator-id-15\" type=\"checkbox\" ><label for=\"sk-estimator-id-15\" class=\"sk-toggleable__label sk-toggleable__label-arrow\">OneHotEncoder</label><div class=\"sk-toggleable__content\"><pre>OneHotEncoder()</pre></div></div></div></div></div></div></div></div><div class=\"sk-item\"><div class=\"sk-estimator sk-toggleable\"><input class=\"sk-toggleable__control sk-hidden--visually\" id=\"sk-estimator-id-16\" type=\"checkbox\" ><label for=\"sk-estimator-id-16\" class=\"sk-toggleable__label sk-toggleable__label-arrow\">DecisionTreeClassifier</label><div class=\"sk-toggleable__content\"><pre>DecisionTreeClassifier()</pre></div></div></div></div></div></div></div></div></div></div></div></div>"
      ],
      "text/plain": [
       "GridSearchCV(cv=5,\n",
       "             estimator=Pipeline(steps=[('preprocessor',\n",
       "                                        ColumnTransformer(transformers=[('for '\n",
       "                                                                         'numerical_f',\n",
       "                                                                         MinMaxScaler(),\n",
       "                                                                         ['line_item_value',\n",
       "                                                                          'unit_price',\n",
       "                                                                          'weight',\n",
       "                                                                          'freight_cost',\n",
       "                                                                          'line_item_insurance']),\n",
       "                                                                        ('for '\n",
       "                                                                         'categorical_f',\n",
       "                                                                         OneHotEncoder(),\n",
       "                                                                         ['country',\n",
       "                                                                          'fulfill '\n",
       "                                                                          'via',\n",
       "                                                                          'vendor '\n",
       "                                                                          'inco '\n",
       "                                                                          'term',\n",
       "                                                                          'shipment '\n",
       "                                                                          'mode',\n",
       "                                                                          'ARV',\n",
       "                                                                          'for '\n",
       "                                                                          'Adult',\n",
       "                                                                          'vendor',\n",
       "                                                                          'molecule/test '\n",
       "                                                                          'type',\n",
       "                                                                          'dosage '\n",
       "                                                                          'form',\n",
       "                                                                          'manufacturing '\n",
       "                                                                          'site'])])),\n",
       "                                       ('dt', DecisionTreeClassifier())]),\n",
       "             param_grid={'dt__criterion': ['gini', 'entropy'],\n",
       "                         'dt__max_depth': [5, 10, 15, 20],\n",
       "                         'dt__min_samples_leaf': [5, 10, 20]})"
      ]
     },
     "execution_count": 294,
     "metadata": {},
     "output_type": "execute_result"
    }
   ],
   "source": [
    "numerical_f =  [\n",
    "    'line_item_value', 'unit_price', 'weight', 'freight_cost',\n",
    "       'line_item_insurance'\n",
    "]\n",
    "categorical_f =  [\n",
    "    'country', 'fulfill via', 'vendor inco term', 'shipment mode', 'ARV',\n",
    "       'for Adult', 'vendor', 'molecule/test type', 'dosage form',\n",
    "       'manufacturing site']\n",
    "preprocessor = ColumnTransformer(\n",
    "                transformers=[\n",
    "                ('for numerical_f',MinMaxScaler(), numerical_f ),\n",
    "                ('for categorical_f',OneHotEncoder(), categorical_f)\n",
    "                ]) \n",
    "dt_model = Pipeline([\n",
    "    ('preprocessor', preprocessor),\n",
    "    ('dt',DecisionTreeClassifier())  ])\n",
    "parameters = {\n",
    "    'dt__criterion': ['gini', 'entropy'], \n",
    "    'dt__max_depth': [5, 10, 15, 20],     \n",
    "    'dt__min_samples_leaf': [5, 10, 20]  }  \n",
    "grid_DT= GridSearchCV(dt_model, param_grid=parameters, cv=5)\n",
    "grid_DT.fit(X_train, y_train)"
   ]
  },
  {
   "cell_type": "code",
   "execution_count": 295,
   "id": "b8590152",
   "metadata": {
    "scrolled": true
   },
   "outputs": [
    {
     "data": {
      "text/plain": [
       "{'dt__criterion': 'gini', 'dt__max_depth': 5, 'dt__min_samples_leaf': 20}"
      ]
     },
     "execution_count": 295,
     "metadata": {},
     "output_type": "execute_result"
    }
   ],
   "source": [
    "grid_DT.best_params_"
   ]
  },
  {
   "cell_type": "code",
   "execution_count": 296,
   "id": "e31cffe7",
   "metadata": {
    "scrolled": true
   },
   "outputs": [
    {
     "data": {
      "text/plain": [
       "0.8847217715497232"
      ]
     },
     "execution_count": 296,
     "metadata": {},
     "output_type": "execute_result"
    }
   ],
   "source": [
    "grid_DT.best_score_"
   ]
  },
  {
   "cell_type": "code",
   "execution_count": 297,
   "id": "5ae509c2",
   "metadata": {},
   "outputs": [
    {
     "name": "stdout",
     "output_type": "stream",
     "text": [
      "Accuracy: 0.8783085861846353\n"
     ]
    }
   ],
   "source": [
    "y_pred_DT=grid_DT.predict(X_test) \n",
    "from sklearn.metrics import accuracy_score\n",
    "accuracy = accuracy_score(y_test, y_pred_DT)\n",
    "print(\"Accuracy:\", accuracy)"
   ]
  },
  {
   "cell_type": "markdown",
   "id": "84800377",
   "metadata": {},
   "source": [
    "Prediction by the best tree"
   ]
  },
  {
   "cell_type": "code",
   "execution_count": 49,
   "id": "1dc64dd7",
   "metadata": {},
   "outputs": [
    {
     "name": "stdout",
     "output_type": "stream",
     "text": [
      "Accuracy: 0.8783085861846353\n",
      "Precision: 0.8265131721103125\n",
      "Recall: 0.8783085861846353\n",
      "F1 Score: 0.839317331307229\n"
     ]
    }
   ],
   "source": [
    "categorical_f =  [\n",
    "    'country', 'fulfill via', 'vendor inco term', 'shipment mode', 'ARV',\n",
    "       'for Adult', 'vendor', 'molecule/test type', 'dosage form',\n",
    "       'manufacturing site']\n",
    "numerical_f = X.columns.difference(categorical_features)\n",
    "preprocessor = ColumnTransformer(\n",
    "                transformers=[\n",
    "                ('for numerical_f',MinMaxScaler(), numerical_f ),\n",
    "                ('for categorical_f',OneHotEncoder(), categorical_f)\n",
    "                ]) \n",
    "model_dt = Pipeline([\n",
    "    ('preprocessor', preprocessor),\n",
    "    ('dt',DecisionTreeClassifier(criterion='gini', max_depth= 5, min_samples_leaf=20))  ])\n",
    "model_dt.fit(X_train, y_train)\n",
    "\n",
    "y_pred_dt = model_dt.predict(X_test)\n",
    "\n",
    "accuracy = accuracy_score(y_test, y_pred_dt)\n",
    "precision = precision_score(y_test, y_pred_dt, average='weighted')\n",
    "recall = recall_score(y_test, y_pred_dt, average='weighted')\n",
    "f1 = f1_score(y_test, y_pred_dt, average='weighted')\n",
    "\n",
    "print(\"Accuracy:\", accuracy)\n",
    "print(\"Precision:\", precision)\n",
    "print(\"Recall:\", recall)\n",
    "print(\"F1 Score:\", f1)\n"
   ]
  },
  {
   "cell_type": "markdown",
   "id": "fe463ad3",
   "metadata": {},
   "source": [
    "### naive_bayes "
   ]
  },
  {
   "cell_type": "code",
   "execution_count": 49,
   "id": "87ae9a0a",
   "metadata": {},
   "outputs": [],
   "source": [
    "from sklearn.metrics import accuracy_score"
   ]
  },
  {
   "cell_type": "code",
   "execution_count": 50,
   "id": "b87f3a1a",
   "metadata": {},
   "outputs": [
    {
     "name": "stderr",
     "output_type": "stream",
     "text": [
      "C:\\Users\\Lenovo\\anaconda3\\lib\\site-packages\\sklearn\\preprocessing\\_encoders.py:975: FutureWarning: `sparse` was renamed to `sparse_output` in version 1.2 and will be removed in 1.4. `sparse_output` is ignored unless you leave `sparse` to its default value.\n",
      "  warnings.warn(\n"
     ]
    },
    {
     "data": {
      "text/html": [
       "<style>#sk-container-id-1 {color: black;}#sk-container-id-1 pre{padding: 0;}#sk-container-id-1 div.sk-toggleable {background-color: white;}#sk-container-id-1 label.sk-toggleable__label {cursor: pointer;display: block;width: 100%;margin-bottom: 0;padding: 0.3em;box-sizing: border-box;text-align: center;}#sk-container-id-1 label.sk-toggleable__label-arrow:before {content: \"▸\";float: left;margin-right: 0.25em;color: #696969;}#sk-container-id-1 label.sk-toggleable__label-arrow:hover:before {color: black;}#sk-container-id-1 div.sk-estimator:hover label.sk-toggleable__label-arrow:before {color: black;}#sk-container-id-1 div.sk-toggleable__content {max-height: 0;max-width: 0;overflow: hidden;text-align: left;background-color: #f0f8ff;}#sk-container-id-1 div.sk-toggleable__content pre {margin: 0.2em;color: black;border-radius: 0.25em;background-color: #f0f8ff;}#sk-container-id-1 input.sk-toggleable__control:checked~div.sk-toggleable__content {max-height: 200px;max-width: 100%;overflow: auto;}#sk-container-id-1 input.sk-toggleable__control:checked~label.sk-toggleable__label-arrow:before {content: \"▾\";}#sk-container-id-1 div.sk-estimator input.sk-toggleable__control:checked~label.sk-toggleable__label {background-color: #d4ebff;}#sk-container-id-1 div.sk-label input.sk-toggleable__control:checked~label.sk-toggleable__label {background-color: #d4ebff;}#sk-container-id-1 input.sk-hidden--visually {border: 0;clip: rect(1px 1px 1px 1px);clip: rect(1px, 1px, 1px, 1px);height: 1px;margin: -1px;overflow: hidden;padding: 0;position: absolute;width: 1px;}#sk-container-id-1 div.sk-estimator {font-family: monospace;background-color: #f0f8ff;border: 1px dotted black;border-radius: 0.25em;box-sizing: border-box;margin-bottom: 0.5em;}#sk-container-id-1 div.sk-estimator:hover {background-color: #d4ebff;}#sk-container-id-1 div.sk-parallel-item::after {content: \"\";width: 100%;border-bottom: 1px solid gray;flex-grow: 1;}#sk-container-id-1 div.sk-label:hover label.sk-toggleable__label {background-color: #d4ebff;}#sk-container-id-1 div.sk-serial::before {content: \"\";position: absolute;border-left: 1px solid gray;box-sizing: border-box;top: 0;bottom: 0;left: 50%;z-index: 0;}#sk-container-id-1 div.sk-serial {display: flex;flex-direction: column;align-items: center;background-color: white;padding-right: 0.2em;padding-left: 0.2em;position: relative;}#sk-container-id-1 div.sk-item {position: relative;z-index: 1;}#sk-container-id-1 div.sk-parallel {display: flex;align-items: stretch;justify-content: center;background-color: white;position: relative;}#sk-container-id-1 div.sk-item::before, #sk-container-id-1 div.sk-parallel-item::before {content: \"\";position: absolute;border-left: 1px solid gray;box-sizing: border-box;top: 0;bottom: 0;left: 50%;z-index: -1;}#sk-container-id-1 div.sk-parallel-item {display: flex;flex-direction: column;z-index: 1;position: relative;background-color: white;}#sk-container-id-1 div.sk-parallel-item:first-child::after {align-self: flex-end;width: 50%;}#sk-container-id-1 div.sk-parallel-item:last-child::after {align-self: flex-start;width: 50%;}#sk-container-id-1 div.sk-parallel-item:only-child::after {width: 0;}#sk-container-id-1 div.sk-dashed-wrapped {border: 1px dashed gray;margin: 0 0.4em 0.5em 0.4em;box-sizing: border-box;padding-bottom: 0.4em;background-color: white;}#sk-container-id-1 div.sk-label label {font-family: monospace;font-weight: bold;display: inline-block;line-height: 1.2em;}#sk-container-id-1 div.sk-label-container {text-align: center;}#sk-container-id-1 div.sk-container {/* jupyter's `normalize.less` sets `[hidden] { display: none; }` but bootstrap.min.css set `[hidden] { display: none !important; }` so we also need the `!important` here to be able to override the default hidden behavior on the sphinx rendered scikit-learn.org. See: https://github.com/scikit-learn/scikit-learn/issues/21755 */display: inline-block !important;position: relative;}#sk-container-id-1 div.sk-text-repr-fallback {display: none;}</style><div id=\"sk-container-id-1\" class=\"sk-top-container\"><div class=\"sk-text-repr-fallback\"><pre>Pipeline(steps=[(&#x27;preprocessor&#x27;,\n",
       "                 ColumnTransformer(transformers=[(&#x27;numerical_features&#x27;,\n",
       "                                                  StandardScaler(),\n",
       "                                                  [&#x27;line_item_value&#x27;,\n",
       "                                                   &#x27;unit_price&#x27;, &#x27;weight&#x27;,\n",
       "                                                   &#x27;freight_cost&#x27;,\n",
       "                                                   &#x27;line_item_insurance&#x27;]),\n",
       "                                                 (&#x27;categorical_features&#x27;,\n",
       "                                                  OneHotEncoder(sparse=False),\n",
       "                                                  [&#x27;country&#x27;, &#x27;fulfill via&#x27;,\n",
       "                                                   &#x27;vendor inco term&#x27;,\n",
       "                                                   &#x27;shipment mode&#x27;, &#x27;ARV&#x27;,\n",
       "                                                   &#x27;for Adult&#x27;, &#x27;vendor&#x27;,\n",
       "                                                   &#x27;molecule/test type&#x27;,\n",
       "                                                   &#x27;dosage form&#x27;,\n",
       "                                                   &#x27;manufacturing site&#x27;])])),\n",
       "                (&#x27;nb&#x27;, GaussianNB())])</pre><b>In a Jupyter environment, please rerun this cell to show the HTML representation or trust the notebook. <br />On GitHub, the HTML representation is unable to render, please try loading this page with nbviewer.org.</b></div><div class=\"sk-container\" hidden><div class=\"sk-item sk-dashed-wrapped\"><div class=\"sk-label-container\"><div class=\"sk-label sk-toggleable\"><input class=\"sk-toggleable__control sk-hidden--visually\" id=\"sk-estimator-id-1\" type=\"checkbox\" ><label for=\"sk-estimator-id-1\" class=\"sk-toggleable__label sk-toggleable__label-arrow\">Pipeline</label><div class=\"sk-toggleable__content\"><pre>Pipeline(steps=[(&#x27;preprocessor&#x27;,\n",
       "                 ColumnTransformer(transformers=[(&#x27;numerical_features&#x27;,\n",
       "                                                  StandardScaler(),\n",
       "                                                  [&#x27;line_item_value&#x27;,\n",
       "                                                   &#x27;unit_price&#x27;, &#x27;weight&#x27;,\n",
       "                                                   &#x27;freight_cost&#x27;,\n",
       "                                                   &#x27;line_item_insurance&#x27;]),\n",
       "                                                 (&#x27;categorical_features&#x27;,\n",
       "                                                  OneHotEncoder(sparse=False),\n",
       "                                                  [&#x27;country&#x27;, &#x27;fulfill via&#x27;,\n",
       "                                                   &#x27;vendor inco term&#x27;,\n",
       "                                                   &#x27;shipment mode&#x27;, &#x27;ARV&#x27;,\n",
       "                                                   &#x27;for Adult&#x27;, &#x27;vendor&#x27;,\n",
       "                                                   &#x27;molecule/test type&#x27;,\n",
       "                                                   &#x27;dosage form&#x27;,\n",
       "                                                   &#x27;manufacturing site&#x27;])])),\n",
       "                (&#x27;nb&#x27;, GaussianNB())])</pre></div></div></div><div class=\"sk-serial\"><div class=\"sk-item sk-dashed-wrapped\"><div class=\"sk-label-container\"><div class=\"sk-label sk-toggleable\"><input class=\"sk-toggleable__control sk-hidden--visually\" id=\"sk-estimator-id-2\" type=\"checkbox\" ><label for=\"sk-estimator-id-2\" class=\"sk-toggleable__label sk-toggleable__label-arrow\">preprocessor: ColumnTransformer</label><div class=\"sk-toggleable__content\"><pre>ColumnTransformer(transformers=[(&#x27;numerical_features&#x27;, StandardScaler(),\n",
       "                                 [&#x27;line_item_value&#x27;, &#x27;unit_price&#x27;, &#x27;weight&#x27;,\n",
       "                                  &#x27;freight_cost&#x27;, &#x27;line_item_insurance&#x27;]),\n",
       "                                (&#x27;categorical_features&#x27;,\n",
       "                                 OneHotEncoder(sparse=False),\n",
       "                                 [&#x27;country&#x27;, &#x27;fulfill via&#x27;, &#x27;vendor inco term&#x27;,\n",
       "                                  &#x27;shipment mode&#x27;, &#x27;ARV&#x27;, &#x27;for Adult&#x27;, &#x27;vendor&#x27;,\n",
       "                                  &#x27;molecule/test type&#x27;, &#x27;dosage form&#x27;,\n",
       "                                  &#x27;manufacturing site&#x27;])])</pre></div></div></div><div class=\"sk-parallel\"><div class=\"sk-parallel-item\"><div class=\"sk-item\"><div class=\"sk-label-container\"><div class=\"sk-label sk-toggleable\"><input class=\"sk-toggleable__control sk-hidden--visually\" id=\"sk-estimator-id-3\" type=\"checkbox\" ><label for=\"sk-estimator-id-3\" class=\"sk-toggleable__label sk-toggleable__label-arrow\">numerical_features</label><div class=\"sk-toggleable__content\"><pre>[&#x27;line_item_value&#x27;, &#x27;unit_price&#x27;, &#x27;weight&#x27;, &#x27;freight_cost&#x27;, &#x27;line_item_insurance&#x27;]</pre></div></div></div><div class=\"sk-serial\"><div class=\"sk-item\"><div class=\"sk-estimator sk-toggleable\"><input class=\"sk-toggleable__control sk-hidden--visually\" id=\"sk-estimator-id-4\" type=\"checkbox\" ><label for=\"sk-estimator-id-4\" class=\"sk-toggleable__label sk-toggleable__label-arrow\">StandardScaler</label><div class=\"sk-toggleable__content\"><pre>StandardScaler()</pre></div></div></div></div></div></div><div class=\"sk-parallel-item\"><div class=\"sk-item\"><div class=\"sk-label-container\"><div class=\"sk-label sk-toggleable\"><input class=\"sk-toggleable__control sk-hidden--visually\" id=\"sk-estimator-id-5\" type=\"checkbox\" ><label for=\"sk-estimator-id-5\" class=\"sk-toggleable__label sk-toggleable__label-arrow\">categorical_features</label><div class=\"sk-toggleable__content\"><pre>[&#x27;country&#x27;, &#x27;fulfill via&#x27;, &#x27;vendor inco term&#x27;, &#x27;shipment mode&#x27;, &#x27;ARV&#x27;, &#x27;for Adult&#x27;, &#x27;vendor&#x27;, &#x27;molecule/test type&#x27;, &#x27;dosage form&#x27;, &#x27;manufacturing site&#x27;]</pre></div></div></div><div class=\"sk-serial\"><div class=\"sk-item\"><div class=\"sk-estimator sk-toggleable\"><input class=\"sk-toggleable__control sk-hidden--visually\" id=\"sk-estimator-id-6\" type=\"checkbox\" ><label for=\"sk-estimator-id-6\" class=\"sk-toggleable__label sk-toggleable__label-arrow\">OneHotEncoder</label><div class=\"sk-toggleable__content\"><pre>OneHotEncoder(sparse=False)</pre></div></div></div></div></div></div></div></div><div class=\"sk-item\"><div class=\"sk-estimator sk-toggleable\"><input class=\"sk-toggleable__control sk-hidden--visually\" id=\"sk-estimator-id-7\" type=\"checkbox\" ><label for=\"sk-estimator-id-7\" class=\"sk-toggleable__label sk-toggleable__label-arrow\">GaussianNB</label><div class=\"sk-toggleable__content\"><pre>GaussianNB()</pre></div></div></div></div></div></div></div>"
      ],
      "text/plain": [
       "Pipeline(steps=[('preprocessor',\n",
       "                 ColumnTransformer(transformers=[('numerical_features',\n",
       "                                                  StandardScaler(),\n",
       "                                                  ['line_item_value',\n",
       "                                                   'unit_price', 'weight',\n",
       "                                                   'freight_cost',\n",
       "                                                   'line_item_insurance']),\n",
       "                                                 ('categorical_features',\n",
       "                                                  OneHotEncoder(sparse=False),\n",
       "                                                  ['country', 'fulfill via',\n",
       "                                                   'vendor inco term',\n",
       "                                                   'shipment mode', 'ARV',\n",
       "                                                   'for Adult', 'vendor',\n",
       "                                                   'molecule/test type',\n",
       "                                                   'dosage form',\n",
       "                                                   'manufacturing site'])])),\n",
       "                ('nb', GaussianNB())])"
      ]
     },
     "execution_count": 50,
     "metadata": {},
     "output_type": "execute_result"
    }
   ],
   "source": [
    "from sklearn.naive_bayes import GaussianNB\n",
    "\n",
    "numerical_features = ['line_item_value', 'unit_price', 'weight', 'freight_cost', 'line_item_insurance']\n",
    "categorical_features = ['country', 'fulfill via', 'vendor inco term', 'shipment mode', 'ARV',\n",
    "                         'for Adult', 'vendor', 'molecule/test type', 'dosage form', 'manufacturing site']\n",
    "preprocessor = ColumnTransformer(\n",
    "    transformers=[\n",
    "        ('numerical_features', StandardScaler(), numerical_features),\n",
    "        ('categorical_features', OneHotEncoder(sparse=False), categorical_features),\n",
    "    ])\n",
    "nb_model = Pipeline([     ('preprocessor', preprocessor),\n",
    "    ('nb', GaussianNB())])\n",
    "nb_model.fit(X_train, y_train)"
   ]
  },
  {
   "cell_type": "code",
   "execution_count": 60,
   "id": "62ff608c",
   "metadata": {},
   "outputs": [
    {
     "name": "stdout",
     "output_type": "stream",
     "text": [
      "Accuracy:  0.39302518682535287\n"
     ]
    }
   ],
   "source": [
    "accuracy = accuracy_score(y_train, nb_model.predict(X_train))\n",
    "print('Accuracy: ',accuracy)"
   ]
  },
  {
   "cell_type": "markdown",
   "id": "223e4c3e",
   "metadata": {},
   "source": [
    "prediction by NB"
   ]
  },
  {
   "cell_type": "code",
   "execution_count": 51,
   "id": "1711d5e1",
   "metadata": {
    "scrolled": true
   },
   "outputs": [
    {
     "name": "stdout",
     "output_type": "stream",
     "text": [
      "Accuracy: 0.3705616526791478\n",
      "Precision: 0.8915798230303468\n",
      "Recall: 0.3705616526791478\n",
      "F1 Score: 0.4295579985254691\n"
     ]
    },
    {
     "name": "stderr",
     "output_type": "stream",
     "text": [
      "C:\\Users\\Lenovo\\anaconda3\\lib\\site-packages\\sklearn\\preprocessing\\_encoders.py:975: FutureWarning: `sparse` was renamed to `sparse_output` in version 1.2 and will be removed in 1.4. `sparse_output` is ignored unless you leave `sparse` to its default value.\n",
      "  warnings.warn(\n"
     ]
    }
   ],
   "source": [
    "nb_model.fit(X_train, y_train)\n",
    "\n",
    "y_pred_NB = nb_model.predict(X_test)\n",
    "\n",
    "accuracy = accuracy_score(y_test, y_pred_NB)\n",
    "precision = precision_score(y_test, y_pred_NB, average='weighted')\n",
    "recall = recall_score(y_test, y_pred_NB, average='weighted')\n",
    "f1 = f1_score(y_test, y_pred_NB, average='weighted')\n",
    "\n",
    "print(\"Accuracy:\", accuracy)\n",
    "print(\"Precision:\", precision)\n",
    "print(\"Recall:\", recall)\n",
    "print(\"F1 Score:\", f1)"
   ]
  },
  {
   "cell_type": "code",
   "execution_count": 64,
   "id": "1186a0bd",
   "metadata": {},
   "outputs": [
    {
     "name": "stdout",
     "output_type": "stream",
     "text": [
      "Accuracy:  0.374896208137282\n"
     ]
    },
    {
     "name": "stderr",
     "output_type": "stream",
     "text": [
      "C:\\Users\\Lenovo\\anaconda3\\lib\\site-packages\\sklearn\\preprocessing\\_encoders.py:975: FutureWarning: `sparse` was renamed to `sparse_output` in version 1.2 and will be removed in 1.4. `sparse_output` is ignored unless you leave `sparse` to its default value.\n",
      "  warnings.warn(\n"
     ]
    }
   ],
   "source": [
    "X_train, X_test, y_train, y_test = train_test_split(X, y, test_size=0.3, random_state=1269856)\n",
    "nb_model.fit(X_train, y_train)\n",
    "accuracy = accuracy_score(y_train, nb_model.predict(X_train))\n",
    "print('Accuracy: ',accuracy)"
   ]
  },
  {
   "cell_type": "markdown",
   "id": "63da2372",
   "metadata": {},
   "source": [
    "### RandomForest"
   ]
  },
  {
   "cell_type": "code",
   "execution_count": 53,
   "id": "263ef86f",
   "metadata": {},
   "outputs": [],
   "source": [
    "from sklearn.ensemble import RandomForestClassifier"
   ]
  },
  {
   "cell_type": "code",
   "execution_count": 54,
   "id": "4449c89d",
   "metadata": {},
   "outputs": [
    {
     "name": "stderr",
     "output_type": "stream",
     "text": [
      "C:\\Users\\Lenovo\\anaconda3\\lib\\site-packages\\sklearn\\preprocessing\\_encoders.py:975: FutureWarning: `sparse` was renamed to `sparse_output` in version 1.2 and will be removed in 1.4. `sparse_output` is ignored unless you leave `sparse` to its default value.\n",
      "  warnings.warn(\n",
      "C:\\Users\\Lenovo\\anaconda3\\lib\\site-packages\\sklearn\\preprocessing\\_encoders.py:975: FutureWarning: `sparse` was renamed to `sparse_output` in version 1.2 and will be removed in 1.4. `sparse_output` is ignored unless you leave `sparse` to its default value.\n",
      "  warnings.warn(\n",
      "C:\\Users\\Lenovo\\anaconda3\\lib\\site-packages\\sklearn\\preprocessing\\_encoders.py:975: FutureWarning: `sparse` was renamed to `sparse_output` in version 1.2 and will be removed in 1.4. `sparse_output` is ignored unless you leave `sparse` to its default value.\n",
      "  warnings.warn(\n",
      "C:\\Users\\Lenovo\\anaconda3\\lib\\site-packages\\sklearn\\preprocessing\\_encoders.py:975: FutureWarning: `sparse` was renamed to `sparse_output` in version 1.2 and will be removed in 1.4. `sparse_output` is ignored unless you leave `sparse` to its default value.\n",
      "  warnings.warn(\n",
      "C:\\Users\\Lenovo\\anaconda3\\lib\\site-packages\\sklearn\\preprocessing\\_encoders.py:975: FutureWarning: `sparse` was renamed to `sparse_output` in version 1.2 and will be removed in 1.4. `sparse_output` is ignored unless you leave `sparse` to its default value.\n",
      "  warnings.warn(\n",
      "C:\\Users\\Lenovo\\anaconda3\\lib\\site-packages\\sklearn\\preprocessing\\_encoders.py:975: FutureWarning: `sparse` was renamed to `sparse_output` in version 1.2 and will be removed in 1.4. `sparse_output` is ignored unless you leave `sparse` to its default value.\n",
      "  warnings.warn(\n",
      "C:\\Users\\Lenovo\\anaconda3\\lib\\site-packages\\sklearn\\preprocessing\\_encoders.py:975: FutureWarning: `sparse` was renamed to `sparse_output` in version 1.2 and will be removed in 1.4. `sparse_output` is ignored unless you leave `sparse` to its default value.\n",
      "  warnings.warn(\n",
      "C:\\Users\\Lenovo\\anaconda3\\lib\\site-packages\\sklearn\\preprocessing\\_encoders.py:975: FutureWarning: `sparse` was renamed to `sparse_output` in version 1.2 and will be removed in 1.4. `sparse_output` is ignored unless you leave `sparse` to its default value.\n",
      "  warnings.warn(\n",
      "C:\\Users\\Lenovo\\anaconda3\\lib\\site-packages\\sklearn\\preprocessing\\_encoders.py:975: FutureWarning: `sparse` was renamed to `sparse_output` in version 1.2 and will be removed in 1.4. `sparse_output` is ignored unless you leave `sparse` to its default value.\n",
      "  warnings.warn(\n",
      "C:\\Users\\Lenovo\\anaconda3\\lib\\site-packages\\sklearn\\preprocessing\\_encoders.py:975: FutureWarning: `sparse` was renamed to `sparse_output` in version 1.2 and will be removed in 1.4. `sparse_output` is ignored unless you leave `sparse` to its default value.\n",
      "  warnings.warn(\n",
      "C:\\Users\\Lenovo\\anaconda3\\lib\\site-packages\\sklearn\\preprocessing\\_encoders.py:975: FutureWarning: `sparse` was renamed to `sparse_output` in version 1.2 and will be removed in 1.4. `sparse_output` is ignored unless you leave `sparse` to its default value.\n",
      "  warnings.warn(\n",
      "C:\\Users\\Lenovo\\anaconda3\\lib\\site-packages\\sklearn\\preprocessing\\_encoders.py:975: FutureWarning: `sparse` was renamed to `sparse_output` in version 1.2 and will be removed in 1.4. `sparse_output` is ignored unless you leave `sparse` to its default value.\n",
      "  warnings.warn(\n",
      "C:\\Users\\Lenovo\\anaconda3\\lib\\site-packages\\sklearn\\preprocessing\\_encoders.py:975: FutureWarning: `sparse` was renamed to `sparse_output` in version 1.2 and will be removed in 1.4. `sparse_output` is ignored unless you leave `sparse` to its default value.\n",
      "  warnings.warn(\n",
      "C:\\Users\\Lenovo\\anaconda3\\lib\\site-packages\\sklearn\\preprocessing\\_encoders.py:975: FutureWarning: `sparse` was renamed to `sparse_output` in version 1.2 and will be removed in 1.4. `sparse_output` is ignored unless you leave `sparse` to its default value.\n",
      "  warnings.warn(\n",
      "C:\\Users\\Lenovo\\anaconda3\\lib\\site-packages\\sklearn\\preprocessing\\_encoders.py:975: FutureWarning: `sparse` was renamed to `sparse_output` in version 1.2 and will be removed in 1.4. `sparse_output` is ignored unless you leave `sparse` to its default value.\n",
      "  warnings.warn(\n",
      "C:\\Users\\Lenovo\\anaconda3\\lib\\site-packages\\sklearn\\preprocessing\\_encoders.py:975: FutureWarning: `sparse` was renamed to `sparse_output` in version 1.2 and will be removed in 1.4. `sparse_output` is ignored unless you leave `sparse` to its default value.\n",
      "  warnings.warn(\n",
      "C:\\Users\\Lenovo\\anaconda3\\lib\\site-packages\\sklearn\\preprocessing\\_encoders.py:975: FutureWarning: `sparse` was renamed to `sparse_output` in version 1.2 and will be removed in 1.4. `sparse_output` is ignored unless you leave `sparse` to its default value.\n",
      "  warnings.warn(\n",
      "C:\\Users\\Lenovo\\anaconda3\\lib\\site-packages\\sklearn\\preprocessing\\_encoders.py:975: FutureWarning: `sparse` was renamed to `sparse_output` in version 1.2 and will be removed in 1.4. `sparse_output` is ignored unless you leave `sparse` to its default value.\n",
      "  warnings.warn(\n",
      "C:\\Users\\Lenovo\\anaconda3\\lib\\site-packages\\sklearn\\preprocessing\\_encoders.py:975: FutureWarning: `sparse` was renamed to `sparse_output` in version 1.2 and will be removed in 1.4. `sparse_output` is ignored unless you leave `sparse` to its default value.\n",
      "  warnings.warn(\n",
      "C:\\Users\\Lenovo\\anaconda3\\lib\\site-packages\\sklearn\\preprocessing\\_encoders.py:975: FutureWarning: `sparse` was renamed to `sparse_output` in version 1.2 and will be removed in 1.4. `sparse_output` is ignored unless you leave `sparse` to its default value.\n",
      "  warnings.warn(\n",
      "C:\\Users\\Lenovo\\anaconda3\\lib\\site-packages\\sklearn\\preprocessing\\_encoders.py:975: FutureWarning: `sparse` was renamed to `sparse_output` in version 1.2 and will be removed in 1.4. `sparse_output` is ignored unless you leave `sparse` to its default value.\n",
      "  warnings.warn(\n",
      "C:\\Users\\Lenovo\\anaconda3\\lib\\site-packages\\sklearn\\preprocessing\\_encoders.py:975: FutureWarning: `sparse` was renamed to `sparse_output` in version 1.2 and will be removed in 1.4. `sparse_output` is ignored unless you leave `sparse` to its default value.\n",
      "  warnings.warn(\n",
      "C:\\Users\\Lenovo\\anaconda3\\lib\\site-packages\\sklearn\\preprocessing\\_encoders.py:975: FutureWarning: `sparse` was renamed to `sparse_output` in version 1.2 and will be removed in 1.4. `sparse_output` is ignored unless you leave `sparse` to its default value.\n",
      "  warnings.warn(\n",
      "C:\\Users\\Lenovo\\anaconda3\\lib\\site-packages\\sklearn\\preprocessing\\_encoders.py:975: FutureWarning: `sparse` was renamed to `sparse_output` in version 1.2 and will be removed in 1.4. `sparse_output` is ignored unless you leave `sparse` to its default value.\n",
      "  warnings.warn(\n",
      "C:\\Users\\Lenovo\\anaconda3\\lib\\site-packages\\sklearn\\preprocessing\\_encoders.py:975: FutureWarning: `sparse` was renamed to `sparse_output` in version 1.2 and will be removed in 1.4. `sparse_output` is ignored unless you leave `sparse` to its default value.\n",
      "  warnings.warn(\n",
      "C:\\Users\\Lenovo\\anaconda3\\lib\\site-packages\\sklearn\\preprocessing\\_encoders.py:975: FutureWarning: `sparse` was renamed to `sparse_output` in version 1.2 and will be removed in 1.4. `sparse_output` is ignored unless you leave `sparse` to its default value.\n",
      "  warnings.warn(\n",
      "C:\\Users\\Lenovo\\anaconda3\\lib\\site-packages\\sklearn\\preprocessing\\_encoders.py:975: FutureWarning: `sparse` was renamed to `sparse_output` in version 1.2 and will be removed in 1.4. `sparse_output` is ignored unless you leave `sparse` to its default value.\n",
      "  warnings.warn(\n",
      "C:\\Users\\Lenovo\\anaconda3\\lib\\site-packages\\sklearn\\preprocessing\\_encoders.py:975: FutureWarning: `sparse` was renamed to `sparse_output` in version 1.2 and will be removed in 1.4. `sparse_output` is ignored unless you leave `sparse` to its default value.\n",
      "  warnings.warn(\n",
      "C:\\Users\\Lenovo\\anaconda3\\lib\\site-packages\\sklearn\\preprocessing\\_encoders.py:975: FutureWarning: `sparse` was renamed to `sparse_output` in version 1.2 and will be removed in 1.4. `sparse_output` is ignored unless you leave `sparse` to its default value.\n",
      "  warnings.warn(\n",
      "C:\\Users\\Lenovo\\anaconda3\\lib\\site-packages\\sklearn\\preprocessing\\_encoders.py:975: FutureWarning: `sparse` was renamed to `sparse_output` in version 1.2 and will be removed in 1.4. `sparse_output` is ignored unless you leave `sparse` to its default value.\n",
      "  warnings.warn(\n",
      "C:\\Users\\Lenovo\\anaconda3\\lib\\site-packages\\sklearn\\preprocessing\\_encoders.py:975: FutureWarning: `sparse` was renamed to `sparse_output` in version 1.2 and will be removed in 1.4. `sparse_output` is ignored unless you leave `sparse` to its default value.\n",
      "  warnings.warn(\n",
      "C:\\Users\\Lenovo\\anaconda3\\lib\\site-packages\\sklearn\\preprocessing\\_encoders.py:975: FutureWarning: `sparse` was renamed to `sparse_output` in version 1.2 and will be removed in 1.4. `sparse_output` is ignored unless you leave `sparse` to its default value.\n",
      "  warnings.warn(\n",
      "C:\\Users\\Lenovo\\anaconda3\\lib\\site-packages\\sklearn\\preprocessing\\_encoders.py:975: FutureWarning: `sparse` was renamed to `sparse_output` in version 1.2 and will be removed in 1.4. `sparse_output` is ignored unless you leave `sparse` to its default value.\n",
      "  warnings.warn(\n",
      "C:\\Users\\Lenovo\\anaconda3\\lib\\site-packages\\sklearn\\preprocessing\\_encoders.py:975: FutureWarning: `sparse` was renamed to `sparse_output` in version 1.2 and will be removed in 1.4. `sparse_output` is ignored unless you leave `sparse` to its default value.\n",
      "  warnings.warn(\n",
      "C:\\Users\\Lenovo\\anaconda3\\lib\\site-packages\\sklearn\\preprocessing\\_encoders.py:975: FutureWarning: `sparse` was renamed to `sparse_output` in version 1.2 and will be removed in 1.4. `sparse_output` is ignored unless you leave `sparse` to its default value.\n",
      "  warnings.warn(\n",
      "C:\\Users\\Lenovo\\anaconda3\\lib\\site-packages\\sklearn\\preprocessing\\_encoders.py:975: FutureWarning: `sparse` was renamed to `sparse_output` in version 1.2 and will be removed in 1.4. `sparse_output` is ignored unless you leave `sparse` to its default value.\n",
      "  warnings.warn(\n",
      "C:\\Users\\Lenovo\\anaconda3\\lib\\site-packages\\sklearn\\preprocessing\\_encoders.py:975: FutureWarning: `sparse` was renamed to `sparse_output` in version 1.2 and will be removed in 1.4. `sparse_output` is ignored unless you leave `sparse` to its default value.\n",
      "  warnings.warn(\n",
      "C:\\Users\\Lenovo\\anaconda3\\lib\\site-packages\\sklearn\\preprocessing\\_encoders.py:975: FutureWarning: `sparse` was renamed to `sparse_output` in version 1.2 and will be removed in 1.4. `sparse_output` is ignored unless you leave `sparse` to its default value.\n",
      "  warnings.warn(\n",
      "C:\\Users\\Lenovo\\anaconda3\\lib\\site-packages\\sklearn\\preprocessing\\_encoders.py:975: FutureWarning: `sparse` was renamed to `sparse_output` in version 1.2 and will be removed in 1.4. `sparse_output` is ignored unless you leave `sparse` to its default value.\n",
      "  warnings.warn(\n",
      "C:\\Users\\Lenovo\\anaconda3\\lib\\site-packages\\sklearn\\preprocessing\\_encoders.py:975: FutureWarning: `sparse` was renamed to `sparse_output` in version 1.2 and will be removed in 1.4. `sparse_output` is ignored unless you leave `sparse` to its default value.\n",
      "  warnings.warn(\n",
      "C:\\Users\\Lenovo\\anaconda3\\lib\\site-packages\\sklearn\\preprocessing\\_encoders.py:975: FutureWarning: `sparse` was renamed to `sparse_output` in version 1.2 and will be removed in 1.4. `sparse_output` is ignored unless you leave `sparse` to its default value.\n",
      "  warnings.warn(\n",
      "C:\\Users\\Lenovo\\anaconda3\\lib\\site-packages\\sklearn\\preprocessing\\_encoders.py:975: FutureWarning: `sparse` was renamed to `sparse_output` in version 1.2 and will be removed in 1.4. `sparse_output` is ignored unless you leave `sparse` to its default value.\n",
      "  warnings.warn(\n",
      "C:\\Users\\Lenovo\\anaconda3\\lib\\site-packages\\sklearn\\preprocessing\\_encoders.py:975: FutureWarning: `sparse` was renamed to `sparse_output` in version 1.2 and will be removed in 1.4. `sparse_output` is ignored unless you leave `sparse` to its default value.\n",
      "  warnings.warn(\n",
      "C:\\Users\\Lenovo\\anaconda3\\lib\\site-packages\\sklearn\\preprocessing\\_encoders.py:975: FutureWarning: `sparse` was renamed to `sparse_output` in version 1.2 and will be removed in 1.4. `sparse_output` is ignored unless you leave `sparse` to its default value.\n",
      "  warnings.warn(\n",
      "C:\\Users\\Lenovo\\anaconda3\\lib\\site-packages\\sklearn\\preprocessing\\_encoders.py:975: FutureWarning: `sparse` was renamed to `sparse_output` in version 1.2 and will be removed in 1.4. `sparse_output` is ignored unless you leave `sparse` to its default value.\n",
      "  warnings.warn(\n",
      "C:\\Users\\Lenovo\\anaconda3\\lib\\site-packages\\sklearn\\preprocessing\\_encoders.py:975: FutureWarning: `sparse` was renamed to `sparse_output` in version 1.2 and will be removed in 1.4. `sparse_output` is ignored unless you leave `sparse` to its default value.\n",
      "  warnings.warn(\n",
      "C:\\Users\\Lenovo\\anaconda3\\lib\\site-packages\\sklearn\\preprocessing\\_encoders.py:975: FutureWarning: `sparse` was renamed to `sparse_output` in version 1.2 and will be removed in 1.4. `sparse_output` is ignored unless you leave `sparse` to its default value.\n",
      "  warnings.warn(\n",
      "C:\\Users\\Lenovo\\anaconda3\\lib\\site-packages\\sklearn\\preprocessing\\_encoders.py:975: FutureWarning: `sparse` was renamed to `sparse_output` in version 1.2 and will be removed in 1.4. `sparse_output` is ignored unless you leave `sparse` to its default value.\n",
      "  warnings.warn(\n",
      "C:\\Users\\Lenovo\\anaconda3\\lib\\site-packages\\sklearn\\preprocessing\\_encoders.py:975: FutureWarning: `sparse` was renamed to `sparse_output` in version 1.2 and will be removed in 1.4. `sparse_output` is ignored unless you leave `sparse` to its default value.\n",
      "  warnings.warn(\n",
      "C:\\Users\\Lenovo\\anaconda3\\lib\\site-packages\\sklearn\\preprocessing\\_encoders.py:975: FutureWarning: `sparse` was renamed to `sparse_output` in version 1.2 and will be removed in 1.4. `sparse_output` is ignored unless you leave `sparse` to its default value.\n",
      "  warnings.warn(\n",
      "C:\\Users\\Lenovo\\anaconda3\\lib\\site-packages\\sklearn\\preprocessing\\_encoders.py:975: FutureWarning: `sparse` was renamed to `sparse_output` in version 1.2 and will be removed in 1.4. `sparse_output` is ignored unless you leave `sparse` to its default value.\n",
      "  warnings.warn(\n",
      "C:\\Users\\Lenovo\\anaconda3\\lib\\site-packages\\sklearn\\preprocessing\\_encoders.py:975: FutureWarning: `sparse` was renamed to `sparse_output` in version 1.2 and will be removed in 1.4. `sparse_output` is ignored unless you leave `sparse` to its default value.\n",
      "  warnings.warn(\n",
      "C:\\Users\\Lenovo\\anaconda3\\lib\\site-packages\\sklearn\\preprocessing\\_encoders.py:975: FutureWarning: `sparse` was renamed to `sparse_output` in version 1.2 and will be removed in 1.4. `sparse_output` is ignored unless you leave `sparse` to its default value.\n",
      "  warnings.warn(\n",
      "C:\\Users\\Lenovo\\anaconda3\\lib\\site-packages\\sklearn\\preprocessing\\_encoders.py:975: FutureWarning: `sparse` was renamed to `sparse_output` in version 1.2 and will be removed in 1.4. `sparse_output` is ignored unless you leave `sparse` to its default value.\n",
      "  warnings.warn(\n",
      "C:\\Users\\Lenovo\\anaconda3\\lib\\site-packages\\sklearn\\preprocessing\\_encoders.py:975: FutureWarning: `sparse` was renamed to `sparse_output` in version 1.2 and will be removed in 1.4. `sparse_output` is ignored unless you leave `sparse` to its default value.\n",
      "  warnings.warn(\n",
      "C:\\Users\\Lenovo\\anaconda3\\lib\\site-packages\\sklearn\\preprocessing\\_encoders.py:975: FutureWarning: `sparse` was renamed to `sparse_output` in version 1.2 and will be removed in 1.4. `sparse_output` is ignored unless you leave `sparse` to its default value.\n",
      "  warnings.warn(\n",
      "C:\\Users\\Lenovo\\anaconda3\\lib\\site-packages\\sklearn\\preprocessing\\_encoders.py:975: FutureWarning: `sparse` was renamed to `sparse_output` in version 1.2 and will be removed in 1.4. `sparse_output` is ignored unless you leave `sparse` to its default value.\n",
      "  warnings.warn(\n",
      "C:\\Users\\Lenovo\\anaconda3\\lib\\site-packages\\sklearn\\preprocessing\\_encoders.py:975: FutureWarning: `sparse` was renamed to `sparse_output` in version 1.2 and will be removed in 1.4. `sparse_output` is ignored unless you leave `sparse` to its default value.\n",
      "  warnings.warn(\n",
      "C:\\Users\\Lenovo\\anaconda3\\lib\\site-packages\\sklearn\\preprocessing\\_encoders.py:975: FutureWarning: `sparse` was renamed to `sparse_output` in version 1.2 and will be removed in 1.4. `sparse_output` is ignored unless you leave `sparse` to its default value.\n",
      "  warnings.warn(\n",
      "C:\\Users\\Lenovo\\anaconda3\\lib\\site-packages\\sklearn\\preprocessing\\_encoders.py:975: FutureWarning: `sparse` was renamed to `sparse_output` in version 1.2 and will be removed in 1.4. `sparse_output` is ignored unless you leave `sparse` to its default value.\n",
      "  warnings.warn(\n",
      "C:\\Users\\Lenovo\\anaconda3\\lib\\site-packages\\sklearn\\preprocessing\\_encoders.py:975: FutureWarning: `sparse` was renamed to `sparse_output` in version 1.2 and will be removed in 1.4. `sparse_output` is ignored unless you leave `sparse` to its default value.\n",
      "  warnings.warn(\n",
      "C:\\Users\\Lenovo\\anaconda3\\lib\\site-packages\\sklearn\\preprocessing\\_encoders.py:975: FutureWarning: `sparse` was renamed to `sparse_output` in version 1.2 and will be removed in 1.4. `sparse_output` is ignored unless you leave `sparse` to its default value.\n",
      "  warnings.warn(\n",
      "C:\\Users\\Lenovo\\anaconda3\\lib\\site-packages\\sklearn\\preprocessing\\_encoders.py:975: FutureWarning: `sparse` was renamed to `sparse_output` in version 1.2 and will be removed in 1.4. `sparse_output` is ignored unless you leave `sparse` to its default value.\n",
      "  warnings.warn(\n",
      "C:\\Users\\Lenovo\\anaconda3\\lib\\site-packages\\sklearn\\preprocessing\\_encoders.py:975: FutureWarning: `sparse` was renamed to `sparse_output` in version 1.2 and will be removed in 1.4. `sparse_output` is ignored unless you leave `sparse` to its default value.\n",
      "  warnings.warn(\n",
      "C:\\Users\\Lenovo\\anaconda3\\lib\\site-packages\\sklearn\\preprocessing\\_encoders.py:975: FutureWarning: `sparse` was renamed to `sparse_output` in version 1.2 and will be removed in 1.4. `sparse_output` is ignored unless you leave `sparse` to its default value.\n",
      "  warnings.warn(\n",
      "C:\\Users\\Lenovo\\anaconda3\\lib\\site-packages\\sklearn\\preprocessing\\_encoders.py:975: FutureWarning: `sparse` was renamed to `sparse_output` in version 1.2 and will be removed in 1.4. `sparse_output` is ignored unless you leave `sparse` to its default value.\n",
      "  warnings.warn(\n",
      "C:\\Users\\Lenovo\\anaconda3\\lib\\site-packages\\sklearn\\preprocessing\\_encoders.py:975: FutureWarning: `sparse` was renamed to `sparse_output` in version 1.2 and will be removed in 1.4. `sparse_output` is ignored unless you leave `sparse` to its default value.\n",
      "  warnings.warn(\n",
      "C:\\Users\\Lenovo\\anaconda3\\lib\\site-packages\\sklearn\\preprocessing\\_encoders.py:975: FutureWarning: `sparse` was renamed to `sparse_output` in version 1.2 and will be removed in 1.4. `sparse_output` is ignored unless you leave `sparse` to its default value.\n",
      "  warnings.warn(\n",
      "C:\\Users\\Lenovo\\anaconda3\\lib\\site-packages\\sklearn\\preprocessing\\_encoders.py:975: FutureWarning: `sparse` was renamed to `sparse_output` in version 1.2 and will be removed in 1.4. `sparse_output` is ignored unless you leave `sparse` to its default value.\n",
      "  warnings.warn(\n",
      "C:\\Users\\Lenovo\\anaconda3\\lib\\site-packages\\sklearn\\preprocessing\\_encoders.py:975: FutureWarning: `sparse` was renamed to `sparse_output` in version 1.2 and will be removed in 1.4. `sparse_output` is ignored unless you leave `sparse` to its default value.\n",
      "  warnings.warn(\n",
      "C:\\Users\\Lenovo\\anaconda3\\lib\\site-packages\\sklearn\\preprocessing\\_encoders.py:975: FutureWarning: `sparse` was renamed to `sparse_output` in version 1.2 and will be removed in 1.4. `sparse_output` is ignored unless you leave `sparse` to its default value.\n",
      "  warnings.warn(\n",
      "C:\\Users\\Lenovo\\anaconda3\\lib\\site-packages\\sklearn\\preprocessing\\_encoders.py:975: FutureWarning: `sparse` was renamed to `sparse_output` in version 1.2 and will be removed in 1.4. `sparse_output` is ignored unless you leave `sparse` to its default value.\n",
      "  warnings.warn(\n",
      "C:\\Users\\Lenovo\\anaconda3\\lib\\site-packages\\sklearn\\preprocessing\\_encoders.py:975: FutureWarning: `sparse` was renamed to `sparse_output` in version 1.2 and will be removed in 1.4. `sparse_output` is ignored unless you leave `sparse` to its default value.\n",
      "  warnings.warn(\n",
      "C:\\Users\\Lenovo\\anaconda3\\lib\\site-packages\\sklearn\\preprocessing\\_encoders.py:975: FutureWarning: `sparse` was renamed to `sparse_output` in version 1.2 and will be removed in 1.4. `sparse_output` is ignored unless you leave `sparse` to its default value.\n",
      "  warnings.warn(\n",
      "C:\\Users\\Lenovo\\anaconda3\\lib\\site-packages\\sklearn\\preprocessing\\_encoders.py:975: FutureWarning: `sparse` was renamed to `sparse_output` in version 1.2 and will be removed in 1.4. `sparse_output` is ignored unless you leave `sparse` to its default value.\n",
      "  warnings.warn(\n",
      "C:\\Users\\Lenovo\\anaconda3\\lib\\site-packages\\sklearn\\preprocessing\\_encoders.py:975: FutureWarning: `sparse` was renamed to `sparse_output` in version 1.2 and will be removed in 1.4. `sparse_output` is ignored unless you leave `sparse` to its default value.\n",
      "  warnings.warn(\n",
      "C:\\Users\\Lenovo\\anaconda3\\lib\\site-packages\\sklearn\\preprocessing\\_encoders.py:975: FutureWarning: `sparse` was renamed to `sparse_output` in version 1.2 and will be removed in 1.4. `sparse_output` is ignored unless you leave `sparse` to its default value.\n",
      "  warnings.warn(\n",
      "C:\\Users\\Lenovo\\anaconda3\\lib\\site-packages\\sklearn\\preprocessing\\_encoders.py:975: FutureWarning: `sparse` was renamed to `sparse_output` in version 1.2 and will be removed in 1.4. `sparse_output` is ignored unless you leave `sparse` to its default value.\n",
      "  warnings.warn(\n",
      "C:\\Users\\Lenovo\\anaconda3\\lib\\site-packages\\sklearn\\preprocessing\\_encoders.py:975: FutureWarning: `sparse` was renamed to `sparse_output` in version 1.2 and will be removed in 1.4. `sparse_output` is ignored unless you leave `sparse` to its default value.\n",
      "  warnings.warn(\n",
      "C:\\Users\\Lenovo\\anaconda3\\lib\\site-packages\\sklearn\\preprocessing\\_encoders.py:975: FutureWarning: `sparse` was renamed to `sparse_output` in version 1.2 and will be removed in 1.4. `sparse_output` is ignored unless you leave `sparse` to its default value.\n",
      "  warnings.warn(\n",
      "C:\\Users\\Lenovo\\anaconda3\\lib\\site-packages\\sklearn\\preprocessing\\_encoders.py:975: FutureWarning: `sparse` was renamed to `sparse_output` in version 1.2 and will be removed in 1.4. `sparse_output` is ignored unless you leave `sparse` to its default value.\n",
      "  warnings.warn(\n",
      "C:\\Users\\Lenovo\\anaconda3\\lib\\site-packages\\sklearn\\preprocessing\\_encoders.py:975: FutureWarning: `sparse` was renamed to `sparse_output` in version 1.2 and will be removed in 1.4. `sparse_output` is ignored unless you leave `sparse` to its default value.\n",
      "  warnings.warn(\n",
      "C:\\Users\\Lenovo\\anaconda3\\lib\\site-packages\\sklearn\\preprocessing\\_encoders.py:975: FutureWarning: `sparse` was renamed to `sparse_output` in version 1.2 and will be removed in 1.4. `sparse_output` is ignored unless you leave `sparse` to its default value.\n",
      "  warnings.warn(\n",
      "C:\\Users\\Lenovo\\anaconda3\\lib\\site-packages\\sklearn\\preprocessing\\_encoders.py:975: FutureWarning: `sparse` was renamed to `sparse_output` in version 1.2 and will be removed in 1.4. `sparse_output` is ignored unless you leave `sparse` to its default value.\n",
      "  warnings.warn(\n",
      "C:\\Users\\Lenovo\\anaconda3\\lib\\site-packages\\sklearn\\preprocessing\\_encoders.py:975: FutureWarning: `sparse` was renamed to `sparse_output` in version 1.2 and will be removed in 1.4. `sparse_output` is ignored unless you leave `sparse` to its default value.\n",
      "  warnings.warn(\n",
      "C:\\Users\\Lenovo\\anaconda3\\lib\\site-packages\\sklearn\\preprocessing\\_encoders.py:975: FutureWarning: `sparse` was renamed to `sparse_output` in version 1.2 and will be removed in 1.4. `sparse_output` is ignored unless you leave `sparse` to its default value.\n",
      "  warnings.warn(\n",
      "C:\\Users\\Lenovo\\anaconda3\\lib\\site-packages\\sklearn\\preprocessing\\_encoders.py:975: FutureWarning: `sparse` was renamed to `sparse_output` in version 1.2 and will be removed in 1.4. `sparse_output` is ignored unless you leave `sparse` to its default value.\n",
      "  warnings.warn(\n",
      "C:\\Users\\Lenovo\\anaconda3\\lib\\site-packages\\sklearn\\preprocessing\\_encoders.py:975: FutureWarning: `sparse` was renamed to `sparse_output` in version 1.2 and will be removed in 1.4. `sparse_output` is ignored unless you leave `sparse` to its default value.\n",
      "  warnings.warn(\n",
      "C:\\Users\\Lenovo\\anaconda3\\lib\\site-packages\\sklearn\\preprocessing\\_encoders.py:975: FutureWarning: `sparse` was renamed to `sparse_output` in version 1.2 and will be removed in 1.4. `sparse_output` is ignored unless you leave `sparse` to its default value.\n",
      "  warnings.warn(\n",
      "C:\\Users\\Lenovo\\anaconda3\\lib\\site-packages\\sklearn\\preprocessing\\_encoders.py:975: FutureWarning: `sparse` was renamed to `sparse_output` in version 1.2 and will be removed in 1.4. `sparse_output` is ignored unless you leave `sparse` to its default value.\n",
      "  warnings.warn(\n",
      "C:\\Users\\Lenovo\\anaconda3\\lib\\site-packages\\sklearn\\preprocessing\\_encoders.py:975: FutureWarning: `sparse` was renamed to `sparse_output` in version 1.2 and will be removed in 1.4. `sparse_output` is ignored unless you leave `sparse` to its default value.\n",
      "  warnings.warn(\n",
      "C:\\Users\\Lenovo\\anaconda3\\lib\\site-packages\\sklearn\\preprocessing\\_encoders.py:975: FutureWarning: `sparse` was renamed to `sparse_output` in version 1.2 and will be removed in 1.4. `sparse_output` is ignored unless you leave `sparse` to its default value.\n",
      "  warnings.warn(\n",
      "C:\\Users\\Lenovo\\anaconda3\\lib\\site-packages\\sklearn\\preprocessing\\_encoders.py:975: FutureWarning: `sparse` was renamed to `sparse_output` in version 1.2 and will be removed in 1.4. `sparse_output` is ignored unless you leave `sparse` to its default value.\n",
      "  warnings.warn(\n",
      "C:\\Users\\Lenovo\\anaconda3\\lib\\site-packages\\sklearn\\preprocessing\\_encoders.py:975: FutureWarning: `sparse` was renamed to `sparse_output` in version 1.2 and will be removed in 1.4. `sparse_output` is ignored unless you leave `sparse` to its default value.\n",
      "  warnings.warn(\n",
      "C:\\Users\\Lenovo\\anaconda3\\lib\\site-packages\\sklearn\\preprocessing\\_encoders.py:975: FutureWarning: `sparse` was renamed to `sparse_output` in version 1.2 and will be removed in 1.4. `sparse_output` is ignored unless you leave `sparse` to its default value.\n",
      "  warnings.warn(\n",
      "C:\\Users\\Lenovo\\anaconda3\\lib\\site-packages\\sklearn\\preprocessing\\_encoders.py:975: FutureWarning: `sparse` was renamed to `sparse_output` in version 1.2 and will be removed in 1.4. `sparse_output` is ignored unless you leave `sparse` to its default value.\n",
      "  warnings.warn(\n",
      "C:\\Users\\Lenovo\\anaconda3\\lib\\site-packages\\sklearn\\preprocessing\\_encoders.py:975: FutureWarning: `sparse` was renamed to `sparse_output` in version 1.2 and will be removed in 1.4. `sparse_output` is ignored unless you leave `sparse` to its default value.\n",
      "  warnings.warn(\n",
      "C:\\Users\\Lenovo\\anaconda3\\lib\\site-packages\\sklearn\\preprocessing\\_encoders.py:975: FutureWarning: `sparse` was renamed to `sparse_output` in version 1.2 and will be removed in 1.4. `sparse_output` is ignored unless you leave `sparse` to its default value.\n",
      "  warnings.warn(\n",
      "C:\\Users\\Lenovo\\anaconda3\\lib\\site-packages\\sklearn\\preprocessing\\_encoders.py:975: FutureWarning: `sparse` was renamed to `sparse_output` in version 1.2 and will be removed in 1.4. `sparse_output` is ignored unless you leave `sparse` to its default value.\n",
      "  warnings.warn(\n",
      "C:\\Users\\Lenovo\\anaconda3\\lib\\site-packages\\sklearn\\preprocessing\\_encoders.py:975: FutureWarning: `sparse` was renamed to `sparse_output` in version 1.2 and will be removed in 1.4. `sparse_output` is ignored unless you leave `sparse` to its default value.\n",
      "  warnings.warn(\n",
      "C:\\Users\\Lenovo\\anaconda3\\lib\\site-packages\\sklearn\\preprocessing\\_encoders.py:975: FutureWarning: `sparse` was renamed to `sparse_output` in version 1.2 and will be removed in 1.4. `sparse_output` is ignored unless you leave `sparse` to its default value.\n",
      "  warnings.warn(\n",
      "C:\\Users\\Lenovo\\anaconda3\\lib\\site-packages\\sklearn\\preprocessing\\_encoders.py:975: FutureWarning: `sparse` was renamed to `sparse_output` in version 1.2 and will be removed in 1.4. `sparse_output` is ignored unless you leave `sparse` to its default value.\n",
      "  warnings.warn(\n",
      "C:\\Users\\Lenovo\\anaconda3\\lib\\site-packages\\sklearn\\preprocessing\\_encoders.py:975: FutureWarning: `sparse` was renamed to `sparse_output` in version 1.2 and will be removed in 1.4. `sparse_output` is ignored unless you leave `sparse` to its default value.\n",
      "  warnings.warn(\n",
      "C:\\Users\\Lenovo\\anaconda3\\lib\\site-packages\\sklearn\\preprocessing\\_encoders.py:975: FutureWarning: `sparse` was renamed to `sparse_output` in version 1.2 and will be removed in 1.4. `sparse_output` is ignored unless you leave `sparse` to its default value.\n",
      "  warnings.warn(\n",
      "C:\\Users\\Lenovo\\anaconda3\\lib\\site-packages\\sklearn\\preprocessing\\_encoders.py:975: FutureWarning: `sparse` was renamed to `sparse_output` in version 1.2 and will be removed in 1.4. `sparse_output` is ignored unless you leave `sparse` to its default value.\n",
      "  warnings.warn(\n",
      "C:\\Users\\Lenovo\\anaconda3\\lib\\site-packages\\sklearn\\preprocessing\\_encoders.py:975: FutureWarning: `sparse` was renamed to `sparse_output` in version 1.2 and will be removed in 1.4. `sparse_output` is ignored unless you leave `sparse` to its default value.\n",
      "  warnings.warn(\n",
      "C:\\Users\\Lenovo\\anaconda3\\lib\\site-packages\\sklearn\\preprocessing\\_encoders.py:975: FutureWarning: `sparse` was renamed to `sparse_output` in version 1.2 and will be removed in 1.4. `sparse_output` is ignored unless you leave `sparse` to its default value.\n",
      "  warnings.warn(\n",
      "C:\\Users\\Lenovo\\anaconda3\\lib\\site-packages\\sklearn\\preprocessing\\_encoders.py:975: FutureWarning: `sparse` was renamed to `sparse_output` in version 1.2 and will be removed in 1.4. `sparse_output` is ignored unless you leave `sparse` to its default value.\n",
      "  warnings.warn(\n",
      "C:\\Users\\Lenovo\\anaconda3\\lib\\site-packages\\sklearn\\preprocessing\\_encoders.py:975: FutureWarning: `sparse` was renamed to `sparse_output` in version 1.2 and will be removed in 1.4. `sparse_output` is ignored unless you leave `sparse` to its default value.\n",
      "  warnings.warn(\n",
      "C:\\Users\\Lenovo\\anaconda3\\lib\\site-packages\\sklearn\\preprocessing\\_encoders.py:975: FutureWarning: `sparse` was renamed to `sparse_output` in version 1.2 and will be removed in 1.4. `sparse_output` is ignored unless you leave `sparse` to its default value.\n",
      "  warnings.warn(\n",
      "C:\\Users\\Lenovo\\anaconda3\\lib\\site-packages\\sklearn\\preprocessing\\_encoders.py:975: FutureWarning: `sparse` was renamed to `sparse_output` in version 1.2 and will be removed in 1.4. `sparse_output` is ignored unless you leave `sparse` to its default value.\n",
      "  warnings.warn(\n",
      "C:\\Users\\Lenovo\\anaconda3\\lib\\site-packages\\sklearn\\preprocessing\\_encoders.py:975: FutureWarning: `sparse` was renamed to `sparse_output` in version 1.2 and will be removed in 1.4. `sparse_output` is ignored unless you leave `sparse` to its default value.\n",
      "  warnings.warn(\n",
      "C:\\Users\\Lenovo\\anaconda3\\lib\\site-packages\\sklearn\\preprocessing\\_encoders.py:975: FutureWarning: `sparse` was renamed to `sparse_output` in version 1.2 and will be removed in 1.4. `sparse_output` is ignored unless you leave `sparse` to its default value.\n",
      "  warnings.warn(\n",
      "C:\\Users\\Lenovo\\anaconda3\\lib\\site-packages\\sklearn\\preprocessing\\_encoders.py:975: FutureWarning: `sparse` was renamed to `sparse_output` in version 1.2 and will be removed in 1.4. `sparse_output` is ignored unless you leave `sparse` to its default value.\n",
      "  warnings.warn(\n",
      "C:\\Users\\Lenovo\\anaconda3\\lib\\site-packages\\sklearn\\preprocessing\\_encoders.py:975: FutureWarning: `sparse` was renamed to `sparse_output` in version 1.2 and will be removed in 1.4. `sparse_output` is ignored unless you leave `sparse` to its default value.\n",
      "  warnings.warn(\n",
      "C:\\Users\\Lenovo\\anaconda3\\lib\\site-packages\\sklearn\\preprocessing\\_encoders.py:975: FutureWarning: `sparse` was renamed to `sparse_output` in version 1.2 and will be removed in 1.4. `sparse_output` is ignored unless you leave `sparse` to its default value.\n",
      "  warnings.warn(\n",
      "C:\\Users\\Lenovo\\anaconda3\\lib\\site-packages\\sklearn\\preprocessing\\_encoders.py:975: FutureWarning: `sparse` was renamed to `sparse_output` in version 1.2 and will be removed in 1.4. `sparse_output` is ignored unless you leave `sparse` to its default value.\n",
      "  warnings.warn(\n",
      "C:\\Users\\Lenovo\\anaconda3\\lib\\site-packages\\sklearn\\preprocessing\\_encoders.py:975: FutureWarning: `sparse` was renamed to `sparse_output` in version 1.2 and will be removed in 1.4. `sparse_output` is ignored unless you leave `sparse` to its default value.\n",
      "  warnings.warn(\n",
      "C:\\Users\\Lenovo\\anaconda3\\lib\\site-packages\\sklearn\\preprocessing\\_encoders.py:975: FutureWarning: `sparse` was renamed to `sparse_output` in version 1.2 and will be removed in 1.4. `sparse_output` is ignored unless you leave `sparse` to its default value.\n",
      "  warnings.warn(\n",
      "C:\\Users\\Lenovo\\anaconda3\\lib\\site-packages\\sklearn\\preprocessing\\_encoders.py:975: FutureWarning: `sparse` was renamed to `sparse_output` in version 1.2 and will be removed in 1.4. `sparse_output` is ignored unless you leave `sparse` to its default value.\n",
      "  warnings.warn(\n",
      "C:\\Users\\Lenovo\\anaconda3\\lib\\site-packages\\sklearn\\preprocessing\\_encoders.py:975: FutureWarning: `sparse` was renamed to `sparse_output` in version 1.2 and will be removed in 1.4. `sparse_output` is ignored unless you leave `sparse` to its default value.\n",
      "  warnings.warn(\n",
      "C:\\Users\\Lenovo\\anaconda3\\lib\\site-packages\\sklearn\\preprocessing\\_encoders.py:975: FutureWarning: `sparse` was renamed to `sparse_output` in version 1.2 and will be removed in 1.4. `sparse_output` is ignored unless you leave `sparse` to its default value.\n",
      "  warnings.warn(\n",
      "C:\\Users\\Lenovo\\anaconda3\\lib\\site-packages\\sklearn\\preprocessing\\_encoders.py:975: FutureWarning: `sparse` was renamed to `sparse_output` in version 1.2 and will be removed in 1.4. `sparse_output` is ignored unless you leave `sparse` to its default value.\n",
      "  warnings.warn(\n",
      "C:\\Users\\Lenovo\\anaconda3\\lib\\site-packages\\sklearn\\preprocessing\\_encoders.py:975: FutureWarning: `sparse` was renamed to `sparse_output` in version 1.2 and will be removed in 1.4. `sparse_output` is ignored unless you leave `sparse` to its default value.\n",
      "  warnings.warn(\n",
      "C:\\Users\\Lenovo\\anaconda3\\lib\\site-packages\\sklearn\\preprocessing\\_encoders.py:975: FutureWarning: `sparse` was renamed to `sparse_output` in version 1.2 and will be removed in 1.4. `sparse_output` is ignored unless you leave `sparse` to its default value.\n",
      "  warnings.warn(\n",
      "C:\\Users\\Lenovo\\anaconda3\\lib\\site-packages\\sklearn\\preprocessing\\_encoders.py:975: FutureWarning: `sparse` was renamed to `sparse_output` in version 1.2 and will be removed in 1.4. `sparse_output` is ignored unless you leave `sparse` to its default value.\n",
      "  warnings.warn(\n",
      "C:\\Users\\Lenovo\\anaconda3\\lib\\site-packages\\sklearn\\preprocessing\\_encoders.py:975: FutureWarning: `sparse` was renamed to `sparse_output` in version 1.2 and will be removed in 1.4. `sparse_output` is ignored unless you leave `sparse` to its default value.\n",
      "  warnings.warn(\n",
      "C:\\Users\\Lenovo\\anaconda3\\lib\\site-packages\\sklearn\\preprocessing\\_encoders.py:975: FutureWarning: `sparse` was renamed to `sparse_output` in version 1.2 and will be removed in 1.4. `sparse_output` is ignored unless you leave `sparse` to its default value.\n",
      "  warnings.warn(\n",
      "C:\\Users\\Lenovo\\anaconda3\\lib\\site-packages\\sklearn\\preprocessing\\_encoders.py:975: FutureWarning: `sparse` was renamed to `sparse_output` in version 1.2 and will be removed in 1.4. `sparse_output` is ignored unless you leave `sparse` to its default value.\n",
      "  warnings.warn(\n",
      "C:\\Users\\Lenovo\\anaconda3\\lib\\site-packages\\sklearn\\preprocessing\\_encoders.py:975: FutureWarning: `sparse` was renamed to `sparse_output` in version 1.2 and will be removed in 1.4. `sparse_output` is ignored unless you leave `sparse` to its default value.\n",
      "  warnings.warn(\n",
      "C:\\Users\\Lenovo\\anaconda3\\lib\\site-packages\\sklearn\\preprocessing\\_encoders.py:975: FutureWarning: `sparse` was renamed to `sparse_output` in version 1.2 and will be removed in 1.4. `sparse_output` is ignored unless you leave `sparse` to its default value.\n",
      "  warnings.warn(\n",
      "C:\\Users\\Lenovo\\anaconda3\\lib\\site-packages\\sklearn\\preprocessing\\_encoders.py:975: FutureWarning: `sparse` was renamed to `sparse_output` in version 1.2 and will be removed in 1.4. `sparse_output` is ignored unless you leave `sparse` to its default value.\n",
      "  warnings.warn(\n",
      "C:\\Users\\Lenovo\\anaconda3\\lib\\site-packages\\sklearn\\preprocessing\\_encoders.py:975: FutureWarning: `sparse` was renamed to `sparse_output` in version 1.2 and will be removed in 1.4. `sparse_output` is ignored unless you leave `sparse` to its default value.\n",
      "  warnings.warn(\n",
      "C:\\Users\\Lenovo\\anaconda3\\lib\\site-packages\\sklearn\\preprocessing\\_encoders.py:975: FutureWarning: `sparse` was renamed to `sparse_output` in version 1.2 and will be removed in 1.4. `sparse_output` is ignored unless you leave `sparse` to its default value.\n",
      "  warnings.warn(\n",
      "C:\\Users\\Lenovo\\anaconda3\\lib\\site-packages\\sklearn\\preprocessing\\_encoders.py:975: FutureWarning: `sparse` was renamed to `sparse_output` in version 1.2 and will be removed in 1.4. `sparse_output` is ignored unless you leave `sparse` to its default value.\n",
      "  warnings.warn(\n",
      "C:\\Users\\Lenovo\\anaconda3\\lib\\site-packages\\sklearn\\preprocessing\\_encoders.py:975: FutureWarning: `sparse` was renamed to `sparse_output` in version 1.2 and will be removed in 1.4. `sparse_output` is ignored unless you leave `sparse` to its default value.\n",
      "  warnings.warn(\n",
      "C:\\Users\\Lenovo\\anaconda3\\lib\\site-packages\\sklearn\\preprocessing\\_encoders.py:975: FutureWarning: `sparse` was renamed to `sparse_output` in version 1.2 and will be removed in 1.4. `sparse_output` is ignored unless you leave `sparse` to its default value.\n",
      "  warnings.warn(\n",
      "C:\\Users\\Lenovo\\anaconda3\\lib\\site-packages\\sklearn\\preprocessing\\_encoders.py:975: FutureWarning: `sparse` was renamed to `sparse_output` in version 1.2 and will be removed in 1.4. `sparse_output` is ignored unless you leave `sparse` to its default value.\n",
      "  warnings.warn(\n",
      "C:\\Users\\Lenovo\\anaconda3\\lib\\site-packages\\sklearn\\preprocessing\\_encoders.py:975: FutureWarning: `sparse` was renamed to `sparse_output` in version 1.2 and will be removed in 1.4. `sparse_output` is ignored unless you leave `sparse` to its default value.\n",
      "  warnings.warn(\n",
      "C:\\Users\\Lenovo\\anaconda3\\lib\\site-packages\\sklearn\\preprocessing\\_encoders.py:975: FutureWarning: `sparse` was renamed to `sparse_output` in version 1.2 and will be removed in 1.4. `sparse_output` is ignored unless you leave `sparse` to its default value.\n",
      "  warnings.warn(\n",
      "C:\\Users\\Lenovo\\anaconda3\\lib\\site-packages\\sklearn\\preprocessing\\_encoders.py:975: FutureWarning: `sparse` was renamed to `sparse_output` in version 1.2 and will be removed in 1.4. `sparse_output` is ignored unless you leave `sparse` to its default value.\n",
      "  warnings.warn(\n",
      "C:\\Users\\Lenovo\\anaconda3\\lib\\site-packages\\sklearn\\preprocessing\\_encoders.py:975: FutureWarning: `sparse` was renamed to `sparse_output` in version 1.2 and will be removed in 1.4. `sparse_output` is ignored unless you leave `sparse` to its default value.\n",
      "  warnings.warn(\n",
      "C:\\Users\\Lenovo\\anaconda3\\lib\\site-packages\\sklearn\\preprocessing\\_encoders.py:975: FutureWarning: `sparse` was renamed to `sparse_output` in version 1.2 and will be removed in 1.4. `sparse_output` is ignored unless you leave `sparse` to its default value.\n",
      "  warnings.warn(\n",
      "C:\\Users\\Lenovo\\anaconda3\\lib\\site-packages\\sklearn\\preprocessing\\_encoders.py:975: FutureWarning: `sparse` was renamed to `sparse_output` in version 1.2 and will be removed in 1.4. `sparse_output` is ignored unless you leave `sparse` to its default value.\n",
      "  warnings.warn(\n",
      "C:\\Users\\Lenovo\\anaconda3\\lib\\site-packages\\sklearn\\preprocessing\\_encoders.py:975: FutureWarning: `sparse` was renamed to `sparse_output` in version 1.2 and will be removed in 1.4. `sparse_output` is ignored unless you leave `sparse` to its default value.\n",
      "  warnings.warn(\n",
      "C:\\Users\\Lenovo\\anaconda3\\lib\\site-packages\\sklearn\\preprocessing\\_encoders.py:975: FutureWarning: `sparse` was renamed to `sparse_output` in version 1.2 and will be removed in 1.4. `sparse_output` is ignored unless you leave `sparse` to its default value.\n",
      "  warnings.warn(\n",
      "C:\\Users\\Lenovo\\anaconda3\\lib\\site-packages\\sklearn\\preprocessing\\_encoders.py:975: FutureWarning: `sparse` was renamed to `sparse_output` in version 1.2 and will be removed in 1.4. `sparse_output` is ignored unless you leave `sparse` to its default value.\n",
      "  warnings.warn(\n",
      "C:\\Users\\Lenovo\\anaconda3\\lib\\site-packages\\sklearn\\preprocessing\\_encoders.py:975: FutureWarning: `sparse` was renamed to `sparse_output` in version 1.2 and will be removed in 1.4. `sparse_output` is ignored unless you leave `sparse` to its default value.\n",
      "  warnings.warn(\n",
      "C:\\Users\\Lenovo\\anaconda3\\lib\\site-packages\\sklearn\\preprocessing\\_encoders.py:975: FutureWarning: `sparse` was renamed to `sparse_output` in version 1.2 and will be removed in 1.4. `sparse_output` is ignored unless you leave `sparse` to its default value.\n",
      "  warnings.warn(\n",
      "C:\\Users\\Lenovo\\anaconda3\\lib\\site-packages\\sklearn\\preprocessing\\_encoders.py:975: FutureWarning: `sparse` was renamed to `sparse_output` in version 1.2 and will be removed in 1.4. `sparse_output` is ignored unless you leave `sparse` to its default value.\n",
      "  warnings.warn(\n",
      "C:\\Users\\Lenovo\\anaconda3\\lib\\site-packages\\sklearn\\preprocessing\\_encoders.py:975: FutureWarning: `sparse` was renamed to `sparse_output` in version 1.2 and will be removed in 1.4. `sparse_output` is ignored unless you leave `sparse` to its default value.\n",
      "  warnings.warn(\n",
      "C:\\Users\\Lenovo\\anaconda3\\lib\\site-packages\\sklearn\\preprocessing\\_encoders.py:975: FutureWarning: `sparse` was renamed to `sparse_output` in version 1.2 and will be removed in 1.4. `sparse_output` is ignored unless you leave `sparse` to its default value.\n",
      "  warnings.warn(\n",
      "C:\\Users\\Lenovo\\anaconda3\\lib\\site-packages\\sklearn\\preprocessing\\_encoders.py:975: FutureWarning: `sparse` was renamed to `sparse_output` in version 1.2 and will be removed in 1.4. `sparse_output` is ignored unless you leave `sparse` to its default value.\n",
      "  warnings.warn(\n",
      "C:\\Users\\Lenovo\\anaconda3\\lib\\site-packages\\sklearn\\preprocessing\\_encoders.py:975: FutureWarning: `sparse` was renamed to `sparse_output` in version 1.2 and will be removed in 1.4. `sparse_output` is ignored unless you leave `sparse` to its default value.\n",
      "  warnings.warn(\n",
      "C:\\Users\\Lenovo\\anaconda3\\lib\\site-packages\\sklearn\\preprocessing\\_encoders.py:975: FutureWarning: `sparse` was renamed to `sparse_output` in version 1.2 and will be removed in 1.4. `sparse_output` is ignored unless you leave `sparse` to its default value.\n",
      "  warnings.warn(\n",
      "C:\\Users\\Lenovo\\anaconda3\\lib\\site-packages\\sklearn\\preprocessing\\_encoders.py:975: FutureWarning: `sparse` was renamed to `sparse_output` in version 1.2 and will be removed in 1.4. `sparse_output` is ignored unless you leave `sparse` to its default value.\n",
      "  warnings.warn(\n",
      "C:\\Users\\Lenovo\\anaconda3\\lib\\site-packages\\sklearn\\preprocessing\\_encoders.py:975: FutureWarning: `sparse` was renamed to `sparse_output` in version 1.2 and will be removed in 1.4. `sparse_output` is ignored unless you leave `sparse` to its default value.\n",
      "  warnings.warn(\n",
      "C:\\Users\\Lenovo\\anaconda3\\lib\\site-packages\\sklearn\\preprocessing\\_encoders.py:975: FutureWarning: `sparse` was renamed to `sparse_output` in version 1.2 and will be removed in 1.4. `sparse_output` is ignored unless you leave `sparse` to its default value.\n",
      "  warnings.warn(\n",
      "C:\\Users\\Lenovo\\anaconda3\\lib\\site-packages\\sklearn\\preprocessing\\_encoders.py:975: FutureWarning: `sparse` was renamed to `sparse_output` in version 1.2 and will be removed in 1.4. `sparse_output` is ignored unless you leave `sparse` to its default value.\n",
      "  warnings.warn(\n",
      "C:\\Users\\Lenovo\\anaconda3\\lib\\site-packages\\sklearn\\preprocessing\\_encoders.py:975: FutureWarning: `sparse` was renamed to `sparse_output` in version 1.2 and will be removed in 1.4. `sparse_output` is ignored unless you leave `sparse` to its default value.\n",
      "  warnings.warn(\n",
      "C:\\Users\\Lenovo\\anaconda3\\lib\\site-packages\\sklearn\\preprocessing\\_encoders.py:975: FutureWarning: `sparse` was renamed to `sparse_output` in version 1.2 and will be removed in 1.4. `sparse_output` is ignored unless you leave `sparse` to its default value.\n",
      "  warnings.warn(\n",
      "C:\\Users\\Lenovo\\anaconda3\\lib\\site-packages\\sklearn\\preprocessing\\_encoders.py:975: FutureWarning: `sparse` was renamed to `sparse_output` in version 1.2 and will be removed in 1.4. `sparse_output` is ignored unless you leave `sparse` to its default value.\n",
      "  warnings.warn(\n",
      "C:\\Users\\Lenovo\\anaconda3\\lib\\site-packages\\sklearn\\preprocessing\\_encoders.py:975: FutureWarning: `sparse` was renamed to `sparse_output` in version 1.2 and will be removed in 1.4. `sparse_output` is ignored unless you leave `sparse` to its default value.\n",
      "  warnings.warn(\n",
      "C:\\Users\\Lenovo\\anaconda3\\lib\\site-packages\\sklearn\\preprocessing\\_encoders.py:975: FutureWarning: `sparse` was renamed to `sparse_output` in version 1.2 and will be removed in 1.4. `sparse_output` is ignored unless you leave `sparse` to its default value.\n",
      "  warnings.warn(\n",
      "C:\\Users\\Lenovo\\anaconda3\\lib\\site-packages\\sklearn\\preprocessing\\_encoders.py:975: FutureWarning: `sparse` was renamed to `sparse_output` in version 1.2 and will be removed in 1.4. `sparse_output` is ignored unless you leave `sparse` to its default value.\n",
      "  warnings.warn(\n",
      "C:\\Users\\Lenovo\\anaconda3\\lib\\site-packages\\sklearn\\preprocessing\\_encoders.py:975: FutureWarning: `sparse` was renamed to `sparse_output` in version 1.2 and will be removed in 1.4. `sparse_output` is ignored unless you leave `sparse` to its default value.\n",
      "  warnings.warn(\n",
      "C:\\Users\\Lenovo\\anaconda3\\lib\\site-packages\\sklearn\\preprocessing\\_encoders.py:975: FutureWarning: `sparse` was renamed to `sparse_output` in version 1.2 and will be removed in 1.4. `sparse_output` is ignored unless you leave `sparse` to its default value.\n",
      "  warnings.warn(\n",
      "C:\\Users\\Lenovo\\anaconda3\\lib\\site-packages\\sklearn\\preprocessing\\_encoders.py:975: FutureWarning: `sparse` was renamed to `sparse_output` in version 1.2 and will be removed in 1.4. `sparse_output` is ignored unless you leave `sparse` to its default value.\n",
      "  warnings.warn(\n",
      "C:\\Users\\Lenovo\\anaconda3\\lib\\site-packages\\sklearn\\preprocessing\\_encoders.py:975: FutureWarning: `sparse` was renamed to `sparse_output` in version 1.2 and will be removed in 1.4. `sparse_output` is ignored unless you leave `sparse` to its default value.\n",
      "  warnings.warn(\n",
      "C:\\Users\\Lenovo\\anaconda3\\lib\\site-packages\\sklearn\\preprocessing\\_encoders.py:975: FutureWarning: `sparse` was renamed to `sparse_output` in version 1.2 and will be removed in 1.4. `sparse_output` is ignored unless you leave `sparse` to its default value.\n",
      "  warnings.warn(\n",
      "C:\\Users\\Lenovo\\anaconda3\\lib\\site-packages\\sklearn\\preprocessing\\_encoders.py:975: FutureWarning: `sparse` was renamed to `sparse_output` in version 1.2 and will be removed in 1.4. `sparse_output` is ignored unless you leave `sparse` to its default value.\n",
      "  warnings.warn(\n",
      "C:\\Users\\Lenovo\\anaconda3\\lib\\site-packages\\sklearn\\preprocessing\\_encoders.py:975: FutureWarning: `sparse` was renamed to `sparse_output` in version 1.2 and will be removed in 1.4. `sparse_output` is ignored unless you leave `sparse` to its default value.\n",
      "  warnings.warn(\n",
      "C:\\Users\\Lenovo\\anaconda3\\lib\\site-packages\\sklearn\\preprocessing\\_encoders.py:975: FutureWarning: `sparse` was renamed to `sparse_output` in version 1.2 and will be removed in 1.4. `sparse_output` is ignored unless you leave `sparse` to its default value.\n",
      "  warnings.warn(\n",
      "C:\\Users\\Lenovo\\anaconda3\\lib\\site-packages\\sklearn\\preprocessing\\_encoders.py:975: FutureWarning: `sparse` was renamed to `sparse_output` in version 1.2 and will be removed in 1.4. `sparse_output` is ignored unless you leave `sparse` to its default value.\n",
      "  warnings.warn(\n",
      "C:\\Users\\Lenovo\\anaconda3\\lib\\site-packages\\sklearn\\preprocessing\\_encoders.py:975: FutureWarning: `sparse` was renamed to `sparse_output` in version 1.2 and will be removed in 1.4. `sparse_output` is ignored unless you leave `sparse` to its default value.\n",
      "  warnings.warn(\n",
      "C:\\Users\\Lenovo\\anaconda3\\lib\\site-packages\\sklearn\\preprocessing\\_encoders.py:975: FutureWarning: `sparse` was renamed to `sparse_output` in version 1.2 and will be removed in 1.4. `sparse_output` is ignored unless you leave `sparse` to its default value.\n",
      "  warnings.warn(\n",
      "C:\\Users\\Lenovo\\anaconda3\\lib\\site-packages\\sklearn\\preprocessing\\_encoders.py:975: FutureWarning: `sparse` was renamed to `sparse_output` in version 1.2 and will be removed in 1.4. `sparse_output` is ignored unless you leave `sparse` to its default value.\n",
      "  warnings.warn(\n",
      "C:\\Users\\Lenovo\\anaconda3\\lib\\site-packages\\sklearn\\preprocessing\\_encoders.py:975: FutureWarning: `sparse` was renamed to `sparse_output` in version 1.2 and will be removed in 1.4. `sparse_output` is ignored unless you leave `sparse` to its default value.\n",
      "  warnings.warn(\n",
      "C:\\Users\\Lenovo\\anaconda3\\lib\\site-packages\\sklearn\\preprocessing\\_encoders.py:975: FutureWarning: `sparse` was renamed to `sparse_output` in version 1.2 and will be removed in 1.4. `sparse_output` is ignored unless you leave `sparse` to its default value.\n",
      "  warnings.warn(\n",
      "C:\\Users\\Lenovo\\anaconda3\\lib\\site-packages\\sklearn\\preprocessing\\_encoders.py:975: FutureWarning: `sparse` was renamed to `sparse_output` in version 1.2 and will be removed in 1.4. `sparse_output` is ignored unless you leave `sparse` to its default value.\n",
      "  warnings.warn(\n",
      "C:\\Users\\Lenovo\\anaconda3\\lib\\site-packages\\sklearn\\preprocessing\\_encoders.py:975: FutureWarning: `sparse` was renamed to `sparse_output` in version 1.2 and will be removed in 1.4. `sparse_output` is ignored unless you leave `sparse` to its default value.\n",
      "  warnings.warn(\n",
      "C:\\Users\\Lenovo\\anaconda3\\lib\\site-packages\\sklearn\\preprocessing\\_encoders.py:975: FutureWarning: `sparse` was renamed to `sparse_output` in version 1.2 and will be removed in 1.4. `sparse_output` is ignored unless you leave `sparse` to its default value.\n",
      "  warnings.warn(\n"
     ]
    },
    {
     "data": {
      "text/html": [
       "<style>#sk-container-id-2 {color: black;}#sk-container-id-2 pre{padding: 0;}#sk-container-id-2 div.sk-toggleable {background-color: white;}#sk-container-id-2 label.sk-toggleable__label {cursor: pointer;display: block;width: 100%;margin-bottom: 0;padding: 0.3em;box-sizing: border-box;text-align: center;}#sk-container-id-2 label.sk-toggleable__label-arrow:before {content: \"▸\";float: left;margin-right: 0.25em;color: #696969;}#sk-container-id-2 label.sk-toggleable__label-arrow:hover:before {color: black;}#sk-container-id-2 div.sk-estimator:hover label.sk-toggleable__label-arrow:before {color: black;}#sk-container-id-2 div.sk-toggleable__content {max-height: 0;max-width: 0;overflow: hidden;text-align: left;background-color: #f0f8ff;}#sk-container-id-2 div.sk-toggleable__content pre {margin: 0.2em;color: black;border-radius: 0.25em;background-color: #f0f8ff;}#sk-container-id-2 input.sk-toggleable__control:checked~div.sk-toggleable__content {max-height: 200px;max-width: 100%;overflow: auto;}#sk-container-id-2 input.sk-toggleable__control:checked~label.sk-toggleable__label-arrow:before {content: \"▾\";}#sk-container-id-2 div.sk-estimator input.sk-toggleable__control:checked~label.sk-toggleable__label {background-color: #d4ebff;}#sk-container-id-2 div.sk-label input.sk-toggleable__control:checked~label.sk-toggleable__label {background-color: #d4ebff;}#sk-container-id-2 input.sk-hidden--visually {border: 0;clip: rect(1px 1px 1px 1px);clip: rect(1px, 1px, 1px, 1px);height: 1px;margin: -1px;overflow: hidden;padding: 0;position: absolute;width: 1px;}#sk-container-id-2 div.sk-estimator {font-family: monospace;background-color: #f0f8ff;border: 1px dotted black;border-radius: 0.25em;box-sizing: border-box;margin-bottom: 0.5em;}#sk-container-id-2 div.sk-estimator:hover {background-color: #d4ebff;}#sk-container-id-2 div.sk-parallel-item::after {content: \"\";width: 100%;border-bottom: 1px solid gray;flex-grow: 1;}#sk-container-id-2 div.sk-label:hover label.sk-toggleable__label {background-color: #d4ebff;}#sk-container-id-2 div.sk-serial::before {content: \"\";position: absolute;border-left: 1px solid gray;box-sizing: border-box;top: 0;bottom: 0;left: 50%;z-index: 0;}#sk-container-id-2 div.sk-serial {display: flex;flex-direction: column;align-items: center;background-color: white;padding-right: 0.2em;padding-left: 0.2em;position: relative;}#sk-container-id-2 div.sk-item {position: relative;z-index: 1;}#sk-container-id-2 div.sk-parallel {display: flex;align-items: stretch;justify-content: center;background-color: white;position: relative;}#sk-container-id-2 div.sk-item::before, #sk-container-id-2 div.sk-parallel-item::before {content: \"\";position: absolute;border-left: 1px solid gray;box-sizing: border-box;top: 0;bottom: 0;left: 50%;z-index: -1;}#sk-container-id-2 div.sk-parallel-item {display: flex;flex-direction: column;z-index: 1;position: relative;background-color: white;}#sk-container-id-2 div.sk-parallel-item:first-child::after {align-self: flex-end;width: 50%;}#sk-container-id-2 div.sk-parallel-item:last-child::after {align-self: flex-start;width: 50%;}#sk-container-id-2 div.sk-parallel-item:only-child::after {width: 0;}#sk-container-id-2 div.sk-dashed-wrapped {border: 1px dashed gray;margin: 0 0.4em 0.5em 0.4em;box-sizing: border-box;padding-bottom: 0.4em;background-color: white;}#sk-container-id-2 div.sk-label label {font-family: monospace;font-weight: bold;display: inline-block;line-height: 1.2em;}#sk-container-id-2 div.sk-label-container {text-align: center;}#sk-container-id-2 div.sk-container {/* jupyter's `normalize.less` sets `[hidden] { display: none; }` but bootstrap.min.css set `[hidden] { display: none !important; }` so we also need the `!important` here to be able to override the default hidden behavior on the sphinx rendered scikit-learn.org. See: https://github.com/scikit-learn/scikit-learn/issues/21755 */display: inline-block !important;position: relative;}#sk-container-id-2 div.sk-text-repr-fallback {display: none;}</style><div id=\"sk-container-id-2\" class=\"sk-top-container\"><div class=\"sk-text-repr-fallback\"><pre>Pipeline(steps=[(&#x27;preprocessor&#x27;,\n",
       "                 ColumnTransformer(transformers=[(&#x27;numerical_features&#x27;,\n",
       "                                                  StandardScaler(),\n",
       "                                                  [&#x27;line_item_value&#x27;,\n",
       "                                                   &#x27;unit_price&#x27;, &#x27;weight&#x27;,\n",
       "                                                   &#x27;freight_cost&#x27;,\n",
       "                                                   &#x27;line_item_insurance&#x27;]),\n",
       "                                                 (&#x27;categorical_features&#x27;,\n",
       "                                                  OneHotEncoder(sparse=False),\n",
       "                                                  [&#x27;country&#x27;, &#x27;fulfill via&#x27;,\n",
       "                                                   &#x27;vendor inco term&#x27;,\n",
       "                                                   &#x27;shipment mode&#x27;, &#x27;ARV&#x27;,\n",
       "                                                   &#x27;for Adult&#x27;, &#x27;vendor&#x27;,\n",
       "                                                   &#x27;molecule/test type&#x27;,\n",
       "                                                   &#x27;dosage form&#x27;,\n",
       "                                                   &#x27;manufacturing site&#x27;])])),\n",
       "                (&#x27;rf&#x27;, RandomForestClassifier(random_state=42))])</pre><b>In a Jupyter environment, please rerun this cell to show the HTML representation or trust the notebook. <br />On GitHub, the HTML representation is unable to render, please try loading this page with nbviewer.org.</b></div><div class=\"sk-container\" hidden><div class=\"sk-item sk-dashed-wrapped\"><div class=\"sk-label-container\"><div class=\"sk-label sk-toggleable\"><input class=\"sk-toggleable__control sk-hidden--visually\" id=\"sk-estimator-id-8\" type=\"checkbox\" ><label for=\"sk-estimator-id-8\" class=\"sk-toggleable__label sk-toggleable__label-arrow\">Pipeline</label><div class=\"sk-toggleable__content\"><pre>Pipeline(steps=[(&#x27;preprocessor&#x27;,\n",
       "                 ColumnTransformer(transformers=[(&#x27;numerical_features&#x27;,\n",
       "                                                  StandardScaler(),\n",
       "                                                  [&#x27;line_item_value&#x27;,\n",
       "                                                   &#x27;unit_price&#x27;, &#x27;weight&#x27;,\n",
       "                                                   &#x27;freight_cost&#x27;,\n",
       "                                                   &#x27;line_item_insurance&#x27;]),\n",
       "                                                 (&#x27;categorical_features&#x27;,\n",
       "                                                  OneHotEncoder(sparse=False),\n",
       "                                                  [&#x27;country&#x27;, &#x27;fulfill via&#x27;,\n",
       "                                                   &#x27;vendor inco term&#x27;,\n",
       "                                                   &#x27;shipment mode&#x27;, &#x27;ARV&#x27;,\n",
       "                                                   &#x27;for Adult&#x27;, &#x27;vendor&#x27;,\n",
       "                                                   &#x27;molecule/test type&#x27;,\n",
       "                                                   &#x27;dosage form&#x27;,\n",
       "                                                   &#x27;manufacturing site&#x27;])])),\n",
       "                (&#x27;rf&#x27;, RandomForestClassifier(random_state=42))])</pre></div></div></div><div class=\"sk-serial\"><div class=\"sk-item sk-dashed-wrapped\"><div class=\"sk-label-container\"><div class=\"sk-label sk-toggleable\"><input class=\"sk-toggleable__control sk-hidden--visually\" id=\"sk-estimator-id-9\" type=\"checkbox\" ><label for=\"sk-estimator-id-9\" class=\"sk-toggleable__label sk-toggleable__label-arrow\">preprocessor: ColumnTransformer</label><div class=\"sk-toggleable__content\"><pre>ColumnTransformer(transformers=[(&#x27;numerical_features&#x27;, StandardScaler(),\n",
       "                                 [&#x27;line_item_value&#x27;, &#x27;unit_price&#x27;, &#x27;weight&#x27;,\n",
       "                                  &#x27;freight_cost&#x27;, &#x27;line_item_insurance&#x27;]),\n",
       "                                (&#x27;categorical_features&#x27;,\n",
       "                                 OneHotEncoder(sparse=False),\n",
       "                                 [&#x27;country&#x27;, &#x27;fulfill via&#x27;, &#x27;vendor inco term&#x27;,\n",
       "                                  &#x27;shipment mode&#x27;, &#x27;ARV&#x27;, &#x27;for Adult&#x27;, &#x27;vendor&#x27;,\n",
       "                                  &#x27;molecule/test type&#x27;, &#x27;dosage form&#x27;,\n",
       "                                  &#x27;manufacturing site&#x27;])])</pre></div></div></div><div class=\"sk-parallel\"><div class=\"sk-parallel-item\"><div class=\"sk-item\"><div class=\"sk-label-container\"><div class=\"sk-label sk-toggleable\"><input class=\"sk-toggleable__control sk-hidden--visually\" id=\"sk-estimator-id-10\" type=\"checkbox\" ><label for=\"sk-estimator-id-10\" class=\"sk-toggleable__label sk-toggleable__label-arrow\">numerical_features</label><div class=\"sk-toggleable__content\"><pre>[&#x27;line_item_value&#x27;, &#x27;unit_price&#x27;, &#x27;weight&#x27;, &#x27;freight_cost&#x27;, &#x27;line_item_insurance&#x27;]</pre></div></div></div><div class=\"sk-serial\"><div class=\"sk-item\"><div class=\"sk-estimator sk-toggleable\"><input class=\"sk-toggleable__control sk-hidden--visually\" id=\"sk-estimator-id-11\" type=\"checkbox\" ><label for=\"sk-estimator-id-11\" class=\"sk-toggleable__label sk-toggleable__label-arrow\">StandardScaler</label><div class=\"sk-toggleable__content\"><pre>StandardScaler()</pre></div></div></div></div></div></div><div class=\"sk-parallel-item\"><div class=\"sk-item\"><div class=\"sk-label-container\"><div class=\"sk-label sk-toggleable\"><input class=\"sk-toggleable__control sk-hidden--visually\" id=\"sk-estimator-id-12\" type=\"checkbox\" ><label for=\"sk-estimator-id-12\" class=\"sk-toggleable__label sk-toggleable__label-arrow\">categorical_features</label><div class=\"sk-toggleable__content\"><pre>[&#x27;country&#x27;, &#x27;fulfill via&#x27;, &#x27;vendor inco term&#x27;, &#x27;shipment mode&#x27;, &#x27;ARV&#x27;, &#x27;for Adult&#x27;, &#x27;vendor&#x27;, &#x27;molecule/test type&#x27;, &#x27;dosage form&#x27;, &#x27;manufacturing site&#x27;]</pre></div></div></div><div class=\"sk-serial\"><div class=\"sk-item\"><div class=\"sk-estimator sk-toggleable\"><input class=\"sk-toggleable__control sk-hidden--visually\" id=\"sk-estimator-id-13\" type=\"checkbox\" ><label for=\"sk-estimator-id-13\" class=\"sk-toggleable__label sk-toggleable__label-arrow\">OneHotEncoder</label><div class=\"sk-toggleable__content\"><pre>OneHotEncoder(sparse=False)</pre></div></div></div></div></div></div></div></div><div class=\"sk-item\"><div class=\"sk-estimator sk-toggleable\"><input class=\"sk-toggleable__control sk-hidden--visually\" id=\"sk-estimator-id-14\" type=\"checkbox\" ><label for=\"sk-estimator-id-14\" class=\"sk-toggleable__label sk-toggleable__label-arrow\">RandomForestClassifier</label><div class=\"sk-toggleable__content\"><pre>RandomForestClassifier(random_state=42)</pre></div></div></div></div></div></div></div>"
      ],
      "text/plain": [
       "Pipeline(steps=[('preprocessor',\n",
       "                 ColumnTransformer(transformers=[('numerical_features',\n",
       "                                                  StandardScaler(),\n",
       "                                                  ['line_item_value',\n",
       "                                                   'unit_price', 'weight',\n",
       "                                                   'freight_cost',\n",
       "                                                   'line_item_insurance']),\n",
       "                                                 ('categorical_features',\n",
       "                                                  OneHotEncoder(sparse=False),\n",
       "                                                  ['country', 'fulfill via',\n",
       "                                                   'vendor inco term',\n",
       "                                                   'shipment mode', 'ARV',\n",
       "                                                   'for Adult', 'vendor',\n",
       "                                                   'molecule/test type',\n",
       "                                                   'dosage form',\n",
       "                                                   'manufacturing site'])])),\n",
       "                ('rf', RandomForestClassifier(random_state=42))])"
      ]
     },
     "execution_count": 54,
     "metadata": {},
     "output_type": "execute_result"
    }
   ],
   "source": [
    "numerical_features = ['line_item_value', 'unit_price', 'weight', 'freight_cost', 'line_item_insurance']\n",
    "categorical_features = ['country', 'fulfill via', 'vendor inco term', 'shipment mode', 'ARV',\n",
    "                         'for Adult', 'vendor', 'molecule/test type', 'dosage form', 'manufacturing site']\n",
    "preprocessor = ColumnTransformer(\n",
    "    transformers=[\n",
    "        ('numerical_features', StandardScaler(), numerical_features),\n",
    "        ('categorical_features', OneHotEncoder(sparse=False), categorical_features),])\n",
    "rf_model = Pipeline([\n",
    "    ('preprocessor', preprocessor),\n",
    "    ('rf', RandomForestClassifier(random_state=42))\n",
    "])\n",
    "parameters = {\n",
    "    'rf__n_estimators': [100, 200, 300],  \n",
    "    'rf__max_depth': [None, 10],       \n",
    "    'rf__min_samples_split': [2, 7, 10], \n",
    "    'rf__min_samples_leaf': [ 2, 4]    }\n",
    "\n",
    "grid_search_RF= GridSearchCV(rf_model, parameters, cv=5, scoring='accuracy')\n",
    "grid_search_RF.fit(X_train, y_train)\n",
    "rf_model.fit(X_train, y_train)"
   ]
  },
  {
   "cell_type": "code",
   "execution_count": 385,
   "id": "f79ce5ec",
   "metadata": {
    "scrolled": true
   },
   "outputs": [
    {
     "data": {
      "text/plain": [
       "0.9982009410462219"
      ]
     },
     "execution_count": 385,
     "metadata": {},
     "output_type": "execute_result"
    }
   ],
   "source": [
    "# accuracy_score(y_train, rf_model.predict(X_train)) 0.9982009410462219"
   ]
  },
  {
   "cell_type": "code",
   "execution_count": 68,
   "id": "40a77066",
   "metadata": {},
   "outputs": [
    {
     "name": "stderr",
     "output_type": "stream",
     "text": [
      "C:\\Users\\Lenovo\\anaconda3\\lib\\site-packages\\sklearn\\preprocessing\\_encoders.py:975: FutureWarning: `sparse` was renamed to `sparse_output` in version 1.2 and will be removed in 1.4. `sparse_output` is ignored unless you leave `sparse` to its default value.\n",
      "  warnings.warn(\n"
     ]
    },
    {
     "data": {
      "text/plain": [
       "0.9977857735953501"
      ]
     },
     "execution_count": 68,
     "metadata": {},
     "output_type": "execute_result"
    }
   ],
   "source": [
    "X_train, X_test, y_train, y_test = train_test_split(X, y, test_size=0.3, random_state=9)\n",
    "rf_model.fit(X_train, y_train)\n",
    "accuracy_score(y_train, rf_model.predict(X_train))"
   ]
  },
  {
   "cell_type": "code",
   "execution_count": 56,
   "id": "099c35af",
   "metadata": {
    "scrolled": true
   },
   "outputs": [
    {
     "data": {
      "text/plain": [
       "0.9982009410462219"
      ]
     },
     "execution_count": 56,
     "metadata": {},
     "output_type": "execute_result"
    }
   ],
   "source": [
    "accuracy_score(y_train, rf_model.predict(X_train))"
   ]
  },
  {
   "cell_type": "code",
   "execution_count": 396,
   "id": "a8f938e4",
   "metadata": {
    "scrolled": true
   },
   "outputs": [
    {
     "name": "stdout",
     "output_type": "stream",
     "text": [
      "Accuracy= 0.881213686249193\n"
     ]
    }
   ],
   "source": [
    "y_pred = rf_model.predict(X_test)\n",
    "# Evaluate the accuracy\n",
    "accuracy = accuracy_score(y_test, y_pred)\n",
    "print('Accuracy=',accuracy)"
   ]
  },
  {
   "cell_type": "code",
   "execution_count": 76,
   "id": "e7e187cb",
   "metadata": {},
   "outputs": [
    {
     "data": {
      "text/plain": [
       "{'rf__max_depth': 10,\n",
       " 'rf__min_samples_leaf': 2,\n",
       " 'rf__min_samples_split': 10,\n",
       " 'rf__n_estimators': 200}"
      ]
     },
     "execution_count": 76,
     "metadata": {},
     "output_type": "execute_result"
    }
   ],
   "source": [
    " grid_search_RF.best_params_"
   ]
  },
  {
   "cell_type": "code",
   "execution_count": 55,
   "id": "99902cd7",
   "metadata": {},
   "outputs": [
    {
     "name": "stdout",
     "output_type": "stream",
     "text": [
      "Accuracy: 0.8837959974176889\n",
      "Precision: 0.8224352856727055\n",
      "Recall: 0.8837959974176889\n",
      "F1 Score: 0.8329127506362681\n"
     ]
    }
   ],
   "source": [
    "categorical_f =  [\n",
    "    'country', 'fulfill via', 'vendor inco term', 'shipment mode', 'ARV',\n",
    "       'for Adult', 'vendor', 'molecule/test type', 'dosage form',\n",
    "       'manufacturing site']\n",
    "numerical_f = X.columns.difference(categorical_features)\n",
    "preprocessor = ColumnTransformer(\n",
    "                transformers=[\n",
    "                ('for numerical_f',MinMaxScaler(), numerical_f ),\n",
    "                ('for categorical_f',OneHotEncoder(), categorical_f)\n",
    "                ]) \n",
    "model_rf = Pipeline([\n",
    "    ('preprocessor', preprocessor),\n",
    "    ('dt',RandomForestClassifier(\n",
    "        max_depth=10,min_samples_leaf=2,min_samples_split=10,n_estimators=200 ))  ])\n",
    "model_rf.fit(X_train, y_train)\n",
    "\n",
    "y_pred_rf = model_rf.predict(X_test)\n",
    "\n",
    "accuracy = accuracy_score(y_test, y_pred_rf)\n",
    "precision = precision_score(y_test, y_pred_rf, average='weighted')\n",
    "recall = recall_score(y_test, y_pred_rf, average='weighted')\n",
    "f1 = f1_score(y_test, y_pred_rf, average='weighted')\n",
    "\n",
    "print(\"Accuracy:\", accuracy)\n",
    "print(\"Precision:\", precision)\n",
    "print(\"Recall:\", recall)\n",
    "print(\"F1 Score:\", f1)\n"
   ]
  }
 ],
 "metadata": {
  "kernelspec": {
   "display_name": "Python 3 (ipykernel)",
   "language": "python",
   "name": "python3"
  },
  "language_info": {
   "codemirror_mode": {
    "name": "ipython",
    "version": 3
   },
   "file_extension": ".py",
   "mimetype": "text/x-python",
   "name": "python",
   "nbconvert_exporter": "python",
   "pygments_lexer": "ipython3",
   "version": "3.9.7"
  }
 },
 "nbformat": 4,
 "nbformat_minor": 5
}
